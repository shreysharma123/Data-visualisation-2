{
  "nbformat": 4,
  "nbformat_minor": 0,
  "metadata": {
    "colab": {
      "name": "Untitled0.ipynb",
      "version": "0.3.2",
      "provenance": [],
      "collapsed_sections": [
        "FhyEgOW1CBqD"
      ],
      "toc_visible": true,
      "include_colab_link": true
    },
    "kernelspec": {
      "name": "python3",
      "display_name": "Python 3"
    },
    "accelerator": "GPU"
  },
  "cells": [
    {
      "cell_type": "markdown",
      "metadata": {
        "id": "view-in-github",
        "colab_type": "text"
      },
      "source": [
        "<a href=\"https://colab.research.google.com/github/shreysharma123/Data-visualisation-2/blob/master/Machine%20Learning%20Project.ipynb\" target=\"_parent\"><img src=\"https://colab.research.google.com/assets/colab-badge.svg\" alt=\"Open In Colab\"/></a>"
      ]
    },
    {
      "cell_type": "markdown",
      "metadata": {
        "id": "RAXEVnl8zqSV",
        "colab_type": "text"
      },
      "source": [
        "#MACHINE LEARNING PROJECT - PHASE 2\n",
        "\n",
        "---\n",
        "*PREDICTING WEATHER THE  CLIENT WILL SUBSCRIBE A TERM DEPOSIT!*\n",
        "\n",
        "\n",
        "\n",
        "\n",
        "\n"
      ]
    },
    {
      "cell_type": "markdown",
      "metadata": {
        "id": "FhyEgOW1CBqD",
        "colab_type": "text"
      },
      "source": [
        "# **DATA PRE-PROCESSING AND TRANSFORMING (PHASE 1)**"
      ]
    },
    {
      "cell_type": "code",
      "metadata": {
        "id": "Z3te-zPUZiix",
        "colab_type": "code",
        "outputId": "659e62e6-61d9-4dc6-fd87-a07d5e7dde9b",
        "colab": {
          "base_uri": "https://localhost:8080/",
          "height": 204
        }
      },
      "source": [
        "bankdata = pd.read_csv('phpkIxskf.csv')\n",
        "bankdata.head(5)"
      ],
      "execution_count": 0,
      "outputs": [
        {
          "output_type": "execute_result",
          "data": {
            "text/html": [
              "<div>\n",
              "<style scoped>\n",
              "    .dataframe tbody tr th:only-of-type {\n",
              "        vertical-align: middle;\n",
              "    }\n",
              "\n",
              "    .dataframe tbody tr th {\n",
              "        vertical-align: top;\n",
              "    }\n",
              "\n",
              "    .dataframe thead th {\n",
              "        text-align: right;\n",
              "    }\n",
              "</style>\n",
              "<table border=\"1\" class=\"dataframe\">\n",
              "  <thead>\n",
              "    <tr style=\"text-align: right;\">\n",
              "      <th></th>\n",
              "      <th>V1</th>\n",
              "      <th>V2</th>\n",
              "      <th>V3</th>\n",
              "      <th>V4</th>\n",
              "      <th>V5</th>\n",
              "      <th>V6</th>\n",
              "      <th>V7</th>\n",
              "      <th>V8</th>\n",
              "      <th>V9</th>\n",
              "      <th>V10</th>\n",
              "      <th>V11</th>\n",
              "      <th>V12</th>\n",
              "      <th>V13</th>\n",
              "      <th>V14</th>\n",
              "      <th>V15</th>\n",
              "      <th>V16</th>\n",
              "      <th>Class</th>\n",
              "    </tr>\n",
              "  </thead>\n",
              "  <tbody>\n",
              "    <tr>\n",
              "      <th>0</th>\n",
              "      <td>58</td>\n",
              "      <td>management</td>\n",
              "      <td>married</td>\n",
              "      <td>tertiary</td>\n",
              "      <td>no</td>\n",
              "      <td>2143</td>\n",
              "      <td>yes</td>\n",
              "      <td>no</td>\n",
              "      <td>unknown</td>\n",
              "      <td>5</td>\n",
              "      <td>may</td>\n",
              "      <td>261</td>\n",
              "      <td>1</td>\n",
              "      <td>-1</td>\n",
              "      <td>0</td>\n",
              "      <td>unknown</td>\n",
              "      <td>1</td>\n",
              "    </tr>\n",
              "    <tr>\n",
              "      <th>1</th>\n",
              "      <td>44</td>\n",
              "      <td>technician</td>\n",
              "      <td>single</td>\n",
              "      <td>secondary</td>\n",
              "      <td>no</td>\n",
              "      <td>29</td>\n",
              "      <td>yes</td>\n",
              "      <td>no</td>\n",
              "      <td>unknown</td>\n",
              "      <td>5</td>\n",
              "      <td>may</td>\n",
              "      <td>151</td>\n",
              "      <td>1</td>\n",
              "      <td>-1</td>\n",
              "      <td>0</td>\n",
              "      <td>unknown</td>\n",
              "      <td>1</td>\n",
              "    </tr>\n",
              "    <tr>\n",
              "      <th>2</th>\n",
              "      <td>33</td>\n",
              "      <td>entrepreneur</td>\n",
              "      <td>married</td>\n",
              "      <td>secondary</td>\n",
              "      <td>no</td>\n",
              "      <td>2</td>\n",
              "      <td>yes</td>\n",
              "      <td>yes</td>\n",
              "      <td>unknown</td>\n",
              "      <td>5</td>\n",
              "      <td>may</td>\n",
              "      <td>76</td>\n",
              "      <td>1</td>\n",
              "      <td>-1</td>\n",
              "      <td>0</td>\n",
              "      <td>unknown</td>\n",
              "      <td>1</td>\n",
              "    </tr>\n",
              "    <tr>\n",
              "      <th>3</th>\n",
              "      <td>47</td>\n",
              "      <td>blue-collar</td>\n",
              "      <td>married</td>\n",
              "      <td>unknown</td>\n",
              "      <td>no</td>\n",
              "      <td>1506</td>\n",
              "      <td>yes</td>\n",
              "      <td>no</td>\n",
              "      <td>unknown</td>\n",
              "      <td>5</td>\n",
              "      <td>may</td>\n",
              "      <td>92</td>\n",
              "      <td>1</td>\n",
              "      <td>-1</td>\n",
              "      <td>0</td>\n",
              "      <td>unknown</td>\n",
              "      <td>1</td>\n",
              "    </tr>\n",
              "    <tr>\n",
              "      <th>4</th>\n",
              "      <td>33</td>\n",
              "      <td>unknown</td>\n",
              "      <td>single</td>\n",
              "      <td>unknown</td>\n",
              "      <td>no</td>\n",
              "      <td>1</td>\n",
              "      <td>no</td>\n",
              "      <td>no</td>\n",
              "      <td>unknown</td>\n",
              "      <td>5</td>\n",
              "      <td>may</td>\n",
              "      <td>198</td>\n",
              "      <td>1</td>\n",
              "      <td>-1</td>\n",
              "      <td>0</td>\n",
              "      <td>unknown</td>\n",
              "      <td>1</td>\n",
              "    </tr>\n",
              "  </tbody>\n",
              "</table>\n",
              "</div>"
            ],
            "text/plain": [
              "   V1            V2       V3         V4  V5  ...  V13 V14 V15      V16  Class\n",
              "0  58    management  married   tertiary  no  ...    1  -1   0  unknown      1\n",
              "1  44    technician   single  secondary  no  ...    1  -1   0  unknown      1\n",
              "2  33  entrepreneur  married  secondary  no  ...    1  -1   0  unknown      1\n",
              "3  47   blue-collar  married    unknown  no  ...    1  -1   0  unknown      1\n",
              "4  33       unknown   single    unknown  no  ...    1  -1   0  unknown      1\n",
              "\n",
              "[5 rows x 17 columns]"
            ]
          },
          "metadata": {
            "tags": []
          },
          "execution_count": 5
        }
      ]
    },
    {
      "cell_type": "code",
      "metadata": {
        "id": "MB1wAP9LbVQ8",
        "colab_type": "code",
        "outputId": "0cd86e9f-b95d-4403-e342-8f2eaac04d4d",
        "colab": {
          "base_uri": "https://localhost:8080/",
          "height": 34
        }
      },
      "source": [
        "bankdata.shape"
      ],
      "execution_count": 0,
      "outputs": [
        {
          "output_type": "execute_result",
          "data": {
            "text/plain": [
              "(45211, 17)"
            ]
          },
          "metadata": {
            "tags": []
          },
          "execution_count": 6
        }
      ]
    },
    {
      "cell_type": "markdown",
      "metadata": {
        "id": "GWl0u81_7zXP",
        "colab_type": "text"
      },
      "source": [
        "This shows that the original dataset contains 45211 different indexes with 17 varied features."
      ]
    },
    {
      "cell_type": "markdown",
      "metadata": {
        "id": "tsV3gSMabhfv",
        "colab_type": "text"
      },
      "source": [
        "**Rename all the column names accordingly**\n",
        "\n",
        "To clarify all the column names we'll raname it with their associated names given in the dataset description."
      ]
    },
    {
      "cell_type": "code",
      "metadata": {
        "id": "BncNgDMebkXp",
        "colab_type": "code",
        "outputId": "7d27cb1a-cec6-49ff-b4f9-41f09c09aa43",
        "colab": {
          "base_uri": "https://localhost:8080/",
          "height": 447
        }
      },
      "source": [
        " bankdata.rename(columns={'V1':'age',\n",
        "                          'V2':'job',\n",
        "                          'V3':'marital',\n",
        "                        'V4':'education',\n",
        "                        'V5':'credit_default',\n",
        "                        'V6':'balance',\n",
        "                        'V7':'housing',\n",
        "                        'V8':'loan',\n",
        "                        'V9':'contact',\n",
        "                        'V10':'day',\n",
        "                        'V11':'month',\n",
        "                        'V12':'duration',\n",
        "                        'V13':'campaign',\n",
        "                        'V14':'pdays',\n",
        "                        'V15':'previous',\n",
        "                        'V16':'poutcome',\n",
        "                         'Class':'term_deposit'\n",
        "                        }, \n",
        "                 inplace=True)\n",
        "bankdata.head(10)\n",
        "print(bankdata.columns)"
      ],
      "execution_count": 0,
      "outputs": [
        {
          "output_type": "execute_result",
          "data": {
            "text/html": [
              "<div>\n",
              "<style scoped>\n",
              "    .dataframe tbody tr th:only-of-type {\n",
              "        vertical-align: middle;\n",
              "    }\n",
              "\n",
              "    .dataframe tbody tr th {\n",
              "        vertical-align: top;\n",
              "    }\n",
              "\n",
              "    .dataframe thead th {\n",
              "        text-align: right;\n",
              "    }\n",
              "</style>\n",
              "<table border=\"1\" class=\"dataframe\">\n",
              "  <thead>\n",
              "    <tr style=\"text-align: right;\">\n",
              "      <th></th>\n",
              "      <th>age</th>\n",
              "      <th>job</th>\n",
              "      <th>marital</th>\n",
              "      <th>education</th>\n",
              "      <th>credit_default</th>\n",
              "      <th>balance</th>\n",
              "      <th>housing</th>\n",
              "      <th>loan</th>\n",
              "      <th>contact</th>\n",
              "      <th>day</th>\n",
              "      <th>month</th>\n",
              "      <th>duration</th>\n",
              "      <th>campaign</th>\n",
              "      <th>pdays</th>\n",
              "      <th>previous</th>\n",
              "      <th>poutcome</th>\n",
              "      <th>term_deposit</th>\n",
              "    </tr>\n",
              "  </thead>\n",
              "  <tbody>\n",
              "    <tr>\n",
              "      <th>0</th>\n",
              "      <td>58</td>\n",
              "      <td>management</td>\n",
              "      <td>married</td>\n",
              "      <td>tertiary</td>\n",
              "      <td>no</td>\n",
              "      <td>2143</td>\n",
              "      <td>yes</td>\n",
              "      <td>no</td>\n",
              "      <td>unknown</td>\n",
              "      <td>5</td>\n",
              "      <td>may</td>\n",
              "      <td>261</td>\n",
              "      <td>1</td>\n",
              "      <td>-1</td>\n",
              "      <td>0</td>\n",
              "      <td>unknown</td>\n",
              "      <td>1</td>\n",
              "    </tr>\n",
              "    <tr>\n",
              "      <th>1</th>\n",
              "      <td>44</td>\n",
              "      <td>technician</td>\n",
              "      <td>single</td>\n",
              "      <td>secondary</td>\n",
              "      <td>no</td>\n",
              "      <td>29</td>\n",
              "      <td>yes</td>\n",
              "      <td>no</td>\n",
              "      <td>unknown</td>\n",
              "      <td>5</td>\n",
              "      <td>may</td>\n",
              "      <td>151</td>\n",
              "      <td>1</td>\n",
              "      <td>-1</td>\n",
              "      <td>0</td>\n",
              "      <td>unknown</td>\n",
              "      <td>1</td>\n",
              "    </tr>\n",
              "    <tr>\n",
              "      <th>2</th>\n",
              "      <td>33</td>\n",
              "      <td>entrepreneur</td>\n",
              "      <td>married</td>\n",
              "      <td>secondary</td>\n",
              "      <td>no</td>\n",
              "      <td>2</td>\n",
              "      <td>yes</td>\n",
              "      <td>yes</td>\n",
              "      <td>unknown</td>\n",
              "      <td>5</td>\n",
              "      <td>may</td>\n",
              "      <td>76</td>\n",
              "      <td>1</td>\n",
              "      <td>-1</td>\n",
              "      <td>0</td>\n",
              "      <td>unknown</td>\n",
              "      <td>1</td>\n",
              "    </tr>\n",
              "    <tr>\n",
              "      <th>3</th>\n",
              "      <td>47</td>\n",
              "      <td>blue-collar</td>\n",
              "      <td>married</td>\n",
              "      <td>unknown</td>\n",
              "      <td>no</td>\n",
              "      <td>1506</td>\n",
              "      <td>yes</td>\n",
              "      <td>no</td>\n",
              "      <td>unknown</td>\n",
              "      <td>5</td>\n",
              "      <td>may</td>\n",
              "      <td>92</td>\n",
              "      <td>1</td>\n",
              "      <td>-1</td>\n",
              "      <td>0</td>\n",
              "      <td>unknown</td>\n",
              "      <td>1</td>\n",
              "    </tr>\n",
              "    <tr>\n",
              "      <th>4</th>\n",
              "      <td>33</td>\n",
              "      <td>unknown</td>\n",
              "      <td>single</td>\n",
              "      <td>unknown</td>\n",
              "      <td>no</td>\n",
              "      <td>1</td>\n",
              "      <td>no</td>\n",
              "      <td>no</td>\n",
              "      <td>unknown</td>\n",
              "      <td>5</td>\n",
              "      <td>may</td>\n",
              "      <td>198</td>\n",
              "      <td>1</td>\n",
              "      <td>-1</td>\n",
              "      <td>0</td>\n",
              "      <td>unknown</td>\n",
              "      <td>1</td>\n",
              "    </tr>\n",
              "    <tr>\n",
              "      <th>5</th>\n",
              "      <td>35</td>\n",
              "      <td>management</td>\n",
              "      <td>married</td>\n",
              "      <td>tertiary</td>\n",
              "      <td>no</td>\n",
              "      <td>231</td>\n",
              "      <td>yes</td>\n",
              "      <td>no</td>\n",
              "      <td>unknown</td>\n",
              "      <td>5</td>\n",
              "      <td>may</td>\n",
              "      <td>139</td>\n",
              "      <td>1</td>\n",
              "      <td>-1</td>\n",
              "      <td>0</td>\n",
              "      <td>unknown</td>\n",
              "      <td>1</td>\n",
              "    </tr>\n",
              "    <tr>\n",
              "      <th>6</th>\n",
              "      <td>28</td>\n",
              "      <td>management</td>\n",
              "      <td>single</td>\n",
              "      <td>tertiary</td>\n",
              "      <td>no</td>\n",
              "      <td>447</td>\n",
              "      <td>yes</td>\n",
              "      <td>yes</td>\n",
              "      <td>unknown</td>\n",
              "      <td>5</td>\n",
              "      <td>may</td>\n",
              "      <td>217</td>\n",
              "      <td>1</td>\n",
              "      <td>-1</td>\n",
              "      <td>0</td>\n",
              "      <td>unknown</td>\n",
              "      <td>1</td>\n",
              "    </tr>\n",
              "    <tr>\n",
              "      <th>7</th>\n",
              "      <td>42</td>\n",
              "      <td>entrepreneur</td>\n",
              "      <td>divorced</td>\n",
              "      <td>tertiary</td>\n",
              "      <td>yes</td>\n",
              "      <td>2</td>\n",
              "      <td>yes</td>\n",
              "      <td>no</td>\n",
              "      <td>unknown</td>\n",
              "      <td>5</td>\n",
              "      <td>may</td>\n",
              "      <td>380</td>\n",
              "      <td>1</td>\n",
              "      <td>-1</td>\n",
              "      <td>0</td>\n",
              "      <td>unknown</td>\n",
              "      <td>1</td>\n",
              "    </tr>\n",
              "    <tr>\n",
              "      <th>8</th>\n",
              "      <td>58</td>\n",
              "      <td>retired</td>\n",
              "      <td>married</td>\n",
              "      <td>primary</td>\n",
              "      <td>no</td>\n",
              "      <td>121</td>\n",
              "      <td>yes</td>\n",
              "      <td>no</td>\n",
              "      <td>unknown</td>\n",
              "      <td>5</td>\n",
              "      <td>may</td>\n",
              "      <td>50</td>\n",
              "      <td>1</td>\n",
              "      <td>-1</td>\n",
              "      <td>0</td>\n",
              "      <td>unknown</td>\n",
              "      <td>1</td>\n",
              "    </tr>\n",
              "    <tr>\n",
              "      <th>9</th>\n",
              "      <td>43</td>\n",
              "      <td>technician</td>\n",
              "      <td>single</td>\n",
              "      <td>secondary</td>\n",
              "      <td>no</td>\n",
              "      <td>593</td>\n",
              "      <td>yes</td>\n",
              "      <td>no</td>\n",
              "      <td>unknown</td>\n",
              "      <td>5</td>\n",
              "      <td>may</td>\n",
              "      <td>55</td>\n",
              "      <td>1</td>\n",
              "      <td>-1</td>\n",
              "      <td>0</td>\n",
              "      <td>unknown</td>\n",
              "      <td>1</td>\n",
              "    </tr>\n",
              "  </tbody>\n",
              "</table>\n",
              "</div>"
            ],
            "text/plain": [
              "   age           job   marital  ... previous poutcome  term_deposit\n",
              "0   58    management   married  ...        0  unknown             1\n",
              "1   44    technician    single  ...        0  unknown             1\n",
              "2   33  entrepreneur   married  ...        0  unknown             1\n",
              "3   47   blue-collar   married  ...        0  unknown             1\n",
              "4   33       unknown    single  ...        0  unknown             1\n",
              "5   35    management   married  ...        0  unknown             1\n",
              "6   28    management    single  ...        0  unknown             1\n",
              "7   42  entrepreneur  divorced  ...        0  unknown             1\n",
              "8   58       retired   married  ...        0  unknown             1\n",
              "9   43    technician    single  ...        0  unknown             1\n",
              "\n",
              "[10 rows x 17 columns]"
            ]
          },
          "metadata": {
            "tags": []
          },
          "execution_count": 7
        },
        {
          "output_type": "stream",
          "text": [
            "Index(['age', 'job', 'marital', 'education', 'credit_default', 'balance',\n",
            "       'housing', 'loan', 'contact', 'day', 'month', 'duration', 'campaign',\n",
            "       'pdays', 'previous', 'poutcome', 'term_deposit'],\n",
            "      dtype='object')\n"
          ],
          "name": "stdout"
        }
      ]
    },
    {
      "cell_type": "markdown",
      "metadata": {
        "id": "be550wMQh4Ic",
        "colab_type": "text"
      },
      "source": [
        "**Check null values for each columns **\n",
        "\n",
        "We'll check weather there is any null value present in the dataset , we'll use isnull() function to detect null values and sum() function to sum all the null values and print it.\n"
      ]
    },
    {
      "cell_type": "code",
      "metadata": {
        "id": "zuWyOyBhh-Wq",
        "colab_type": "code",
        "outputId": "4abaf0e1-23c6-4109-cd6b-21069ddfd42e",
        "colab": {
          "base_uri": "https://localhost:8080/",
          "height": 34
        }
      },
      "source": [
        "column_null = {col: bankdata[col].isnull().sum() for col in  \\\n",
        "             bankdata.columns if bankdata[col].isnull().sum() > 0}\n",
        "print(column_null)"
      ],
      "execution_count": 0,
      "outputs": [
        {
          "output_type": "stream",
          "text": [
            "{}\n"
          ],
          "name": "stdout"
        }
      ]
    },
    {
      "cell_type": "markdown",
      "metadata": {
        "id": "X4mTKzZ9inWQ",
        "colab_type": "text"
      },
      "source": [
        "As we can see there are no null values present in any of the columns present in this dataset.\n"
      ]
    },
    {
      "cell_type": "markdown",
      "metadata": {
        "id": "c8X2jU4ajdCQ",
        "colab_type": "text"
      },
      "source": [
        "**Discretize 'Age' Column **\n",
        "\n",
        "---\n",
        "\n"
      ]
    },
    {
      "cell_type": "markdown",
      "metadata": {
        "id": "7IMBEQkjklPz",
        "colab_type": "text"
      },
      "source": [
        "Discretize numeric feature 'Age' into a categorical feature . We'll discretize 'Age' feature into 'young' , and 'old'. So , we'll use equal binning to discretize this feature .\n",
        "Make a copy of original dataset.\n",
        "\n",
        "Firstly, We'll see the value counts of 'age' feature"
      ]
    },
    {
      "cell_type": "code",
      "metadata": {
        "id": "XK5LmR2PmfrQ",
        "colab_type": "code",
        "outputId": "6a635132-6db4-484a-be46-e8bdafda6b7a",
        "colab": {
          "base_uri": "https://localhost:8080/",
          "height": 1071
        }
      },
      "source": [
        "bankdata['age'].value_counts()"
      ],
      "execution_count": 0,
      "outputs": [
        {
          "output_type": "execute_result",
          "data": {
            "text/plain": [
              "32    2085\n",
              "31    1996\n",
              "33    1972\n",
              "34    1930\n",
              "35    1894\n",
              "36    1806\n",
              "30    1757\n",
              "37    1696\n",
              "39    1487\n",
              "38    1466\n",
              "40    1355\n",
              "41    1291\n",
              "42    1242\n",
              "45    1216\n",
              "29    1185\n",
              "46    1175\n",
              "43    1161\n",
              "44    1136\n",
              "47    1088\n",
              "28    1038\n",
              "48     997\n",
              "49     994\n",
              "50     939\n",
              "51     936\n",
              "52     911\n",
              "27     909\n",
              "53     891\n",
              "57     828\n",
              "54     811\n",
              "55     806\n",
              "      ... \n",
              "67      54\n",
              "71      54\n",
              "72      52\n",
              "20      50\n",
              "77      44\n",
              "73      44\n",
              "69      44\n",
              "75      39\n",
              "74      37\n",
              "68      36\n",
              "19      35\n",
              "76      32\n",
              "80      31\n",
              "78      30\n",
              "79      25\n",
              "83      22\n",
              "82      19\n",
              "81      17\n",
              "18      12\n",
              "84       9\n",
              "86       9\n",
              "85       5\n",
              "87       4\n",
              "89       3\n",
              "88       2\n",
              "90       2\n",
              "92       2\n",
              "93       2\n",
              "95       2\n",
              "94       1\n",
              "Name: age, Length: 77, dtype: int64"
            ]
          },
          "metadata": {
            "tags": []
          },
          "execution_count": 9
        }
      ]
    },
    {
      "cell_type": "code",
      "metadata": {
        "id": "kVG4d66antlI",
        "colab_type": "code",
        "outputId": "44bc3ad5-2837-4aab-8db5-92625602c1db",
        "colab": {
          "base_uri": "https://localhost:8080/",
          "height": 68
        }
      },
      "source": [
        "bankdata_Copy1 = bankdata.copy()\n",
        "bankdata_Copy1['age'] = pd.qcut(bankdata['age'],q=2,labels=['young','old'])\n",
        "bankdata_Copy1['age'].value_counts()\n"
      ],
      "execution_count": 0,
      "outputs": [
        {
          "output_type": "execute_result",
          "data": {
            "text/plain": [
              "young    23362\n",
              "old      21849\n",
              "Name: age, dtype: int64"
            ]
          },
          "metadata": {
            "tags": []
          },
          "execution_count": 10
        }
      ]
    },
    {
      "cell_type": "markdown",
      "metadata": {
        "id": "SzOCEJcigKOJ",
        "colab_type": "text"
      },
      "source": [
        "**Transforming 'Age'  feature into 2 binary Numeric features (One hot encoding)**"
      ]
    },
    {
      "cell_type": "markdown",
      "metadata": {
        "id": "ezS-Bt8pfGWj",
        "colab_type": "text"
      },
      "source": [
        "From the new 'age' variable ,make two numeric binary variables for relatively old age people and young age people stating weather the customer is old or young. \n",
        "We'll use 'get_dummies' function to transform the descriptive features into binary features."
      ]
    },
    {
      "cell_type": "code",
      "metadata": {
        "id": "XGKU30__5IxX",
        "colab_type": "code",
        "colab": {}
      },
      "source": [
        "bankdata_Copy1 = pd.get_dummies(bankdata_Copy1, columns=['age'])\n"
      ],
      "execution_count": 0,
      "outputs": []
    },
    {
      "cell_type": "code",
      "metadata": {
        "id": "RqjrniuG7LWY",
        "colab_type": "code",
        "outputId": "72ff98dd-25d3-494b-f17d-ffe4860b132d",
        "colab": {
          "base_uri": "https://localhost:8080/",
          "height": 224
        }
      },
      "source": [
        "bankdata_Copy1.head(5)"
      ],
      "execution_count": 0,
      "outputs": [
        {
          "output_type": "execute_result",
          "data": {
            "text/html": [
              "<div>\n",
              "<style scoped>\n",
              "    .dataframe tbody tr th:only-of-type {\n",
              "        vertical-align: middle;\n",
              "    }\n",
              "\n",
              "    .dataframe tbody tr th {\n",
              "        vertical-align: top;\n",
              "    }\n",
              "\n",
              "    .dataframe thead th {\n",
              "        text-align: right;\n",
              "    }\n",
              "</style>\n",
              "<table border=\"1\" class=\"dataframe\">\n",
              "  <thead>\n",
              "    <tr style=\"text-align: right;\">\n",
              "      <th></th>\n",
              "      <th>job</th>\n",
              "      <th>marital</th>\n",
              "      <th>education</th>\n",
              "      <th>credit_default</th>\n",
              "      <th>balance</th>\n",
              "      <th>housing</th>\n",
              "      <th>loan</th>\n",
              "      <th>contact</th>\n",
              "      <th>day</th>\n",
              "      <th>month</th>\n",
              "      <th>duration</th>\n",
              "      <th>campaign</th>\n",
              "      <th>pdays</th>\n",
              "      <th>previous</th>\n",
              "      <th>poutcome</th>\n",
              "      <th>term_deposit</th>\n",
              "      <th>age_young</th>\n",
              "      <th>age_old</th>\n",
              "    </tr>\n",
              "  </thead>\n",
              "  <tbody>\n",
              "    <tr>\n",
              "      <th>0</th>\n",
              "      <td>management</td>\n",
              "      <td>married</td>\n",
              "      <td>tertiary</td>\n",
              "      <td>no</td>\n",
              "      <td>2143</td>\n",
              "      <td>yes</td>\n",
              "      <td>no</td>\n",
              "      <td>unknown</td>\n",
              "      <td>5</td>\n",
              "      <td>may</td>\n",
              "      <td>261</td>\n",
              "      <td>1</td>\n",
              "      <td>-1</td>\n",
              "      <td>0</td>\n",
              "      <td>unknown</td>\n",
              "      <td>1</td>\n",
              "      <td>0</td>\n",
              "      <td>1</td>\n",
              "    </tr>\n",
              "    <tr>\n",
              "      <th>1</th>\n",
              "      <td>technician</td>\n",
              "      <td>single</td>\n",
              "      <td>secondary</td>\n",
              "      <td>no</td>\n",
              "      <td>29</td>\n",
              "      <td>yes</td>\n",
              "      <td>no</td>\n",
              "      <td>unknown</td>\n",
              "      <td>5</td>\n",
              "      <td>may</td>\n",
              "      <td>151</td>\n",
              "      <td>1</td>\n",
              "      <td>-1</td>\n",
              "      <td>0</td>\n",
              "      <td>unknown</td>\n",
              "      <td>1</td>\n",
              "      <td>0</td>\n",
              "      <td>1</td>\n",
              "    </tr>\n",
              "    <tr>\n",
              "      <th>2</th>\n",
              "      <td>entrepreneur</td>\n",
              "      <td>married</td>\n",
              "      <td>secondary</td>\n",
              "      <td>no</td>\n",
              "      <td>2</td>\n",
              "      <td>yes</td>\n",
              "      <td>yes</td>\n",
              "      <td>unknown</td>\n",
              "      <td>5</td>\n",
              "      <td>may</td>\n",
              "      <td>76</td>\n",
              "      <td>1</td>\n",
              "      <td>-1</td>\n",
              "      <td>0</td>\n",
              "      <td>unknown</td>\n",
              "      <td>1</td>\n",
              "      <td>1</td>\n",
              "      <td>0</td>\n",
              "    </tr>\n",
              "    <tr>\n",
              "      <th>3</th>\n",
              "      <td>blue-collar</td>\n",
              "      <td>married</td>\n",
              "      <td>unknown</td>\n",
              "      <td>no</td>\n",
              "      <td>1506</td>\n",
              "      <td>yes</td>\n",
              "      <td>no</td>\n",
              "      <td>unknown</td>\n",
              "      <td>5</td>\n",
              "      <td>may</td>\n",
              "      <td>92</td>\n",
              "      <td>1</td>\n",
              "      <td>-1</td>\n",
              "      <td>0</td>\n",
              "      <td>unknown</td>\n",
              "      <td>1</td>\n",
              "      <td>0</td>\n",
              "      <td>1</td>\n",
              "    </tr>\n",
              "    <tr>\n",
              "      <th>4</th>\n",
              "      <td>unknown</td>\n",
              "      <td>single</td>\n",
              "      <td>unknown</td>\n",
              "      <td>no</td>\n",
              "      <td>1</td>\n",
              "      <td>no</td>\n",
              "      <td>no</td>\n",
              "      <td>unknown</td>\n",
              "      <td>5</td>\n",
              "      <td>may</td>\n",
              "      <td>198</td>\n",
              "      <td>1</td>\n",
              "      <td>-1</td>\n",
              "      <td>0</td>\n",
              "      <td>unknown</td>\n",
              "      <td>1</td>\n",
              "      <td>1</td>\n",
              "      <td>0</td>\n",
              "    </tr>\n",
              "  </tbody>\n",
              "</table>\n",
              "</div>"
            ],
            "text/plain": [
              "            job  marital  education  ... term_deposit  age_young age_old\n",
              "0    management  married   tertiary  ...            1          0       1\n",
              "1    technician   single  secondary  ...            1          0       1\n",
              "2  entrepreneur  married  secondary  ...            1          1       0\n",
              "3   blue-collar  married    unknown  ...            1          0       1\n",
              "4       unknown   single    unknown  ...            1          1       0\n",
              "\n",
              "[5 rows x 18 columns]"
            ]
          },
          "metadata": {
            "tags": []
          },
          "execution_count": 12
        }
      ]
    },
    {
      "cell_type": "code",
      "metadata": {
        "id": "QfA7DUL_zRe1",
        "colab_type": "code",
        "outputId": "3e9b270e-46f6-4633-ad3f-3f122ee4b428",
        "colab": {
          "base_uri": "https://localhost:8080/",
          "height": 34
        }
      },
      "source": [
        "np.unique(bankdata_Copy1['term_deposit'], return_counts = True)"
      ],
      "execution_count": 0,
      "outputs": [
        {
          "output_type": "execute_result",
          "data": {
            "text/plain": [
              "(array([1, 2]), array([39922,  5289]))"
            ]
          },
          "metadata": {
            "tags": []
          },
          "execution_count": 13
        }
      ]
    },
    {
      "cell_type": "markdown",
      "metadata": {
        "id": "CFrpnNv8zldt",
        "colab_type": "text"
      },
      "source": [
        "Checks the classes inside the target descriptive variable i.e 1 and 2."
      ]
    },
    {
      "cell_type": "markdown",
      "metadata": {
        "id": "WtmfYtdTo3Pn",
        "colab_type": "text"
      },
      "source": [
        "**Checks for white spaces and inconsistent cases in all categorical features**"
      ]
    },
    {
      "cell_type": "code",
      "metadata": {
        "id": "5TIHmiVjn-Ku",
        "colab_type": "code",
        "outputId": "a11eeda0-1319-47af-c7bb-75703473f1e2",
        "colab": {
          "base_uri": "https://localhost:8080/",
          "height": 459
        }
      },
      "source": [
        "print(bankdata_Copy1['job'].value_counts())\n",
        "# remove whitespace\n",
        "bankdata_Copy1['job']=bankdata_Copy1['job'].str.strip()\n",
        "# all values converted in lower space\n",
        "bankdata_Copy1['job'] = bankdata_Copy1['job'].str.lower()\n",
        "print(bankdata_Copy1['job'].value_counts())"
      ],
      "execution_count": 0,
      "outputs": [
        {
          "output_type": "stream",
          "text": [
            "blue-collar      9732\n",
            "management       9458\n",
            "technician       7597\n",
            "admin.           5171\n",
            "services         4154\n",
            "retired          2264\n",
            "self-employed    1579\n",
            "entrepreneur     1487\n",
            "unemployed       1303\n",
            "housemaid        1240\n",
            "student           938\n",
            "unknown           288\n",
            "Name: job, dtype: int64\n",
            "blue-collar      9732\n",
            "management       9458\n",
            "technician       7597\n",
            "admin.           5171\n",
            "services         4154\n",
            "retired          2264\n",
            "self-employed    1579\n",
            "entrepreneur     1487\n",
            "unemployed       1303\n",
            "housemaid        1240\n",
            "student           938\n",
            "unknown           288\n",
            "Name: job, dtype: int64\n"
          ],
          "name": "stdout"
        }
      ]
    },
    {
      "cell_type": "code",
      "metadata": {
        "id": "p3U1Q0jDrVzK",
        "colab_type": "code",
        "outputId": "bbe35682-f531-4030-d93a-8148672645b9",
        "colab": {
          "base_uri": "https://localhost:8080/",
          "height": 153
        }
      },
      "source": [
        "print(bankdata_Copy1['marital'].value_counts())\n",
        "# remove whitespace\n",
        "bankdata_Copy1['marital']=bankdata_Copy1['marital'].str.strip()\n",
        "# all values converted in lower space\n",
        "bankdata_Copy1['marital'] = bankdata_Copy1['marital'].str.lower()\n",
        "print(bankdata_Copy1['marital'].value_counts())"
      ],
      "execution_count": 0,
      "outputs": [
        {
          "output_type": "stream",
          "text": [
            "married     27214\n",
            "single      12790\n",
            "divorced     5207\n",
            "Name: marital, dtype: int64\n",
            "married     27214\n",
            "single      12790\n",
            "divorced     5207\n",
            "Name: marital, dtype: int64\n"
          ],
          "name": "stdout"
        }
      ]
    },
    {
      "cell_type": "code",
      "metadata": {
        "id": "9tbOMG7Mr_td",
        "colab_type": "code",
        "outputId": "e2dd690a-5b95-4285-ed03-6ca0d7d3af42",
        "colab": {
          "base_uri": "https://localhost:8080/",
          "height": 187
        }
      },
      "source": [
        "print(bankdata_Copy1['education'].value_counts())\n",
        "# remove whitespace\n",
        "bankdata_Copy1['education']=bankdata_Copy1['education'].str.strip()\n",
        "# all values converted in lower space\n",
        "bankdata_Copy1['education'] = bankdata_Copy1['education'].str.lower()\n",
        "print(bankdata_Copy1['education'].value_counts())"
      ],
      "execution_count": 0,
      "outputs": [
        {
          "output_type": "stream",
          "text": [
            "secondary    23202\n",
            "tertiary     13301\n",
            "primary       6851\n",
            "unknown       1857\n",
            "Name: education, dtype: int64\n",
            "secondary    23202\n",
            "tertiary     13301\n",
            "primary       6851\n",
            "unknown       1857\n",
            "Name: education, dtype: int64\n"
          ],
          "name": "stdout"
        }
      ]
    },
    {
      "cell_type": "code",
      "metadata": {
        "id": "Nw6F5SmlsAhH",
        "colab_type": "code",
        "outputId": "d80e35be-a55a-4a63-de3c-6e70ee5707f1",
        "colab": {
          "base_uri": "https://localhost:8080/",
          "height": 119
        }
      },
      "source": [
        "print(bankdata_Copy1['credit_default'].value_counts())\n",
        "# remove whitespace\n",
        "bankdata_Copy1['credit_default']=bankdata_Copy1['credit_default'].str.strip()\n",
        "# all values converted in lower space\n",
        "bankdata_Copy1['credit_default'] = bankdata_Copy1['credit_default'].str.lower()\n",
        "print(bankdata_Copy1['credit_default'].value_counts())"
      ],
      "execution_count": 0,
      "outputs": [
        {
          "output_type": "stream",
          "text": [
            "no     44396\n",
            "yes      815\n",
            "Name: credit_default, dtype: int64\n",
            "no     44396\n",
            "yes      815\n",
            "Name: credit_default, dtype: int64\n"
          ],
          "name": "stdout"
        }
      ]
    },
    {
      "cell_type": "code",
      "metadata": {
        "id": "JPmkOtpnsBTx",
        "colab_type": "code",
        "outputId": "62362057-845d-4256-e1b6-4382ae416b37",
        "colab": {
          "base_uri": "https://localhost:8080/",
          "height": 119
        }
      },
      "source": [
        "print(bankdata_Copy1['housing'].value_counts())\n",
        "# remove whitespace\n",
        "bankdata_Copy1['housing']=bankdata_Copy1['housing'].str.strip()\n",
        "# all values converted in lower space\n",
        "bankdata_Copy1['housing'] = bankdata_Copy1['housing'].str.lower()\n",
        "print(bankdata_Copy1['housing'].value_counts())"
      ],
      "execution_count": 0,
      "outputs": [
        {
          "output_type": "stream",
          "text": [
            "yes    25130\n",
            "no     20081\n",
            "Name: housing, dtype: int64\n",
            "yes    25130\n",
            "no     20081\n",
            "Name: housing, dtype: int64\n"
          ],
          "name": "stdout"
        }
      ]
    },
    {
      "cell_type": "code",
      "metadata": {
        "id": "HVKNc_EosCP5",
        "colab_type": "code",
        "outputId": "55892962-86b5-465e-f33b-8a7d7bdae688",
        "colab": {
          "base_uri": "https://localhost:8080/",
          "height": 119
        }
      },
      "source": [
        "print(bankdata_Copy1['loan'].value_counts())\n",
        "# remove whitespace\n",
        "bankdata_Copy1['loan']=bankdata_Copy1['loan'].str.strip()\n",
        "# all values converted in lower space\n",
        "bankdata_Copy1['loan'] = bankdata_Copy1['loan'].str.lower()\n",
        "print(bankdata_Copy1['loan'].value_counts())"
      ],
      "execution_count": 0,
      "outputs": [
        {
          "output_type": "stream",
          "text": [
            "no     37967\n",
            "yes     7244\n",
            "Name: loan, dtype: int64\n",
            "no     37967\n",
            "yes     7244\n",
            "Name: loan, dtype: int64\n"
          ],
          "name": "stdout"
        }
      ]
    },
    {
      "cell_type": "code",
      "metadata": {
        "id": "P2YsTU2IsDAX",
        "colab_type": "code",
        "outputId": "ffcc4518-6cf7-4c21-fa52-4f6cd4206ca4",
        "colab": {
          "base_uri": "https://localhost:8080/",
          "height": 153
        }
      },
      "source": [
        "print(bankdata_Copy1['contact'].value_counts())\n",
        "# remove whitespace\n",
        "bankdata_Copy1['contact']=bankdata_Copy1['contact'].str.strip()\n",
        "# all values converted in lower space\n",
        "bankdata_Copy1['contact'] = bankdata_Copy1['contact'].str.lower()\n",
        "print(bankdata_Copy1['contact'].value_counts())"
      ],
      "execution_count": 0,
      "outputs": [
        {
          "output_type": "stream",
          "text": [
            "cellular     29285\n",
            "unknown      13020\n",
            "telephone     2906\n",
            "Name: contact, dtype: int64\n",
            "cellular     29285\n",
            "unknown      13020\n",
            "telephone     2906\n",
            "Name: contact, dtype: int64\n"
          ],
          "name": "stdout"
        }
      ]
    },
    {
      "cell_type": "code",
      "metadata": {
        "id": "ebTZujpCsDs-",
        "colab_type": "code",
        "outputId": "bf341660-b89c-4a09-b966-acb2198e4040",
        "colab": {
          "base_uri": "https://localhost:8080/",
          "height": 459
        }
      },
      "source": [
        "print(bankdata_Copy1['month'].value_counts())\n",
        "# remove whitespace\n",
        "bankdata_Copy1['month']=bankdata_Copy1['month'].str.strip()\n",
        "# all values converted in lower space\n",
        "bankdata_Copy1['month'] = bankdata_Copy1['month'].str.lower()\n",
        "print(bankdata_Copy1['month'].value_counts())"
      ],
      "execution_count": 0,
      "outputs": [
        {
          "output_type": "stream",
          "text": [
            "may    13766\n",
            "jul     6895\n",
            "aug     6247\n",
            "jun     5341\n",
            "nov     3970\n",
            "apr     2932\n",
            "feb     2649\n",
            "jan     1403\n",
            "oct      738\n",
            "sep      579\n",
            "mar      477\n",
            "dec      214\n",
            "Name: month, dtype: int64\n",
            "may    13766\n",
            "jul     6895\n",
            "aug     6247\n",
            "jun     5341\n",
            "nov     3970\n",
            "apr     2932\n",
            "feb     2649\n",
            "jan     1403\n",
            "oct      738\n",
            "sep      579\n",
            "mar      477\n",
            "dec      214\n",
            "Name: month, dtype: int64\n"
          ],
          "name": "stdout"
        }
      ]
    },
    {
      "cell_type": "code",
      "metadata": {
        "id": "8N40vvzWsEhh",
        "colab_type": "code",
        "outputId": "63b918e7-42a8-4ddc-94c0-c2f29722be2c",
        "colab": {
          "base_uri": "https://localhost:8080/",
          "height": 187
        }
      },
      "source": [
        "print(bankdata_Copy1['poutcome'].value_counts())\n",
        "# remove whitespace\n",
        "bankdata_Copy1['poutcome']=bankdata_Copy1['poutcome'].str.strip()\n",
        "# all values converted in lower space\n",
        "bankdata_Copy1['poutcome'] = bankdata_Copy1['poutcome'].str.lower()\n",
        "print(bankdata_Copy1['poutcome'].value_counts())"
      ],
      "execution_count": 0,
      "outputs": [
        {
          "output_type": "stream",
          "text": [
            "unknown    36959\n",
            "failure     4901\n",
            "other       1840\n",
            "success     1511\n",
            "Name: poutcome, dtype: int64\n",
            "unknown    36959\n",
            "failure     4901\n",
            "other       1840\n",
            "success     1511\n",
            "Name: poutcome, dtype: int64\n"
          ],
          "name": "stdout"
        }
      ]
    },
    {
      "cell_type": "markdown",
      "metadata": {
        "id": "bJtPKrDWtt_t",
        "colab_type": "text"
      },
      "source": [
        "No whitespaces were found in any of the categorical features and all the possible inconsistent cases were converted to lower case. As some of the whitespaces are hard to find with your naked eyes , so we checked all the features for the confirmation of whitespaces."
      ]
    },
    {
      "cell_type": "markdown",
      "metadata": {
        "id": "S9GCA516JoiM",
        "colab_type": "text"
      },
      "source": [
        "**Remove time-seriese related features from dataset** "
      ]
    },
    {
      "cell_type": "markdown",
      "metadata": {
        "id": "ZnByXb8cJxdJ",
        "colab_type": "text"
      },
      "source": [
        "'Day', 'Month' ,'Duration' and 'Pdays' are the features which are strongly related to time-series , which we have to ignore .\n",
        "So we'll remove these features from the dataset."
      ]
    },
    {
      "cell_type": "code",
      "metadata": {
        "id": "KwEFw2HoMSwL",
        "colab_type": "code",
        "colab": {}
      },
      "source": [
        "del bankdata_Copy1[\"day\"]\n",
        "del bankdata_Copy1[\"month\"]\n",
        "del bankdata_Copy1[\"duration\"]\n",
        "del bankdata_Copy1[\"pdays\"]\n"
      ],
      "execution_count": 0,
      "outputs": []
    },
    {
      "cell_type": "code",
      "metadata": {
        "id": "p2USToBINUUQ",
        "colab_type": "code",
        "outputId": "2ac0ecaa-96e8-4842-e42f-7f5869075035",
        "colab": {
          "base_uri": "https://localhost:8080/",
          "height": 224
        }
      },
      "source": [
        "bankdata_Copy1.head(5)"
      ],
      "execution_count": 0,
      "outputs": [
        {
          "output_type": "execute_result",
          "data": {
            "text/html": [
              "<div>\n",
              "<style scoped>\n",
              "    .dataframe tbody tr th:only-of-type {\n",
              "        vertical-align: middle;\n",
              "    }\n",
              "\n",
              "    .dataframe tbody tr th {\n",
              "        vertical-align: top;\n",
              "    }\n",
              "\n",
              "    .dataframe thead th {\n",
              "        text-align: right;\n",
              "    }\n",
              "</style>\n",
              "<table border=\"1\" class=\"dataframe\">\n",
              "  <thead>\n",
              "    <tr style=\"text-align: right;\">\n",
              "      <th></th>\n",
              "      <th>job</th>\n",
              "      <th>marital</th>\n",
              "      <th>education</th>\n",
              "      <th>credit_default</th>\n",
              "      <th>balance</th>\n",
              "      <th>housing</th>\n",
              "      <th>loan</th>\n",
              "      <th>contact</th>\n",
              "      <th>campaign</th>\n",
              "      <th>previous</th>\n",
              "      <th>poutcome</th>\n",
              "      <th>term_deposit</th>\n",
              "      <th>age_young</th>\n",
              "      <th>age_old</th>\n",
              "    </tr>\n",
              "  </thead>\n",
              "  <tbody>\n",
              "    <tr>\n",
              "      <th>0</th>\n",
              "      <td>management</td>\n",
              "      <td>married</td>\n",
              "      <td>tertiary</td>\n",
              "      <td>no</td>\n",
              "      <td>2143</td>\n",
              "      <td>yes</td>\n",
              "      <td>no</td>\n",
              "      <td>unknown</td>\n",
              "      <td>1</td>\n",
              "      <td>0</td>\n",
              "      <td>unknown</td>\n",
              "      <td>1</td>\n",
              "      <td>0</td>\n",
              "      <td>1</td>\n",
              "    </tr>\n",
              "    <tr>\n",
              "      <th>1</th>\n",
              "      <td>technician</td>\n",
              "      <td>single</td>\n",
              "      <td>secondary</td>\n",
              "      <td>no</td>\n",
              "      <td>29</td>\n",
              "      <td>yes</td>\n",
              "      <td>no</td>\n",
              "      <td>unknown</td>\n",
              "      <td>1</td>\n",
              "      <td>0</td>\n",
              "      <td>unknown</td>\n",
              "      <td>1</td>\n",
              "      <td>0</td>\n",
              "      <td>1</td>\n",
              "    </tr>\n",
              "    <tr>\n",
              "      <th>2</th>\n",
              "      <td>entrepreneur</td>\n",
              "      <td>married</td>\n",
              "      <td>secondary</td>\n",
              "      <td>no</td>\n",
              "      <td>2</td>\n",
              "      <td>yes</td>\n",
              "      <td>yes</td>\n",
              "      <td>unknown</td>\n",
              "      <td>1</td>\n",
              "      <td>0</td>\n",
              "      <td>unknown</td>\n",
              "      <td>1</td>\n",
              "      <td>1</td>\n",
              "      <td>0</td>\n",
              "    </tr>\n",
              "    <tr>\n",
              "      <th>3</th>\n",
              "      <td>blue-collar</td>\n",
              "      <td>married</td>\n",
              "      <td>unknown</td>\n",
              "      <td>no</td>\n",
              "      <td>1506</td>\n",
              "      <td>yes</td>\n",
              "      <td>no</td>\n",
              "      <td>unknown</td>\n",
              "      <td>1</td>\n",
              "      <td>0</td>\n",
              "      <td>unknown</td>\n",
              "      <td>1</td>\n",
              "      <td>0</td>\n",
              "      <td>1</td>\n",
              "    </tr>\n",
              "    <tr>\n",
              "      <th>4</th>\n",
              "      <td>unknown</td>\n",
              "      <td>single</td>\n",
              "      <td>unknown</td>\n",
              "      <td>no</td>\n",
              "      <td>1</td>\n",
              "      <td>no</td>\n",
              "      <td>no</td>\n",
              "      <td>unknown</td>\n",
              "      <td>1</td>\n",
              "      <td>0</td>\n",
              "      <td>unknown</td>\n",
              "      <td>1</td>\n",
              "      <td>1</td>\n",
              "      <td>0</td>\n",
              "    </tr>\n",
              "  </tbody>\n",
              "</table>\n",
              "</div>"
            ],
            "text/plain": [
              "            job  marital  education  ... term_deposit  age_young age_old\n",
              "0    management  married   tertiary  ...            1          0       1\n",
              "1    technician   single  secondary  ...            1          0       1\n",
              "2  entrepreneur  married  secondary  ...            1          1       0\n",
              "3   blue-collar  married    unknown  ...            1          0       1\n",
              "4       unknown   single    unknown  ...            1          1       0\n",
              "\n",
              "[5 rows x 14 columns]"
            ]
          },
          "metadata": {
            "tags": []
          },
          "execution_count": 24
        }
      ]
    },
    {
      "cell_type": "markdown",
      "metadata": {
        "id": "N8vxkqzbBkJu",
        "colab_type": "text"
      },
      "source": [
        "#OVERVIEW "
      ]
    },
    {
      "cell_type": "markdown",
      "metadata": {
        "id": "0QctFeilBqCp",
        "colab_type": "text"
      },
      "source": [
        "In this project we'll fit different types of binary classifiers and predict weather the customer will subscribe for a term deposit using various features like 'Age', 'Job', 'Marital Status' , 'pdays' etc. \n",
        "\n",
        "We'll apply 3 binary classifiers :\n",
        "\n",
        "1.   K Nearest Neighbors(KNN)\n",
        "2.   Decision Tree (DT)\n",
        "3.   Naive Bayes (NB).\n",
        "\n",
        "After pre-processing and exploring (visualized) the whole dataset in Phase 1, we prepared the data by encoding both descriptive and target features into a numeric feature. Since all the categorical features are nominal, we applied One-hot encoding process to create multiple dummy variables. We'll perform feature scaling on all descriptive features except binary features. We performed feature selection using a powerful *Random Forest Importance (RFI)* method. Since the dataset contains around 45k rows, we randomly sampled our dataset for faster computation. After that, we split the dataset into test and train set by 70:30 ratio. Applied *Hyperparameter Tuning* over all the binary classifiers for better results. Performed *parallel processing* with \"-2\" cores and used *Stratification* as the levels of our target features are imbalanced. After tuning all the appropriate parameters for each model, we analysed the performance of each binary classifier with *AUC score* as our main performance metric and found the optimal model. Created an ROC curve visual plot for each model to see the trade-off between FPR(False Positive Rate) and TPR(True Positive Rate). \n",
        "  Later, we did comparsion between all the optimal binary classification models using *t-test*. Other performance metric like *accuracy, precision , recall , F1-score* and *confusion matrices* were tested on test set.\n"
      ]
    },
    {
      "cell_type": "markdown",
      "metadata": {
        "id": "aaL_V3UJvvFt",
        "colab_type": "text"
      },
      "source": [
        "#DATA PREPARATION FOR MODELLING"
      ]
    },
    {
      "cell_type": "code",
      "metadata": {
        "id": "8LPOW-TYvZcQ",
        "colab_type": "code",
        "outputId": "5efe0232-835a-4f8e-fe26-658dc9b4b729",
        "colab": {
          "base_uri": "https://localhost:8080/",
          "height": 224
        }
      },
      "source": [
        "bankdata_Copy1.head(5)"
      ],
      "execution_count": 0,
      "outputs": [
        {
          "output_type": "execute_result",
          "data": {
            "text/html": [
              "<div>\n",
              "<style scoped>\n",
              "    .dataframe tbody tr th:only-of-type {\n",
              "        vertical-align: middle;\n",
              "    }\n",
              "\n",
              "    .dataframe tbody tr th {\n",
              "        vertical-align: top;\n",
              "    }\n",
              "\n",
              "    .dataframe thead th {\n",
              "        text-align: right;\n",
              "    }\n",
              "</style>\n",
              "<table border=\"1\" class=\"dataframe\">\n",
              "  <thead>\n",
              "    <tr style=\"text-align: right;\">\n",
              "      <th></th>\n",
              "      <th>job</th>\n",
              "      <th>marital</th>\n",
              "      <th>education</th>\n",
              "      <th>credit_default</th>\n",
              "      <th>balance</th>\n",
              "      <th>housing</th>\n",
              "      <th>loan</th>\n",
              "      <th>contact</th>\n",
              "      <th>campaign</th>\n",
              "      <th>previous</th>\n",
              "      <th>poutcome</th>\n",
              "      <th>term_deposit</th>\n",
              "      <th>age_young</th>\n",
              "      <th>age_old</th>\n",
              "    </tr>\n",
              "  </thead>\n",
              "  <tbody>\n",
              "    <tr>\n",
              "      <th>0</th>\n",
              "      <td>management</td>\n",
              "      <td>married</td>\n",
              "      <td>tertiary</td>\n",
              "      <td>no</td>\n",
              "      <td>2143</td>\n",
              "      <td>yes</td>\n",
              "      <td>no</td>\n",
              "      <td>unknown</td>\n",
              "      <td>1</td>\n",
              "      <td>0</td>\n",
              "      <td>unknown</td>\n",
              "      <td>1</td>\n",
              "      <td>0</td>\n",
              "      <td>1</td>\n",
              "    </tr>\n",
              "    <tr>\n",
              "      <th>1</th>\n",
              "      <td>technician</td>\n",
              "      <td>single</td>\n",
              "      <td>secondary</td>\n",
              "      <td>no</td>\n",
              "      <td>29</td>\n",
              "      <td>yes</td>\n",
              "      <td>no</td>\n",
              "      <td>unknown</td>\n",
              "      <td>1</td>\n",
              "      <td>0</td>\n",
              "      <td>unknown</td>\n",
              "      <td>1</td>\n",
              "      <td>0</td>\n",
              "      <td>1</td>\n",
              "    </tr>\n",
              "    <tr>\n",
              "      <th>2</th>\n",
              "      <td>entrepreneur</td>\n",
              "      <td>married</td>\n",
              "      <td>secondary</td>\n",
              "      <td>no</td>\n",
              "      <td>2</td>\n",
              "      <td>yes</td>\n",
              "      <td>yes</td>\n",
              "      <td>unknown</td>\n",
              "      <td>1</td>\n",
              "      <td>0</td>\n",
              "      <td>unknown</td>\n",
              "      <td>1</td>\n",
              "      <td>1</td>\n",
              "      <td>0</td>\n",
              "    </tr>\n",
              "    <tr>\n",
              "      <th>3</th>\n",
              "      <td>blue-collar</td>\n",
              "      <td>married</td>\n",
              "      <td>unknown</td>\n",
              "      <td>no</td>\n",
              "      <td>1506</td>\n",
              "      <td>yes</td>\n",
              "      <td>no</td>\n",
              "      <td>unknown</td>\n",
              "      <td>1</td>\n",
              "      <td>0</td>\n",
              "      <td>unknown</td>\n",
              "      <td>1</td>\n",
              "      <td>0</td>\n",
              "      <td>1</td>\n",
              "    </tr>\n",
              "    <tr>\n",
              "      <th>4</th>\n",
              "      <td>unknown</td>\n",
              "      <td>single</td>\n",
              "      <td>unknown</td>\n",
              "      <td>no</td>\n",
              "      <td>1</td>\n",
              "      <td>no</td>\n",
              "      <td>no</td>\n",
              "      <td>unknown</td>\n",
              "      <td>1</td>\n",
              "      <td>0</td>\n",
              "      <td>unknown</td>\n",
              "      <td>1</td>\n",
              "      <td>1</td>\n",
              "      <td>0</td>\n",
              "    </tr>\n",
              "  </tbody>\n",
              "</table>\n",
              "</div>"
            ],
            "text/plain": [
              "            job  marital  education  ... term_deposit  age_young age_old\n",
              "0    management  married   tertiary  ...            1          0       1\n",
              "1    technician   single  secondary  ...            1          0       1\n",
              "2  entrepreneur  married  secondary  ...            1          1       0\n",
              "3   blue-collar  married    unknown  ...            1          0       1\n",
              "4       unknown   single    unknown  ...            1          1       0\n",
              "\n",
              "[5 rows x 14 columns]"
            ]
          },
          "metadata": {
            "tags": []
          },
          "execution_count": 43
        }
      ]
    },
    {
      "cell_type": "markdown",
      "metadata": {
        "id": "DgjvvX6_MITW",
        "colab_type": "text"
      },
      "source": [
        "##ENCODING TARGET FEATURE"
      ]
    },
    {
      "cell_type": "markdown",
      "metadata": {
        "id": "I0j5dKbYMhm_",
        "colab_type": "text"
      },
      "source": [
        "Encode both the descriptive and target featues into numerical features. Firstly, encode the target feature ''term_deposit\"."
      ]
    },
    {
      "cell_type": "code",
      "metadata": {
        "id": "YVk3J0qzJTuy",
        "colab_type": "code",
        "outputId": "0601ce15-0f88-4887-eb1f-57a8c3310843",
        "colab": {
          "base_uri": "https://localhost:8080/",
          "height": 68
        }
      },
      "source": [
        "des_data = bankdata_Copy1.drop(columns='term_deposit')\n",
        "target_data = bankdata_Copy1['term_deposit']\n",
        "target_data.value_counts()"
      ],
      "execution_count": 0,
      "outputs": [
        {
          "output_type": "execute_result",
          "data": {
            "text/plain": [
              "1    39922\n",
              "2     5289\n",
              "Name: term_deposit, dtype: int64"
            ]
          },
          "metadata": {
            "tags": []
          },
          "execution_count": 44
        }
      ]
    },
    {
      "cell_type": "markdown",
      "metadata": {
        "id": "XFkEu8VpSK3X",
        "colab_type": "text"
      },
      "source": [
        "Now we'll encode the target feature positive class(client subscribed for term deposit) as \"1\" and negative class(clinet didn't subscribe for term deposit) as \"0\" ."
      ]
    },
    {
      "cell_type": "code",
      "metadata": {
        "id": "rFwvrElrTOP5",
        "colab_type": "code",
        "outputId": "9c7ca1e9-b8b1-473f-8938-0b5fbcb17692",
        "colab": {
          "base_uri": "https://localhost:8080/",
          "height": 68
        }
      },
      "source": [
        "target_data = target_data.replace({2: 0, 1: 1})\n",
        "target_data.value_counts()"
      ],
      "execution_count": 0,
      "outputs": [
        {
          "output_type": "execute_result",
          "data": {
            "text/plain": [
              "1    39922\n",
              "0     5289\n",
              "Name: term_deposit, dtype: int64"
            ]
          },
          "metadata": {
            "tags": []
          },
          "execution_count": 45
        }
      ]
    },
    {
      "cell_type": "markdown",
      "metadata": {
        "id": "RuKpak7nVOfJ",
        "colab_type": "text"
      },
      "source": [
        "Though, we can observe that the classes aren't in balance proportion."
      ]
    },
    {
      "cell_type": "markdown",
      "metadata": {
        "id": "_GVitQHEVl-J",
        "colab_type": "text"
      },
      "source": [
        "##ENCODING DESCRIPTIVE CATEGORICAL FEATURES"
      ]
    },
    {
      "cell_type": "markdown",
      "metadata": {
        "id": "kzRQiSgbWD8x",
        "colab_type": "text"
      },
      "source": [
        "Check the datatypes of all descriptive features."
      ]
    },
    {
      "cell_type": "code",
      "metadata": {
        "id": "eIgkXr8tVxwX",
        "colab_type": "code",
        "outputId": "1ccc0d8a-ec0f-443b-b19f-f50b671da3ce",
        "colab": {
          "base_uri": "https://localhost:8080/",
          "height": 255
        }
      },
      "source": [
        "des_data.dtypes"
      ],
      "execution_count": 0,
      "outputs": [
        {
          "output_type": "execute_result",
          "data": {
            "text/plain": [
              "job               object\n",
              "marital           object\n",
              "education         object\n",
              "credit_default    object\n",
              "balance            int64\n",
              "housing           object\n",
              "loan              object\n",
              "contact           object\n",
              "campaign           int64\n",
              "previous           int64\n",
              "poutcome          object\n",
              "age_young          uint8\n",
              "age_old            uint8\n",
              "dtype: object"
            ]
          },
          "metadata": {
            "tags": []
          },
          "execution_count": 46
        }
      ]
    },
    {
      "cell_type": "markdown",
      "metadata": {
        "id": "QMvo9rbRcjau",
        "colab_type": "text"
      },
      "source": [
        "We'll be performing 'One hot encoding' method on all the nominal categorical features. However, we'll avoid using 'interger encoding' method on these features as our whole analysis process can become wrong."
      ]
    },
    {
      "cell_type": "code",
      "metadata": {
        "id": "qL-Xo1ssjTNt",
        "colab_type": "code",
        "outputId": "19ba801d-1aee-4e57-efe9-3cf60ac67919",
        "colab": {
          "base_uri": "https://localhost:8080/",
          "height": 153
        }
      },
      "source": [
        "cat_cols = des_data.columns[des_data.dtypes==object].tolist()\n",
        "cat_cols"
      ],
      "execution_count": 0,
      "outputs": [
        {
          "output_type": "execute_result",
          "data": {
            "text/plain": [
              "['job',\n",
              " 'marital',\n",
              " 'education',\n",
              " 'credit_default',\n",
              " 'housing',\n",
              " 'loan',\n",
              " 'contact',\n",
              " 'poutcome']"
            ]
          },
          "metadata": {
            "tags": []
          },
          "execution_count": 47
        }
      ]
    },
    {
      "cell_type": "markdown",
      "metadata": {
        "id": "7anqYBKZkSWD",
        "colab_type": "text"
      },
      "source": [
        "For a nomial categorical feature with binary levels, we set 'drop first' attribute as 'True' to create only one dummy variable for that particular feature. Whereas for other features with more than 2 levels,we use 'get_dummies' for usual one-hot encoding process."
      ]
    },
    {
      "cell_type": "code",
      "metadata": {
        "id": "ZKgOQrmHkTB_",
        "colab_type": "code",
        "colab": {}
      },
      "source": [
        "for col in cat_cols:\n",
        "    n = len(des_data[col].unique())\n",
        "    if (n == 2):\n",
        "        des_data[col] = pd.get_dummies(des_data[col], drop_first=True)\n",
        "   \n",
        "des_data = pd.get_dummies(des_data)"
      ],
      "execution_count": 0,
      "outputs": []
    },
    {
      "cell_type": "markdown",
      "metadata": {
        "id": "S7PCieyQmIU4",
        "colab_type": "text"
      },
      "source": [
        "List of total features after One-hot encoding"
      ]
    },
    {
      "cell_type": "code",
      "metadata": {
        "id": "d7xhZawhmP0X",
        "colab_type": "code",
        "outputId": "674f35c5-b1cc-4040-b2cb-4f1a3fc168ac",
        "colab": {
          "base_uri": "https://localhost:8080/",
          "height": 187
        }
      },
      "source": [
        "des_data.columns\n"
      ],
      "execution_count": 0,
      "outputs": [
        {
          "output_type": "execute_result",
          "data": {
            "text/plain": [
              "Index(['credit_default', 'balance', 'housing', 'loan', 'campaign', 'previous',\n",
              "       'age_young', 'age_old', 'job_admin.', 'job_blue-collar',\n",
              "       'job_entrepreneur', 'job_housemaid', 'job_management', 'job_retired',\n",
              "       'job_self-employed', 'job_services', 'job_student', 'job_technician',\n",
              "       'job_unemployed', 'job_unknown', 'marital_divorced', 'marital_married',\n",
              "       'marital_single', 'education_primary', 'education_secondary',\n",
              "       'education_tertiary', 'education_unknown', 'contact_cellular',\n",
              "       'contact_telephone', 'contact_unknown', 'poutcome_failure',\n",
              "       'poutcome_other', 'poutcome_success', 'poutcome_unknown'],\n",
              "      dtype='object')"
            ]
          },
          "metadata": {
            "tags": []
          },
          "execution_count": 49
        }
      ]
    },
    {
      "cell_type": "code",
      "metadata": {
        "id": "0HQzguEVpqy6",
        "colab_type": "code",
        "outputId": "5693fa0d-1fd0-415c-8521-b39ea93fc42a",
        "colab": {
          "base_uri": "https://localhost:8080/",
          "height": 241
        }
      },
      "source": [
        "des_data.head(5)"
      ],
      "execution_count": 0,
      "outputs": [
        {
          "output_type": "execute_result",
          "data": {
            "text/html": [
              "<div>\n",
              "<style scoped>\n",
              "    .dataframe tbody tr th:only-of-type {\n",
              "        vertical-align: middle;\n",
              "    }\n",
              "\n",
              "    .dataframe tbody tr th {\n",
              "        vertical-align: top;\n",
              "    }\n",
              "\n",
              "    .dataframe thead th {\n",
              "        text-align: right;\n",
              "    }\n",
              "</style>\n",
              "<table border=\"1\" class=\"dataframe\">\n",
              "  <thead>\n",
              "    <tr style=\"text-align: right;\">\n",
              "      <th></th>\n",
              "      <th>credit_default</th>\n",
              "      <th>balance</th>\n",
              "      <th>housing</th>\n",
              "      <th>loan</th>\n",
              "      <th>campaign</th>\n",
              "      <th>previous</th>\n",
              "      <th>age_young</th>\n",
              "      <th>age_old</th>\n",
              "      <th>job_admin.</th>\n",
              "      <th>job_blue-collar</th>\n",
              "      <th>job_entrepreneur</th>\n",
              "      <th>job_housemaid</th>\n",
              "      <th>job_management</th>\n",
              "      <th>job_retired</th>\n",
              "      <th>job_self-employed</th>\n",
              "      <th>job_services</th>\n",
              "      <th>job_student</th>\n",
              "      <th>job_technician</th>\n",
              "      <th>job_unemployed</th>\n",
              "      <th>job_unknown</th>\n",
              "      <th>marital_divorced</th>\n",
              "      <th>marital_married</th>\n",
              "      <th>marital_single</th>\n",
              "      <th>education_primary</th>\n",
              "      <th>education_secondary</th>\n",
              "      <th>education_tertiary</th>\n",
              "      <th>education_unknown</th>\n",
              "      <th>contact_cellular</th>\n",
              "      <th>contact_telephone</th>\n",
              "      <th>contact_unknown</th>\n",
              "      <th>poutcome_failure</th>\n",
              "      <th>poutcome_other</th>\n",
              "      <th>poutcome_success</th>\n",
              "      <th>poutcome_unknown</th>\n",
              "    </tr>\n",
              "  </thead>\n",
              "  <tbody>\n",
              "    <tr>\n",
              "      <th>0</th>\n",
              "      <td>0</td>\n",
              "      <td>2143</td>\n",
              "      <td>1</td>\n",
              "      <td>0</td>\n",
              "      <td>1</td>\n",
              "      <td>0</td>\n",
              "      <td>0</td>\n",
              "      <td>1</td>\n",
              "      <td>0</td>\n",
              "      <td>0</td>\n",
              "      <td>0</td>\n",
              "      <td>0</td>\n",
              "      <td>1</td>\n",
              "      <td>0</td>\n",
              "      <td>0</td>\n",
              "      <td>0</td>\n",
              "      <td>0</td>\n",
              "      <td>0</td>\n",
              "      <td>0</td>\n",
              "      <td>0</td>\n",
              "      <td>0</td>\n",
              "      <td>1</td>\n",
              "      <td>0</td>\n",
              "      <td>0</td>\n",
              "      <td>0</td>\n",
              "      <td>1</td>\n",
              "      <td>0</td>\n",
              "      <td>0</td>\n",
              "      <td>0</td>\n",
              "      <td>1</td>\n",
              "      <td>0</td>\n",
              "      <td>0</td>\n",
              "      <td>0</td>\n",
              "      <td>1</td>\n",
              "    </tr>\n",
              "    <tr>\n",
              "      <th>1</th>\n",
              "      <td>0</td>\n",
              "      <td>29</td>\n",
              "      <td>1</td>\n",
              "      <td>0</td>\n",
              "      <td>1</td>\n",
              "      <td>0</td>\n",
              "      <td>0</td>\n",
              "      <td>1</td>\n",
              "      <td>0</td>\n",
              "      <td>0</td>\n",
              "      <td>0</td>\n",
              "      <td>0</td>\n",
              "      <td>0</td>\n",
              "      <td>0</td>\n",
              "      <td>0</td>\n",
              "      <td>0</td>\n",
              "      <td>0</td>\n",
              "      <td>1</td>\n",
              "      <td>0</td>\n",
              "      <td>0</td>\n",
              "      <td>0</td>\n",
              "      <td>0</td>\n",
              "      <td>1</td>\n",
              "      <td>0</td>\n",
              "      <td>1</td>\n",
              "      <td>0</td>\n",
              "      <td>0</td>\n",
              "      <td>0</td>\n",
              "      <td>0</td>\n",
              "      <td>1</td>\n",
              "      <td>0</td>\n",
              "      <td>0</td>\n",
              "      <td>0</td>\n",
              "      <td>1</td>\n",
              "    </tr>\n",
              "    <tr>\n",
              "      <th>2</th>\n",
              "      <td>0</td>\n",
              "      <td>2</td>\n",
              "      <td>1</td>\n",
              "      <td>1</td>\n",
              "      <td>1</td>\n",
              "      <td>0</td>\n",
              "      <td>1</td>\n",
              "      <td>0</td>\n",
              "      <td>0</td>\n",
              "      <td>0</td>\n",
              "      <td>1</td>\n",
              "      <td>0</td>\n",
              "      <td>0</td>\n",
              "      <td>0</td>\n",
              "      <td>0</td>\n",
              "      <td>0</td>\n",
              "      <td>0</td>\n",
              "      <td>0</td>\n",
              "      <td>0</td>\n",
              "      <td>0</td>\n",
              "      <td>0</td>\n",
              "      <td>1</td>\n",
              "      <td>0</td>\n",
              "      <td>0</td>\n",
              "      <td>1</td>\n",
              "      <td>0</td>\n",
              "      <td>0</td>\n",
              "      <td>0</td>\n",
              "      <td>0</td>\n",
              "      <td>1</td>\n",
              "      <td>0</td>\n",
              "      <td>0</td>\n",
              "      <td>0</td>\n",
              "      <td>1</td>\n",
              "    </tr>\n",
              "    <tr>\n",
              "      <th>3</th>\n",
              "      <td>0</td>\n",
              "      <td>1506</td>\n",
              "      <td>1</td>\n",
              "      <td>0</td>\n",
              "      <td>1</td>\n",
              "      <td>0</td>\n",
              "      <td>0</td>\n",
              "      <td>1</td>\n",
              "      <td>0</td>\n",
              "      <td>1</td>\n",
              "      <td>0</td>\n",
              "      <td>0</td>\n",
              "      <td>0</td>\n",
              "      <td>0</td>\n",
              "      <td>0</td>\n",
              "      <td>0</td>\n",
              "      <td>0</td>\n",
              "      <td>0</td>\n",
              "      <td>0</td>\n",
              "      <td>0</td>\n",
              "      <td>0</td>\n",
              "      <td>1</td>\n",
              "      <td>0</td>\n",
              "      <td>0</td>\n",
              "      <td>0</td>\n",
              "      <td>0</td>\n",
              "      <td>1</td>\n",
              "      <td>0</td>\n",
              "      <td>0</td>\n",
              "      <td>1</td>\n",
              "      <td>0</td>\n",
              "      <td>0</td>\n",
              "      <td>0</td>\n",
              "      <td>1</td>\n",
              "    </tr>\n",
              "    <tr>\n",
              "      <th>4</th>\n",
              "      <td>0</td>\n",
              "      <td>1</td>\n",
              "      <td>0</td>\n",
              "      <td>0</td>\n",
              "      <td>1</td>\n",
              "      <td>0</td>\n",
              "      <td>1</td>\n",
              "      <td>0</td>\n",
              "      <td>0</td>\n",
              "      <td>0</td>\n",
              "      <td>0</td>\n",
              "      <td>0</td>\n",
              "      <td>0</td>\n",
              "      <td>0</td>\n",
              "      <td>0</td>\n",
              "      <td>0</td>\n",
              "      <td>0</td>\n",
              "      <td>0</td>\n",
              "      <td>0</td>\n",
              "      <td>1</td>\n",
              "      <td>0</td>\n",
              "      <td>0</td>\n",
              "      <td>1</td>\n",
              "      <td>0</td>\n",
              "      <td>0</td>\n",
              "      <td>0</td>\n",
              "      <td>1</td>\n",
              "      <td>0</td>\n",
              "      <td>0</td>\n",
              "      <td>1</td>\n",
              "      <td>0</td>\n",
              "      <td>0</td>\n",
              "      <td>0</td>\n",
              "      <td>1</td>\n",
              "    </tr>\n",
              "  </tbody>\n",
              "</table>\n",
              "</div>"
            ],
            "text/plain": [
              "   credit_default  balance  ...  poutcome_success  poutcome_unknown\n",
              "0               0     2143  ...                 0                 1\n",
              "1               0       29  ...                 0                 1\n",
              "2               0        2  ...                 0                 1\n",
              "3               0     1506  ...                 0                 1\n",
              "4               0        1  ...                 0                 1\n",
              "\n",
              "[5 rows x 34 columns]"
            ]
          },
          "metadata": {
            "tags": []
          },
          "execution_count": 50
        }
      ]
    },
    {
      "cell_type": "markdown",
      "metadata": {
        "id": "C2iLLsrUYFkM",
        "colab_type": "text"
      },
      "source": [
        "#FEATURE SCALING"
      ]
    },
    {
      "cell_type": "markdown",
      "metadata": {
        "id": "3_asglsFaLZJ",
        "colab_type": "text"
      },
      "source": [
        "We'll be performing min-max scaling on all the features. "
      ]
    },
    {
      "cell_type": "code",
      "metadata": {
        "id": "aR7oSu06YLI4",
        "colab_type": "code",
        "outputId": "271cc610-8560-46ed-97d9-fbaee83f401d",
        "colab": {
          "base_uri": "https://localhost:8080/",
          "height": 34
        }
      },
      "source": [
        "from sklearn import preprocessing\n",
        "\n",
        "des_data_cp = des_data.copy()\n",
        "\n",
        "des_data_scaler = preprocessing.MinMaxScaler()\n",
        "des_data_scaler.fit(des_data)\n",
        "des_data = des_data_scaler.fit_transform(des_data)"
      ],
      "execution_count": 0,
      "outputs": [
        {
          "output_type": "execute_result",
          "data": {
            "text/plain": [
              "MinMaxScaler(copy=True, feature_range=(0, 1))"
            ]
          },
          "metadata": {
            "tags": []
          },
          "execution_count": 51
        }
      ]
    },
    {
      "cell_type": "markdown",
      "metadata": {
        "id": "iFLgGdoalgU_",
        "colab_type": "text"
      },
      "source": [
        "The output of scaler comes under 'Numpy' array format, due to which we tend to lose all the column names from dataset. That's why creating a copy of dataset will help in tracing column names. Binary features are  kept  un-changed after min-max scaling."
      ]
    },
    {
      "cell_type": "code",
      "metadata": {
        "id": "oRr7jtEwlff4",
        "colab_type": "code",
        "outputId": "6468c369-c28f-4136-b927-6a1ad9b7723d",
        "colab": {
          "base_uri": "https://localhost:8080/",
          "height": 241
        }
      },
      "source": [
        "pd.DataFrame(des_data, columns=des_data_cp.columns).sample(5, random_state=999)"
      ],
      "execution_count": 0,
      "outputs": [
        {
          "output_type": "execute_result",
          "data": {
            "text/html": [
              "<div>\n",
              "<style scoped>\n",
              "    .dataframe tbody tr th:only-of-type {\n",
              "        vertical-align: middle;\n",
              "    }\n",
              "\n",
              "    .dataframe tbody tr th {\n",
              "        vertical-align: top;\n",
              "    }\n",
              "\n",
              "    .dataframe thead th {\n",
              "        text-align: right;\n",
              "    }\n",
              "</style>\n",
              "<table border=\"1\" class=\"dataframe\">\n",
              "  <thead>\n",
              "    <tr style=\"text-align: right;\">\n",
              "      <th></th>\n",
              "      <th>credit_default</th>\n",
              "      <th>balance</th>\n",
              "      <th>housing</th>\n",
              "      <th>loan</th>\n",
              "      <th>campaign</th>\n",
              "      <th>previous</th>\n",
              "      <th>age_young</th>\n",
              "      <th>age_old</th>\n",
              "      <th>job_admin.</th>\n",
              "      <th>job_blue-collar</th>\n",
              "      <th>job_entrepreneur</th>\n",
              "      <th>job_housemaid</th>\n",
              "      <th>job_management</th>\n",
              "      <th>job_retired</th>\n",
              "      <th>job_self-employed</th>\n",
              "      <th>job_services</th>\n",
              "      <th>job_student</th>\n",
              "      <th>job_technician</th>\n",
              "      <th>job_unemployed</th>\n",
              "      <th>job_unknown</th>\n",
              "      <th>marital_divorced</th>\n",
              "      <th>marital_married</th>\n",
              "      <th>marital_single</th>\n",
              "      <th>education_primary</th>\n",
              "      <th>education_secondary</th>\n",
              "      <th>education_tertiary</th>\n",
              "      <th>education_unknown</th>\n",
              "      <th>contact_cellular</th>\n",
              "      <th>contact_telephone</th>\n",
              "      <th>contact_unknown</th>\n",
              "      <th>poutcome_failure</th>\n",
              "      <th>poutcome_other</th>\n",
              "      <th>poutcome_success</th>\n",
              "      <th>poutcome_unknown</th>\n",
              "    </tr>\n",
              "  </thead>\n",
              "  <tbody>\n",
              "    <tr>\n",
              "      <th>16687</th>\n",
              "      <td>0.0</td>\n",
              "      <td>0.072803</td>\n",
              "      <td>1.0</td>\n",
              "      <td>0.0</td>\n",
              "      <td>0.016129</td>\n",
              "      <td>0.0</td>\n",
              "      <td>0.0</td>\n",
              "      <td>1.0</td>\n",
              "      <td>0.0</td>\n",
              "      <td>0.0</td>\n",
              "      <td>0.0</td>\n",
              "      <td>0.0</td>\n",
              "      <td>1.0</td>\n",
              "      <td>0.0</td>\n",
              "      <td>0.0</td>\n",
              "      <td>0.0</td>\n",
              "      <td>0.0</td>\n",
              "      <td>0.0</td>\n",
              "      <td>0.0</td>\n",
              "      <td>0.0</td>\n",
              "      <td>0.0</td>\n",
              "      <td>1.0</td>\n",
              "      <td>0.0</td>\n",
              "      <td>0.0</td>\n",
              "      <td>0.0</td>\n",
              "      <td>1.0</td>\n",
              "      <td>0.0</td>\n",
              "      <td>1.0</td>\n",
              "      <td>0.0</td>\n",
              "      <td>0.0</td>\n",
              "      <td>0.0</td>\n",
              "      <td>0.0</td>\n",
              "      <td>0.0</td>\n",
              "      <td>1.0</td>\n",
              "    </tr>\n",
              "    <tr>\n",
              "      <th>15250</th>\n",
              "      <td>0.0</td>\n",
              "      <td>0.102037</td>\n",
              "      <td>0.0</td>\n",
              "      <td>0.0</td>\n",
              "      <td>0.032258</td>\n",
              "      <td>0.0</td>\n",
              "      <td>1.0</td>\n",
              "      <td>0.0</td>\n",
              "      <td>0.0</td>\n",
              "      <td>0.0</td>\n",
              "      <td>0.0</td>\n",
              "      <td>0.0</td>\n",
              "      <td>0.0</td>\n",
              "      <td>0.0</td>\n",
              "      <td>0.0</td>\n",
              "      <td>1.0</td>\n",
              "      <td>0.0</td>\n",
              "      <td>0.0</td>\n",
              "      <td>0.0</td>\n",
              "      <td>0.0</td>\n",
              "      <td>0.0</td>\n",
              "      <td>1.0</td>\n",
              "      <td>0.0</td>\n",
              "      <td>0.0</td>\n",
              "      <td>1.0</td>\n",
              "      <td>0.0</td>\n",
              "      <td>0.0</td>\n",
              "      <td>1.0</td>\n",
              "      <td>0.0</td>\n",
              "      <td>0.0</td>\n",
              "      <td>0.0</td>\n",
              "      <td>0.0</td>\n",
              "      <td>0.0</td>\n",
              "      <td>1.0</td>\n",
              "    </tr>\n",
              "    <tr>\n",
              "      <th>26266</th>\n",
              "      <td>0.0</td>\n",
              "      <td>0.136292</td>\n",
              "      <td>1.0</td>\n",
              "      <td>0.0</td>\n",
              "      <td>0.000000</td>\n",
              "      <td>0.0</td>\n",
              "      <td>0.0</td>\n",
              "      <td>1.0</td>\n",
              "      <td>0.0</td>\n",
              "      <td>0.0</td>\n",
              "      <td>0.0</td>\n",
              "      <td>0.0</td>\n",
              "      <td>0.0</td>\n",
              "      <td>0.0</td>\n",
              "      <td>0.0</td>\n",
              "      <td>0.0</td>\n",
              "      <td>0.0</td>\n",
              "      <td>1.0</td>\n",
              "      <td>0.0</td>\n",
              "      <td>0.0</td>\n",
              "      <td>0.0</td>\n",
              "      <td>1.0</td>\n",
              "      <td>0.0</td>\n",
              "      <td>0.0</td>\n",
              "      <td>1.0</td>\n",
              "      <td>0.0</td>\n",
              "      <td>0.0</td>\n",
              "      <td>1.0</td>\n",
              "      <td>0.0</td>\n",
              "      <td>0.0</td>\n",
              "      <td>0.0</td>\n",
              "      <td>0.0</td>\n",
              "      <td>0.0</td>\n",
              "      <td>1.0</td>\n",
              "    </tr>\n",
              "    <tr>\n",
              "      <th>23602</th>\n",
              "      <td>0.0</td>\n",
              "      <td>0.074283</td>\n",
              "      <td>0.0</td>\n",
              "      <td>1.0</td>\n",
              "      <td>0.370968</td>\n",
              "      <td>0.0</td>\n",
              "      <td>1.0</td>\n",
              "      <td>0.0</td>\n",
              "      <td>0.0</td>\n",
              "      <td>0.0</td>\n",
              "      <td>0.0</td>\n",
              "      <td>0.0</td>\n",
              "      <td>0.0</td>\n",
              "      <td>0.0</td>\n",
              "      <td>0.0</td>\n",
              "      <td>0.0</td>\n",
              "      <td>0.0</td>\n",
              "      <td>1.0</td>\n",
              "      <td>0.0</td>\n",
              "      <td>0.0</td>\n",
              "      <td>0.0</td>\n",
              "      <td>1.0</td>\n",
              "      <td>0.0</td>\n",
              "      <td>0.0</td>\n",
              "      <td>1.0</td>\n",
              "      <td>0.0</td>\n",
              "      <td>0.0</td>\n",
              "      <td>1.0</td>\n",
              "      <td>0.0</td>\n",
              "      <td>0.0</td>\n",
              "      <td>0.0</td>\n",
              "      <td>0.0</td>\n",
              "      <td>0.0</td>\n",
              "      <td>1.0</td>\n",
              "    </tr>\n",
              "    <tr>\n",
              "      <th>39861</th>\n",
              "      <td>0.0</td>\n",
              "      <td>0.101656</td>\n",
              "      <td>0.0</td>\n",
              "      <td>0.0</td>\n",
              "      <td>0.000000</td>\n",
              "      <td>0.0</td>\n",
              "      <td>1.0</td>\n",
              "      <td>0.0</td>\n",
              "      <td>0.0</td>\n",
              "      <td>0.0</td>\n",
              "      <td>0.0</td>\n",
              "      <td>0.0</td>\n",
              "      <td>1.0</td>\n",
              "      <td>0.0</td>\n",
              "      <td>0.0</td>\n",
              "      <td>0.0</td>\n",
              "      <td>0.0</td>\n",
              "      <td>0.0</td>\n",
              "      <td>0.0</td>\n",
              "      <td>0.0</td>\n",
              "      <td>0.0</td>\n",
              "      <td>0.0</td>\n",
              "      <td>1.0</td>\n",
              "      <td>0.0</td>\n",
              "      <td>0.0</td>\n",
              "      <td>1.0</td>\n",
              "      <td>0.0</td>\n",
              "      <td>1.0</td>\n",
              "      <td>0.0</td>\n",
              "      <td>0.0</td>\n",
              "      <td>0.0</td>\n",
              "      <td>0.0</td>\n",
              "      <td>0.0</td>\n",
              "      <td>1.0</td>\n",
              "    </tr>\n",
              "  </tbody>\n",
              "</table>\n",
              "</div>"
            ],
            "text/plain": [
              "       credit_default   balance  ...  poutcome_success  poutcome_unknown\n",
              "16687             0.0  0.072803  ...               0.0               1.0\n",
              "15250             0.0  0.102037  ...               0.0               1.0\n",
              "26266             0.0  0.136292  ...               0.0               1.0\n",
              "23602             0.0  0.074283  ...               0.0               1.0\n",
              "39861             0.0  0.101656  ...               0.0               1.0\n",
              "\n",
              "[5 rows x 34 columns]"
            ]
          },
          "metadata": {
            "tags": []
          },
          "execution_count": 52
        }
      ]
    },
    {
      "cell_type": "markdown",
      "metadata": {
        "id": "3T7XrhWwrItY",
        "colab_type": "text"
      },
      "source": [
        "#FEATURE SELECTION & RANKING"
      ]
    },
    {
      "cell_type": "markdown",
      "metadata": {
        "id": "b5aMYUXqRwap",
        "colab_type": "text"
      },
      "source": [
        "* We'll select 20 best features using RFI method (Random Forest Importance). In this classification dataset, the measurement of node impurity is done using Gini index.  \n",
        "* We'll execute RFI feature selection using 100 trees. \n",
        "This is only for showcasing and ranking the most important features in the dataset . Later, while hypertuning, we'll be stack RFI selector inside pipeline."
      ]
    },
    {
      "cell_type": "code",
      "metadata": {
        "id": "eswHkOsZrOtu",
        "colab_type": "code",
        "outputId": "7e7d7150-ca77-48c3-f6e5-6bdaee633705",
        "colab": {
          "base_uri": "https://localhost:8080/",
          "height": 221
        }
      },
      "source": [
        "from sklearn.ensemble import RandomForestClassifier\n",
        "\n",
        "tot_features = 20\n",
        "rfi = RandomForestClassifier(n_estimators=100)\n",
        "rfi.fit(des_data, target_data)\n",
        "indices_rfi = np.argsort(rfi.feature_importances_)[::-1][0:tot_features]\n",
        "\n",
        "best_feat_rfi = des_data_cp.columns[indices_rfi].values\n",
        "best_feat_rfi"
      ],
      "execution_count": 0,
      "outputs": [
        {
          "output_type": "execute_result",
          "data": {
            "text/plain": [
              "RandomForestClassifier(bootstrap=True, class_weight=None, criterion='gini',\n",
              "                       max_depth=None, max_features='auto', max_leaf_nodes=None,\n",
              "                       min_impurity_decrease=0.0, min_impurity_split=None,\n",
              "                       min_samples_leaf=1, min_samples_split=2,\n",
              "                       min_weight_fraction_leaf=0.0, n_estimators=100,\n",
              "                       n_jobs=None, oob_score=False, random_state=None,\n",
              "                       verbose=0, warm_start=False)"
            ]
          },
          "metadata": {
            "tags": []
          },
          "execution_count": 53
        },
        {
          "output_type": "execute_result",
          "data": {
            "text/plain": [
              "array(['balance', 'campaign', 'poutcome_success', 'previous', 'housing',\n",
              "       'loan', 'poutcome_unknown', 'education_secondary',\n",
              "       'contact_cellular', 'job_technician', 'poutcome_failure',\n",
              "       'job_admin.', 'education_tertiary', 'contact_unknown',\n",
              "       'job_management', 'age_old', 'marital_married', 'age_young',\n",
              "       'job_blue-collar', 'marital_single'], dtype=object)"
            ]
          },
          "metadata": {
            "tags": []
          },
          "execution_count": 53
        }
      ]
    },
    {
      "cell_type": "code",
      "metadata": {
        "id": "ZEfM-eT6W3SY",
        "colab_type": "code",
        "outputId": "2ce46b7e-d8a3-40f4-a4e8-8714f704a56e",
        "colab": {
          "base_uri": "https://localhost:8080/",
          "height": 85
        }
      },
      "source": [
        "feat_imp_rfi = rfi.feature_importances_[indices_rfi]\n",
        "feat_imp_rfi"
      ],
      "execution_count": 0,
      "outputs": [
        {
          "output_type": "execute_result",
          "data": {
            "text/plain": [
              "array([0.5277566 , 0.09695528, 0.05788016, 0.05181354, 0.03044233,\n",
              "       0.01588769, 0.01235707, 0.01115835, 0.01053737, 0.01043761,\n",
              "       0.01006891, 0.01001174, 0.00991848, 0.00972011, 0.00968086,\n",
              "       0.00957409, 0.00942879, 0.00911103, 0.00852736, 0.00846078])"
            ]
          },
          "metadata": {
            "tags": []
          },
          "execution_count": 54
        }
      ]
    },
    {
      "cell_type": "markdown",
      "metadata": {
        "id": "GBXLws8kZETP",
        "colab_type": "text"
      },
      "source": [
        "Let's see the visualization of  selected features by defining a function for plotting."
      ]
    },
    {
      "cell_type": "code",
      "metadata": {
        "id": "6lr5JgsbZPAQ",
        "colab_type": "code",
        "colab": {}
      },
      "source": [
        "import altair as alt\n",
        "\n",
        "def plot_imp(best_features, scores, method_name, color):\n",
        "    \n",
        "    df = pd.DataFrame({'features': best_features, \n",
        "                       'importances': scores})\n",
        "    \n",
        "    chart = alt.Chart(df, \n",
        "                      width=500, \n",
        "                      title=method_name + ' Feature Importances'\n",
        "                     ).mark_bar(opacity=0.85, \n",
        "                                color=color).encode(\n",
        "        alt.X('features', title='Feature', sort=None, axis=alt.AxisConfig(labelAngle=45)),\n",
        "        alt.Y('importances', title='Importance')\n",
        "    )\n",
        "    \n",
        "    return chart"
      ],
      "execution_count": 0,
      "outputs": []
    },
    {
      "cell_type": "code",
      "metadata": {
        "id": "H3EJpUSIZ1o5",
        "colab_type": "code",
        "outputId": "5bf06e97-514a-485f-9695-b6628f56e911",
        "colab": {
          "base_uri": "https://localhost:8080/",
          "height": 450
        }
      },
      "source": [
        "plot_imp(best_feat_rfi, feat_imp_rfi, 'Random Forest', 'purple')"
      ],
      "execution_count": 0,
      "outputs": [
        {
          "output_type": "execute_result",
          "data": {
            "text/plain": [
              "Chart({\n",
              "  data:                features  importances\n",
              "  0               balance     0.527757\n",
              "  1              campaign     0.096955\n",
              "  2      poutcome_success     0.057880\n",
              "  3              previous     0.051814\n",
              "  4               housing     0.030442\n",
              "  5                  loan     0.015888\n",
              "  6      poutcome_unknown     0.012357\n",
              "  7   education_secondary     0.011158\n",
              "  8      contact_cellular     0.010537\n",
              "  9        job_technician     0.010438\n",
              "  10     poutcome_failure     0.010069\n",
              "  11           job_admin.     0.010012\n",
              "  12   education_tertiary     0.009918\n",
              "  13      contact_unknown     0.009720\n",
              "  14       job_management     0.009681\n",
              "  15              age_old     0.009574\n",
              "  16      marital_married     0.009429\n",
              "  17            age_young     0.009111\n",
              "  18      job_blue-collar     0.008527\n",
              "  19       marital_single     0.008461,\n",
              "  encoding: FacetedEncoding({\n",
              "    x: X({\n",
              "      axis: AxisConfig({\n",
              "        labelAngle: 45\n",
              "      }),\n",
              "      shorthand: 'features',\n",
              "      sort: None,\n",
              "      title: 'Feature'\n",
              "    }),\n",
              "    y: Y({\n",
              "      shorthand: 'importances',\n",
              "      title: 'Importance'\n",
              "    })\n",
              "  }),\n",
              "  mark: MarkDef({\n",
              "    color: 'purple',\n",
              "    opacity: 0.85,\n",
              "    type: 'bar'\n",
              "  }),\n",
              "  title: 'Random Forest Feature Importances',\n",
              "  width: 500\n",
              "})"
            ],
            "text/html": [
              "<!DOCTYPE html>\n",
              "<html>\n",
              "<head>\n",
              "  <style>\n",
              "    .vega-actions a {\n",
              "        margin-right: 12px;\n",
              "        color: #757575;\n",
              "        font-weight: normal;\n",
              "        font-size: 13px;\n",
              "    }\n",
              "    .error {\n",
              "        color: red;\n",
              "    }\n",
              "  </style>\n",
              "  <script type=\"text/javascript\" src=\"https://cdn.jsdelivr.net/npm//vega@5\"></script>\n",
              "  <script type=\"text/javascript\" src=\"https://cdn.jsdelivr.net/npm//vega-lite@3.2.1\"></script>\n",
              "  <script type=\"text/javascript\" src=\"https://cdn.jsdelivr.net/npm//vega-embed@4\"></script>\n",
              "</head>\n",
              "<body>\n",
              "  <div id=\"altair-viz\"></div>\n",
              "  <script>\n",
              "      var spec = {\"config\": {\"view\": {\"width\": 400, \"height\": 300}, \"mark\": {\"tooltip\": null}}, \"data\": {\"name\": \"data-fbd75152eb58e01671f0d0c7ee1e7ea1\"}, \"mark\": {\"type\": \"bar\", \"color\": \"purple\", \"opacity\": 0.85}, \"encoding\": {\"x\": {\"type\": \"nominal\", \"axis\": {\"labelAngle\": 45}, \"field\": \"features\", \"sort\": null, \"title\": \"Feature\"}, \"y\": {\"type\": \"quantitative\", \"field\": \"importances\", \"title\": \"Importance\"}}, \"title\": \"Random Forest Feature Importances\", \"width\": 500, \"$schema\": \"https://vega.github.io/schema/vega-lite/v3.2.1.json\", \"datasets\": {\"data-fbd75152eb58e01671f0d0c7ee1e7ea1\": [{\"features\": \"balance\", \"importances\": 0.5277566029270008}, {\"features\": \"campaign\", \"importances\": 0.09695528399864113}, {\"features\": \"poutcome_success\", \"importances\": 0.05788016437488743}, {\"features\": \"previous\", \"importances\": 0.05181353627503383}, {\"features\": \"housing\", \"importances\": 0.03044233161379611}, {\"features\": \"loan\", \"importances\": 0.015887692520668895}, {\"features\": \"poutcome_unknown\", \"importances\": 0.012357070752906357}, {\"features\": \"education_secondary\", \"importances\": 0.01115835355157852}, {\"features\": \"contact_cellular\", \"importances\": 0.010537367817162586}, {\"features\": \"job_technician\", \"importances\": 0.01043761358955317}, {\"features\": \"poutcome_failure\", \"importances\": 0.010068905371667469}, {\"features\": \"job_admin.\", \"importances\": 0.010011738953544102}, {\"features\": \"education_tertiary\", \"importances\": 0.009918476342805356}, {\"features\": \"contact_unknown\", \"importances\": 0.009720111781917378}, {\"features\": \"job_management\", \"importances\": 0.009680858232998017}, {\"features\": \"age_old\", \"importances\": 0.009574085167023284}, {\"features\": \"marital_married\", \"importances\": 0.009428788839482775}, {\"features\": \"age_young\", \"importances\": 0.00911103077029667}, {\"features\": \"job_blue-collar\", \"importances\": 0.008527355698577077}, {\"features\": \"marital_single\", \"importances\": 0.008460775464009654}]}};\n",
              "      var embedOpt = {\"mode\": \"vega-lite\"};\n",
              "\n",
              "      function showError(el, error){\n",
              "          el.innerHTML = ('<div class=\"error\" style=\"color:red;\">'\n",
              "                          + '<p>JavaScript Error: ' + error.message + '</p>'\n",
              "                          + \"<p>This usually means there's a typo in your chart specification. \"\n",
              "                          + \"See the javascript console for the full traceback.</p>\"\n",
              "                          + '</div>');\n",
              "          throw error;\n",
              "      }\n",
              "      const el = document.getElementById('altair-viz');\n",
              "      vegaEmbed(\"#altair-viz\", spec, embedOpt)\n",
              "        .catch(error => showError(el, error));\n",
              "\n",
              "  </script>\n",
              "</body>\n",
              "</html>"
            ]
          },
          "metadata": {
            "tags": []
          },
          "execution_count": 56
        }
      ]
    },
    {
      "cell_type": "markdown",
      "metadata": {
        "id": "nFTW_htEauew",
        "colab_type": "text"
      },
      "source": [
        "* Among the 20 selected features based on RFI, the best feature with highest importance is *balance* followed by *campaign*, *previous ,poutcome_success* etc."
      ]
    },
    {
      "cell_type": "markdown",
      "metadata": {
        "id": "VUk9_9-MHiGj",
        "colab_type": "text"
      },
      "source": [
        "#SAMPLING THE DATA"
      ]
    },
    {
      "cell_type": "markdown",
      "metadata": {
        "id": "5Z6L16azHk2L",
        "colab_type": "text"
      },
      "source": [
        "* As we can see our dataset contains more than 40k rows , fitting all the rows in different classifiers requires alot of processor work and time. Due to this reason, we'll randomly subset the dataset with limited rows for smooth performance of classifiers. \n",
        "We'll randomly select 15k rows from whole dataset."
      ]
    },
    {
      "cell_type": "markdown",
      "metadata": {
        "id": "KhOmdMoNJdO0",
        "colab_type": "text"
      },
      "source": [
        "* Moreover, we use *values* attribute to convert Pandas dataframe to Numpy array  , note that Sklearn never uses Pandas dataframe as it may cause different issues while fitting the models."
      ]
    },
    {
      "cell_type": "code",
      "metadata": {
        "id": "Bw-neAEaIWBF",
        "colab_type": "code",
        "outputId": "48a797c0-9c9d-46c6-a459-2f71db20ec47",
        "colab": {
          "base_uri": "https://localhost:8080/",
          "height": 51
        }
      },
      "source": [
        "n_samples = 15000\n",
        "\n",
        "des_data_sample = pd.DataFrame(des_data).sample(n=n_samples, random_state=8).values\n",
        "target_data_sample = pd.DataFrame(target_data).sample(n=n_samples, random_state=8).values\n",
        "\n",
        "print(des_data_sample.shape)\n",
        "print(target_data_sample.shape)"
      ],
      "execution_count": 0,
      "outputs": [
        {
          "output_type": "stream",
          "text": [
            "(15000, 34)\n",
            "(15000, 1)\n"
          ],
          "name": "stdout"
        }
      ]
    },
    {
      "cell_type": "markdown",
      "metadata": {
        "id": "5QykShsHurtc",
        "colab_type": "text"
      },
      "source": [
        "#SPLITTING DATASET INTO TRAINING AND TEST SETS #"
      ]
    },
    {
      "cell_type": "markdown",
      "metadata": {
        "id": "hWtj9xf3_u6B",
        "colab_type": "text"
      },
      "source": [
        "* Split the whole dataset into training and test set with a 70:30 ratio using Stratification. Stratification helps in upsampling or downsampling the levels of target feature to make them in equal proportions. Since the levels in our target variable aren't in same proportion, we'll use stratification."
      ]
    },
    {
      "cell_type": "code",
      "metadata": {
        "id": "yyB4gEEH8Xdu",
        "colab_type": "code",
        "outputId": "cb51e86f-a0cd-4eab-ca00-160cf69cc16f",
        "colab": {
          "base_uri": "https://localhost:8080/",
          "height": 51
        }
      },
      "source": [
        "from sklearn.model_selection import train_test_split\n",
        "des_data_train, des_data_test, \\\n",
        "target_data_train, target_data_test = train_test_split(des_data_sample, target_data_sample, \n",
        "                                                    test_size = 0.3, random_state=999,\n",
        "                                                    stratify = target_data_sample)\n",
        "\n",
        "print(des_data_train.shape)\n",
        "print(des_data_test.shape)"
      ],
      "execution_count": 0,
      "outputs": [
        {
          "output_type": "stream",
          "text": [
            "(10500, 34)\n",
            "(4500, 34)\n"
          ],
          "name": "stdout"
        }
      ]
    },
    {
      "cell_type": "markdown",
      "metadata": {
        "id": "wecb11S4Ixn0",
        "colab_type": "text"
      },
      "source": [
        "* We'll be training and tuning each and every models on almost 31,000 training set and later testing on almost 13,000 test set."
      ]
    },
    {
      "cell_type": "markdown",
      "metadata": {
        "id": "Y5uRys6mL2Kw",
        "colab_type": "text"
      },
      "source": [
        "#HYPERPARAMETER OPTIMIZATION"
      ]
    },
    {
      "cell_type": "markdown",
      "metadata": {
        "id": "zBlNXtzkNN5L",
        "colab_type": "text"
      },
      "source": [
        "We'll tune some set of hyperparameters for each of the 3 Machine Learning algorithm that we'll cover in later section \n",
        "\n"
      ]
    },
    {
      "cell_type": "markdown",
      "metadata": {
        "id": "82WhHNz45FlG",
        "colab_type": "text"
      },
      "source": [
        "For tuning the hyperparameters, we'll use 5-fold stratified Cross-validation technique with no repetitions using 'StratifiedKFold' function. Repetitions will not be used as it causes more stress on processors."
      ]
    },
    {
      "cell_type": "code",
      "metadata": {
        "id": "b6U0TbxY5Jz2",
        "colab_type": "code",
        "colab": {}
      },
      "source": [
        "from sklearn.model_selection import StratifiedKFold, GridSearchCV\n",
        "cv_meth = StratifiedKFold(n_splits=5,random_state=999)"
      ],
      "execution_count": 0,
      "outputs": []
    },
    {
      "cell_type": "markdown",
      "metadata": {
        "id": "DKjD2FlMMn_y",
        "colab_type": "text"
      },
      "source": [
        "##1. K-Nearest Neighbors (KNN)"
      ]
    },
    {
      "cell_type": "markdown",
      "metadata": {
        "id": "y9M_eb57GfAa",
        "colab_type": "text"
      },
      "source": [
        "We'll be using pipeline function on all the 3 Machine Learning classifiers to add-up *grid search* and *feature selection* for tuning hyperparamteres via cross-validation method.\n"
      ]
    },
    {
      "cell_type": "markdown",
      "metadata": {
        "id": "mUA_C6nHp-Zp",
        "colab_type": "text"
      },
      "source": [
        "KNN parameters are given are follows :\n",
        "\n",
        "**1.**  n_neighbors (Number of Neighbors)\n",
        "\n",
        "**2.**  p (distance metric)\n",
        "\n"
      ]
    },
    {
      "cell_type": "markdown",
      "metadata": {
        "id": "S2FJrgrm4lF5",
        "colab_type": "text"
      },
      "source": [
        "We'll use Random Forest Importance (RFI) with 100 estimators for the selection of features. Further, we defined *RFIFeatureSelector()* in the below code chunk which helps in fitting RFI selector in the pipline for further process. \n",
        "\n",
        "We'll choose *Area under ROC curve(AUC)* as our **main performance metrics** because AUC is one of the most commonly used metrics in binary classification. Moreover, for an imbalanced class like our dataset, F1 or AUC is usually recommended."
      ]
    },
    {
      "cell_type": "code",
      "metadata": {
        "id": "3xJSTd2o7Tdi",
        "colab_type": "code",
        "colab": {}
      },
      "source": [
        "from sklearn.base import BaseEstimator, TransformerMixin\n",
        "\n",
        "# custom function for RFI feature selection inside a pipeline\n",
        "# here we use n_estimators=100\n",
        "class RFIFeatureSelector(BaseEstimator, TransformerMixin):\n",
        "    \n",
        "    # class constructor \n",
        "    # make sure class attributes end with a \"_\"\n",
        "    # per scikit-learn convention to avoid errors\n",
        "    def __init__(self, n_features_=10):\n",
        "        self.n_features_ = n_features_\n",
        "        self.fs_indices_ = None\n",
        "\n",
        "    # override the fit function\n",
        "    def fit(self, X, y):\n",
        "        from sklearn.ensemble import RandomForestClassifier\n",
        "        from numpy import argsort\n",
        "        rfi = RandomForestClassifier(n_estimators=100)\n",
        "        rfi.fit(X, y)\n",
        "        self.fs_indices_ = argsort(rfi.feature_importances_)[::-1][0:self.n_features_] \n",
        "        return self \n",
        "    \n",
        "    # override the transform function\n",
        "    def transform(self, X, y=None):\n",
        "        return X[:, self.fs_indices_]"
      ],
      "execution_count": 0,
      "outputs": []
    },
    {
      "cell_type": "code",
      "metadata": {
        "id": "7TzsYT8i7XKr",
        "colab_type": "code",
        "colab": {}
      },
      "source": [
        "from sklearn.pipeline import Pipeline\n",
        "from sklearn.neighbors import KNeighborsClassifier\n",
        "\n",
        "pipeline_KNN = Pipeline(steps=[('rfi_fs', RFIFeatureSelector()),('knn', KNeighborsClassifier())])\n",
        "param_pipeline_KNN = {'rfi_fs__n_features_': [10, 20, des_data.shape[1]],'knn__n_neighbors': [1, 10, 20, 40, 60, 100],'knn__p': [1, 2]}\n",
        "gs_pipeline_KNN = GridSearchCV(estimator=pipeline_KNN,param_grid=param_pipeline_KNN,cv=cv_meth,refit=True,n_jobs=-2,scoring='roc_auc',verbose=1) "
      ],
      "execution_count": 0,
      "outputs": []
    },
    {
      "cell_type": "code",
      "metadata": {
        "id": "JsjyM3XsDmrG",
        "colab_type": "code",
        "outputId": "00528ba1-606e-4a78-b4b1-ad502897a699",
        "colab": {
          "base_uri": "https://localhost:8080/",
          "height": 68
        }
      },
      "source": [
        "gs_pipeline_KNN.fit(des_data_train,target_data_train);"
      ],
      "execution_count": 0,
      "outputs": [
        {
          "output_type": "stream",
          "text": [
            "Fitting 5 folds for each of 36 candidates, totalling 180 fits\n"
          ],
          "name": "stdout"
        },
        {
          "output_type": "stream",
          "text": [
            "[Parallel(n_jobs=-2)]: Using backend SequentialBackend with 1 concurrent workers.\n",
            "[Parallel(n_jobs=-2)]: Done 180 out of 180 | elapsed:  3.9min finished\n"
          ],
          "name": "stderr"
        }
      ]
    },
    {
      "cell_type": "markdown",
      "metadata": {
        "id": "rTmST_m81q2g",
        "colab_type": "text"
      },
      "source": [
        "###Performance Analysis of KNN Model"
      ]
    },
    {
      "cell_type": "markdown",
      "metadata": {
        "id": "H7D7KeH5CGCm",
        "colab_type": "text"
      },
      "source": [
        "As we know , increase in TPR(True Positive Rate) makes our model performance good, but as TPR increases , FPR increases as well. That's why we capture the tradeoff between 'True Positive Rate' and 'False Positive Rate' with different threshold values using  ROC curve."
      ]
    },
    {
      "cell_type": "markdown",
      "metadata": {
        "id": "isu7jnIi1_pp",
        "colab_type": "text"
      },
      "source": [
        "*best_params_* gives the best performing KNN model."
      ]
    },
    {
      "cell_type": "code",
      "metadata": {
        "id": "gigoK6PaEQzS",
        "colab_type": "code",
        "outputId": "efeb5518-4b2d-49e4-ef52-daf48ce5b465",
        "colab": {
          "base_uri": "https://localhost:8080/",
          "height": 34
        }
      },
      "source": [
        "gs_pipeline_KNN.best_params_"
      ],
      "execution_count": 0,
      "outputs": [
        {
          "output_type": "execute_result",
          "data": {
            "text/plain": [
              "{'knn__n_neighbors': 100, 'knn__p': 2, 'rfi_fs__n_features_': 20}"
            ]
          },
          "metadata": {
            "tags": []
          },
          "execution_count": 67
        }
      ]
    },
    {
      "cell_type": "code",
      "metadata": {
        "id": "13bDYFUqERkj",
        "colab_type": "code",
        "outputId": "44053a58-950a-4b69-a248-fa2d8299c3a5",
        "colab": {
          "base_uri": "https://localhost:8080/",
          "height": 34
        }
      },
      "source": [
        "gs_pipeline_KNN.best_score_"
      ],
      "execution_count": 0,
      "outputs": [
        {
          "output_type": "execute_result",
          "data": {
            "text/plain": [
              "0.7192686467100167"
            ]
          },
          "metadata": {
            "tags": []
          },
          "execution_count": 68
        }
      ]
    },
    {
      "cell_type": "markdown",
      "metadata": {
        "id": "sT5UJxwyOn57",
        "colab_type": "text"
      },
      "source": [
        "**AUC score is coming out to be  0.7192** . This tells us the mean cross-validated score of our best estimator."
      ]
    },
    {
      "cell_type": "markdown",
      "metadata": {
        "id": "vssRBrNrQfBa",
        "colab_type": "text"
      },
      "source": [
        " Thus, by using ROC as our performance metrics,a total of  **20 features**  were selected by a **Random Forest Importance** method with **100 nearest neighbors** and **p = 2(Euclidean distance metric)** which gives us our best performing KNN model. "
      ]
    },
    {
      "cell_type": "markdown",
      "metadata": {
        "id": "FeVfNVPY1EY4",
        "colab_type": "text"
      },
      "source": [
        "###ROC Curve Vizualization"
      ]
    },
    {
      "cell_type": "markdown",
      "metadata": {
        "id": "gqXVlIFE65LR",
        "colab_type": "text"
      },
      "source": [
        "We'll calculate prediction scores to visualize an ROC curve.\n",
        "For calculating prediction scores, we'll be using *predict_proba* function."
      ]
    },
    {
      "cell_type": "code",
      "metadata": {
        "id": "-SV9hTeQWKzE",
        "colab_type": "code",
        "outputId": "fa3d1aee-d18c-4f0a-aded-2ba078f3c5b4",
        "colab": {
          "base_uri": "https://localhost:8080/",
          "height": 187
        }
      },
      "source": [
        "roc_prob = gs_pipeline_KNN.predict_proba(des_data_test)\n",
        "roc_prob[0:10]"
      ],
      "execution_count": 0,
      "outputs": [
        {
          "output_type": "execute_result",
          "data": {
            "text/plain": [
              "array([[0.16, 0.84],\n",
              "       [0.06, 0.94],\n",
              "       [0.06, 0.94],\n",
              "       [0.1 , 0.9 ],\n",
              "       [0.13, 0.87],\n",
              "       [0.09, 0.91],\n",
              "       [0.08, 0.92],\n",
              "       [0.1 , 0.9 ],\n",
              "       [0.18, 0.82],\n",
              "       [0.1 , 0.9 ]])"
            ]
          },
          "metadata": {
            "tags": []
          },
          "execution_count": 65
        }
      ]
    },
    {
      "cell_type": "code",
      "metadata": {
        "id": "ZP0tB1x7jMnP",
        "colab_type": "code",
        "outputId": "3604a162-c15d-4f3d-e995-295d72092ebd",
        "colab": {
          "base_uri": "https://localhost:8080/",
          "height": 34
        }
      },
      "source": [
        "from sklearn import metrics\n",
        "FPR, TPR, _ = metrics.roc_curve(target_data_test, roc_prob[:, 1])\n",
        "ROC_AUC_viz = metrics.auc(FPR, TPR)\n",
        "ROC_AUC_viz"
      ],
      "execution_count": 0,
      "outputs": [
        {
          "output_type": "execute_result",
          "data": {
            "text/plain": [
              "0.7478064956625701"
            ]
          },
          "metadata": {
            "tags": []
          },
          "execution_count": 70
        }
      ]
    },
    {
      "cell_type": "code",
      "metadata": {
        "id": "uIao0IFyjOJp",
        "colab_type": "code",
        "outputId": "cf46792e-4468-41ed-8d43-1fc41dcbea2a",
        "colab": {
          "base_uri": "https://localhost:8080/",
          "height": 1969
        }
      },
      "source": [
        "import pandas as pd\n",
        "FPRTPR_df = pd.DataFrame({'FPR': FPR, 'TPR': TPR})\n",
        "FPRTPR_df"
      ],
      "execution_count": 0,
      "outputs": [
        {
          "output_type": "execute_result",
          "data": {
            "text/html": [
              "<div>\n",
              "<style scoped>\n",
              "    .dataframe tbody tr th:only-of-type {\n",
              "        vertical-align: middle;\n",
              "    }\n",
              "\n",
              "    .dataframe tbody tr th {\n",
              "        vertical-align: top;\n",
              "    }\n",
              "\n",
              "    .dataframe thead th {\n",
              "        text-align: right;\n",
              "    }\n",
              "</style>\n",
              "<table border=\"1\" class=\"dataframe\">\n",
              "  <thead>\n",
              "    <tr style=\"text-align: right;\">\n",
              "      <th></th>\n",
              "      <th>FPR</th>\n",
              "      <th>TPR</th>\n",
              "    </tr>\n",
              "  </thead>\n",
              "  <tbody>\n",
              "    <tr>\n",
              "      <th>0</th>\n",
              "      <td>0.000000</td>\n",
              "      <td>0.000000</td>\n",
              "    </tr>\n",
              "    <tr>\n",
              "      <th>1</th>\n",
              "      <td>0.001873</td>\n",
              "      <td>0.005799</td>\n",
              "    </tr>\n",
              "    <tr>\n",
              "      <th>2</th>\n",
              "      <td>0.011236</td>\n",
              "      <td>0.036813</td>\n",
              "    </tr>\n",
              "    <tr>\n",
              "      <th>3</th>\n",
              "      <td>0.024345</td>\n",
              "      <td>0.086989</td>\n",
              "    </tr>\n",
              "    <tr>\n",
              "      <th>4</th>\n",
              "      <td>0.035581</td>\n",
              "      <td>0.136914</td>\n",
              "    </tr>\n",
              "    <tr>\n",
              "      <th>5</th>\n",
              "      <td>0.050562</td>\n",
              "      <td>0.193142</td>\n",
              "    </tr>\n",
              "    <tr>\n",
              "      <th>6</th>\n",
              "      <td>0.088015</td>\n",
              "      <td>0.265255</td>\n",
              "    </tr>\n",
              "    <tr>\n",
              "      <th>7</th>\n",
              "      <td>0.102996</td>\n",
              "      <td>0.320726</td>\n",
              "    </tr>\n",
              "    <tr>\n",
              "      <th>8</th>\n",
              "      <td>0.136704</td>\n",
              "      <td>0.384771</td>\n",
              "    </tr>\n",
              "    <tr>\n",
              "      <th>9</th>\n",
              "      <td>0.168539</td>\n",
              "      <td>0.463944</td>\n",
              "    </tr>\n",
              "    <tr>\n",
              "      <th>10</th>\n",
              "      <td>0.205993</td>\n",
              "      <td>0.527231</td>\n",
              "    </tr>\n",
              "    <tr>\n",
              "      <th>11</th>\n",
              "      <td>0.235955</td>\n",
              "      <td>0.587998</td>\n",
              "    </tr>\n",
              "    <tr>\n",
              "      <th>12</th>\n",
              "      <td>0.271536</td>\n",
              "      <td>0.631871</td>\n",
              "    </tr>\n",
              "    <tr>\n",
              "      <th>13</th>\n",
              "      <td>0.323970</td>\n",
              "      <td>0.691629</td>\n",
              "    </tr>\n",
              "    <tr>\n",
              "      <th>14</th>\n",
              "      <td>0.367041</td>\n",
              "      <td>0.739536</td>\n",
              "    </tr>\n",
              "    <tr>\n",
              "      <th>15</th>\n",
              "      <td>0.402622</td>\n",
              "      <td>0.783157</td>\n",
              "    </tr>\n",
              "    <tr>\n",
              "      <th>16</th>\n",
              "      <td>0.458801</td>\n",
              "      <td>0.819970</td>\n",
              "    </tr>\n",
              "    <tr>\n",
              "      <th>17</th>\n",
              "      <td>0.498127</td>\n",
              "      <td>0.846697</td>\n",
              "    </tr>\n",
              "    <tr>\n",
              "      <th>18</th>\n",
              "      <td>0.526217</td>\n",
              "      <td>0.868129</td>\n",
              "    </tr>\n",
              "    <tr>\n",
              "      <th>19</th>\n",
              "      <td>0.567416</td>\n",
              "      <td>0.890570</td>\n",
              "    </tr>\n",
              "    <tr>\n",
              "      <th>20</th>\n",
              "      <td>0.595506</td>\n",
              "      <td>0.905194</td>\n",
              "    </tr>\n",
              "    <tr>\n",
              "      <th>21</th>\n",
              "      <td>0.640449</td>\n",
              "      <td>0.925366</td>\n",
              "    </tr>\n",
              "    <tr>\n",
              "      <th>22</th>\n",
              "      <td>0.674157</td>\n",
              "      <td>0.937721</td>\n",
              "    </tr>\n",
              "    <tr>\n",
              "      <th>23</th>\n",
              "      <td>0.730337</td>\n",
              "      <td>0.957640</td>\n",
              "    </tr>\n",
              "    <tr>\n",
              "      <th>24</th>\n",
              "      <td>0.764045</td>\n",
              "      <td>0.967221</td>\n",
              "    </tr>\n",
              "    <tr>\n",
              "      <th>25</th>\n",
              "      <td>0.769663</td>\n",
              "      <td>0.971760</td>\n",
              "    </tr>\n",
              "    <tr>\n",
              "      <th>26</th>\n",
              "      <td>0.780899</td>\n",
              "      <td>0.973777</td>\n",
              "    </tr>\n",
              "    <tr>\n",
              "      <th>27</th>\n",
              "      <td>0.797753</td>\n",
              "      <td>0.976299</td>\n",
              "    </tr>\n",
              "    <tr>\n",
              "      <th>28</th>\n",
              "      <td>0.805243</td>\n",
              "      <td>0.979324</td>\n",
              "    </tr>\n",
              "    <tr>\n",
              "      <th>29</th>\n",
              "      <td>0.808989</td>\n",
              "      <td>0.982350</td>\n",
              "    </tr>\n",
              "    <tr>\n",
              "      <th>...</th>\n",
              "      <td>...</td>\n",
              "      <td>...</td>\n",
              "    </tr>\n",
              "    <tr>\n",
              "      <th>34</th>\n",
              "      <td>0.857678</td>\n",
              "      <td>0.988401</td>\n",
              "    </tr>\n",
              "    <tr>\n",
              "      <th>35</th>\n",
              "      <td>0.861423</td>\n",
              "      <td>0.990166</td>\n",
              "    </tr>\n",
              "    <tr>\n",
              "      <th>36</th>\n",
              "      <td>0.863296</td>\n",
              "      <td>0.990166</td>\n",
              "    </tr>\n",
              "    <tr>\n",
              "      <th>37</th>\n",
              "      <td>0.870787</td>\n",
              "      <td>0.990923</td>\n",
              "    </tr>\n",
              "    <tr>\n",
              "      <th>38</th>\n",
              "      <td>0.876404</td>\n",
              "      <td>0.991175</td>\n",
              "    </tr>\n",
              "    <tr>\n",
              "      <th>39</th>\n",
              "      <td>0.882022</td>\n",
              "      <td>0.991931</td>\n",
              "    </tr>\n",
              "    <tr>\n",
              "      <th>40</th>\n",
              "      <td>0.883895</td>\n",
              "      <td>0.992436</td>\n",
              "    </tr>\n",
              "    <tr>\n",
              "      <th>41</th>\n",
              "      <td>0.889513</td>\n",
              "      <td>0.993192</td>\n",
              "    </tr>\n",
              "    <tr>\n",
              "      <th>42</th>\n",
              "      <td>0.893258</td>\n",
              "      <td>0.993444</td>\n",
              "    </tr>\n",
              "    <tr>\n",
              "      <th>43</th>\n",
              "      <td>0.895131</td>\n",
              "      <td>0.993949</td>\n",
              "    </tr>\n",
              "    <tr>\n",
              "      <th>44</th>\n",
              "      <td>0.900749</td>\n",
              "      <td>0.994705</td>\n",
              "    </tr>\n",
              "    <tr>\n",
              "      <th>45</th>\n",
              "      <td>0.902622</td>\n",
              "      <td>0.994957</td>\n",
              "    </tr>\n",
              "    <tr>\n",
              "      <th>46</th>\n",
              "      <td>0.910112</td>\n",
              "      <td>0.995966</td>\n",
              "    </tr>\n",
              "    <tr>\n",
              "      <th>47</th>\n",
              "      <td>0.911985</td>\n",
              "      <td>0.995966</td>\n",
              "    </tr>\n",
              "    <tr>\n",
              "      <th>48</th>\n",
              "      <td>0.919476</td>\n",
              "      <td>0.995966</td>\n",
              "    </tr>\n",
              "    <tr>\n",
              "      <th>49</th>\n",
              "      <td>0.925094</td>\n",
              "      <td>0.996722</td>\n",
              "    </tr>\n",
              "    <tr>\n",
              "      <th>50</th>\n",
              "      <td>0.938202</td>\n",
              "      <td>0.997226</td>\n",
              "    </tr>\n",
              "    <tr>\n",
              "      <th>51</th>\n",
              "      <td>0.941948</td>\n",
              "      <td>0.997479</td>\n",
              "    </tr>\n",
              "    <tr>\n",
              "      <th>52</th>\n",
              "      <td>0.951311</td>\n",
              "      <td>0.997479</td>\n",
              "    </tr>\n",
              "    <tr>\n",
              "      <th>53</th>\n",
              "      <td>0.953184</td>\n",
              "      <td>0.997983</td>\n",
              "    </tr>\n",
              "    <tr>\n",
              "      <th>54</th>\n",
              "      <td>0.955056</td>\n",
              "      <td>0.997983</td>\n",
              "    </tr>\n",
              "    <tr>\n",
              "      <th>55</th>\n",
              "      <td>0.962547</td>\n",
              "      <td>0.998235</td>\n",
              "    </tr>\n",
              "    <tr>\n",
              "      <th>56</th>\n",
              "      <td>0.973783</td>\n",
              "      <td>0.998235</td>\n",
              "    </tr>\n",
              "    <tr>\n",
              "      <th>57</th>\n",
              "      <td>0.979401</td>\n",
              "      <td>0.998487</td>\n",
              "    </tr>\n",
              "    <tr>\n",
              "      <th>58</th>\n",
              "      <td>0.983146</td>\n",
              "      <td>0.998487</td>\n",
              "    </tr>\n",
              "    <tr>\n",
              "      <th>59</th>\n",
              "      <td>0.996255</td>\n",
              "      <td>0.998991</td>\n",
              "    </tr>\n",
              "    <tr>\n",
              "      <th>60</th>\n",
              "      <td>0.998127</td>\n",
              "      <td>0.999496</td>\n",
              "    </tr>\n",
              "    <tr>\n",
              "      <th>61</th>\n",
              "      <td>0.998127</td>\n",
              "      <td>0.999748</td>\n",
              "    </tr>\n",
              "    <tr>\n",
              "      <th>62</th>\n",
              "      <td>1.000000</td>\n",
              "      <td>0.999748</td>\n",
              "    </tr>\n",
              "    <tr>\n",
              "      <th>63</th>\n",
              "      <td>1.000000</td>\n",
              "      <td>1.000000</td>\n",
              "    </tr>\n",
              "  </tbody>\n",
              "</table>\n",
              "<p>64 rows × 2 columns</p>\n",
              "</div>"
            ],
            "text/plain": [
              "         FPR       TPR\n",
              "0   0.000000  0.000000\n",
              "1   0.001873  0.005799\n",
              "2   0.011236  0.036813\n",
              "3   0.024345  0.086989\n",
              "4   0.035581  0.136914\n",
              "5   0.050562  0.193142\n",
              "6   0.088015  0.265255\n",
              "7   0.102996  0.320726\n",
              "8   0.136704  0.384771\n",
              "9   0.168539  0.463944\n",
              "10  0.205993  0.527231\n",
              "11  0.235955  0.587998\n",
              "12  0.271536  0.631871\n",
              "13  0.323970  0.691629\n",
              "14  0.367041  0.739536\n",
              "15  0.402622  0.783157\n",
              "16  0.458801  0.819970\n",
              "17  0.498127  0.846697\n",
              "18  0.526217  0.868129\n",
              "19  0.567416  0.890570\n",
              "20  0.595506  0.905194\n",
              "21  0.640449  0.925366\n",
              "22  0.674157  0.937721\n",
              "23  0.730337  0.957640\n",
              "24  0.764045  0.967221\n",
              "25  0.769663  0.971760\n",
              "26  0.780899  0.973777\n",
              "27  0.797753  0.976299\n",
              "28  0.805243  0.979324\n",
              "29  0.808989  0.982350\n",
              "..       ...       ...\n",
              "34  0.857678  0.988401\n",
              "35  0.861423  0.990166\n",
              "36  0.863296  0.990166\n",
              "37  0.870787  0.990923\n",
              "38  0.876404  0.991175\n",
              "39  0.882022  0.991931\n",
              "40  0.883895  0.992436\n",
              "41  0.889513  0.993192\n",
              "42  0.893258  0.993444\n",
              "43  0.895131  0.993949\n",
              "44  0.900749  0.994705\n",
              "45  0.902622  0.994957\n",
              "46  0.910112  0.995966\n",
              "47  0.911985  0.995966\n",
              "48  0.919476  0.995966\n",
              "49  0.925094  0.996722\n",
              "50  0.938202  0.997226\n",
              "51  0.941948  0.997479\n",
              "52  0.951311  0.997479\n",
              "53  0.953184  0.997983\n",
              "54  0.955056  0.997983\n",
              "55  0.962547  0.998235\n",
              "56  0.973783  0.998235\n",
              "57  0.979401  0.998487\n",
              "58  0.983146  0.998487\n",
              "59  0.996255  0.998991\n",
              "60  0.998127  0.999496\n",
              "61  0.998127  0.999748\n",
              "62  1.000000  0.999748\n",
              "63  1.000000  1.000000\n",
              "\n",
              "[64 rows x 2 columns]"
            ]
          },
          "metadata": {
            "tags": []
          },
          "execution_count": 71
        }
      ]
    },
    {
      "cell_type": "code",
      "metadata": {
        "id": "KJfgUZsEjB0V",
        "colab_type": "code",
        "outputId": "6c3296f5-d175-439b-b5c0-2444b271c239",
        "colab": {
          "base_uri": "https://localhost:8080/",
          "height": 385
        }
      },
      "source": [
        "import altair as alt\n",
        "\n",
        "base_df = alt.Chart(FPRTPR_df,title='ROC Curve of KNN Model').properties(width=300)\n",
        "\n",
        "roc_curv = base_df.mark_line(point=True).encode(alt.X('FPR', title='False Positive Rate(FPR)',sort=None),alt.Y('TPR', title='True Positive Rate(TPR)'),)\n",
        "\n",
        "roc_rul = base_df.mark_line(color='yellow').encode(x='FPR',y='FPR',size=alt.value(2))\n",
        "\n",
        "(roc_curv + roc_rul).interactive()"
      ],
      "execution_count": 0,
      "outputs": [
        {
          "output_type": "execute_result",
          "data": {
            "text/plain": [
              "LayerChart({\n",
              "  layer: [Chart({\n",
              "    data:          FPR       TPR\n",
              "    0   0.000000  0.000000\n",
              "    1   0.001873  0.005799\n",
              "    2   0.011236  0.036813\n",
              "    3   0.024345  0.086989\n",
              "    4   0.035581  0.136914\n",
              "    5   0.050562  0.193142\n",
              "    6   0.088015  0.265255\n",
              "    7   0.102996  0.320726\n",
              "    8   0.136704  0.384771\n",
              "    9   0.168539  0.463944\n",
              "    10  0.205993  0.527231\n",
              "    11  0.235955  0.587998\n",
              "    12  0.271536  0.631871\n",
              "    13  0.323970  0.691629\n",
              "    14  0.367041  0.739536\n",
              "    15  0.402622  0.783157\n",
              "    16  0.458801  0.819970\n",
              "    17  0.498127  0.846697\n",
              "    18  0.526217  0.868129\n",
              "    19  0.567416  0.890570\n",
              "    20  0.595506  0.905194\n",
              "    21  0.640449  0.925366\n",
              "    22  0.674157  0.937721\n",
              "    23  0.730337  0.957640\n",
              "    24  0.764045  0.967221\n",
              "    25  0.769663  0.971760\n",
              "    26  0.780899  0.973777\n",
              "    27  0.797753  0.976299\n",
              "    28  0.805243  0.979324\n",
              "    29  0.808989  0.982350\n",
              "    ..       ...       ...\n",
              "    34  0.857678  0.988401\n",
              "    35  0.861423  0.990166\n",
              "    36  0.863296  0.990166\n",
              "    37  0.870787  0.990923\n",
              "    38  0.876404  0.991175\n",
              "    39  0.882022  0.991931\n",
              "    40  0.883895  0.992436\n",
              "    41  0.889513  0.993192\n",
              "    42  0.893258  0.993444\n",
              "    43  0.895131  0.993949\n",
              "    44  0.900749  0.994705\n",
              "    45  0.902622  0.994957\n",
              "    46  0.910112  0.995966\n",
              "    47  0.911985  0.995966\n",
              "    48  0.919476  0.995966\n",
              "    49  0.925094  0.996722\n",
              "    50  0.938202  0.997226\n",
              "    51  0.941948  0.997479\n",
              "    52  0.951311  0.997479\n",
              "    53  0.953184  0.997983\n",
              "    54  0.955056  0.997983\n",
              "    55  0.962547  0.998235\n",
              "    56  0.973783  0.998235\n",
              "    57  0.979401  0.998487\n",
              "    58  0.983146  0.998487\n",
              "    59  0.996255  0.998991\n",
              "    60  0.998127  0.999496\n",
              "    61  0.998127  0.999748\n",
              "    62  1.000000  0.999748\n",
              "    63  1.000000  1.000000\n",
              "    \n",
              "    [64 rows x 2 columns],\n",
              "    encoding: FacetedEncoding({\n",
              "      x: X({\n",
              "        shorthand: 'FPR',\n",
              "        sort: None,\n",
              "        title: 'False Positive Rate(FPR)'\n",
              "      }),\n",
              "      y: Y({\n",
              "        shorthand: 'TPR',\n",
              "        title: 'True Positive Rate(TPR)'\n",
              "      })\n",
              "    }),\n",
              "    mark: MarkDef({\n",
              "      point: True,\n",
              "      type: 'line'\n",
              "    }),\n",
              "    selection: {'selector002': SelectionDef({\n",
              "      bind: 'scales',\n",
              "      encodings: ['x', 'y'],\n",
              "      type: 'interval'\n",
              "    })},\n",
              "    title: 'ROC Curve of KNN Model',\n",
              "    width: 300\n",
              "  }), Chart({\n",
              "    data:          FPR       TPR\n",
              "    0   0.000000  0.000000\n",
              "    1   0.001873  0.005799\n",
              "    2   0.011236  0.036813\n",
              "    3   0.024345  0.086989\n",
              "    4   0.035581  0.136914\n",
              "    5   0.050562  0.193142\n",
              "    6   0.088015  0.265255\n",
              "    7   0.102996  0.320726\n",
              "    8   0.136704  0.384771\n",
              "    9   0.168539  0.463944\n",
              "    10  0.205993  0.527231\n",
              "    11  0.235955  0.587998\n",
              "    12  0.271536  0.631871\n",
              "    13  0.323970  0.691629\n",
              "    14  0.367041  0.739536\n",
              "    15  0.402622  0.783157\n",
              "    16  0.458801  0.819970\n",
              "    17  0.498127  0.846697\n",
              "    18  0.526217  0.868129\n",
              "    19  0.567416  0.890570\n",
              "    20  0.595506  0.905194\n",
              "    21  0.640449  0.925366\n",
              "    22  0.674157  0.937721\n",
              "    23  0.730337  0.957640\n",
              "    24  0.764045  0.967221\n",
              "    25  0.769663  0.971760\n",
              "    26  0.780899  0.973777\n",
              "    27  0.797753  0.976299\n",
              "    28  0.805243  0.979324\n",
              "    29  0.808989  0.982350\n",
              "    ..       ...       ...\n",
              "    34  0.857678  0.988401\n",
              "    35  0.861423  0.990166\n",
              "    36  0.863296  0.990166\n",
              "    37  0.870787  0.990923\n",
              "    38  0.876404  0.991175\n",
              "    39  0.882022  0.991931\n",
              "    40  0.883895  0.992436\n",
              "    41  0.889513  0.993192\n",
              "    42  0.893258  0.993444\n",
              "    43  0.895131  0.993949\n",
              "    44  0.900749  0.994705\n",
              "    45  0.902622  0.994957\n",
              "    46  0.910112  0.995966\n",
              "    47  0.911985  0.995966\n",
              "    48  0.919476  0.995966\n",
              "    49  0.925094  0.996722\n",
              "    50  0.938202  0.997226\n",
              "    51  0.941948  0.997479\n",
              "    52  0.951311  0.997479\n",
              "    53  0.953184  0.997983\n",
              "    54  0.955056  0.997983\n",
              "    55  0.962547  0.998235\n",
              "    56  0.973783  0.998235\n",
              "    57  0.979401  0.998487\n",
              "    58  0.983146  0.998487\n",
              "    59  0.996255  0.998991\n",
              "    60  0.998127  0.999496\n",
              "    61  0.998127  0.999748\n",
              "    62  1.000000  0.999748\n",
              "    63  1.000000  1.000000\n",
              "    \n",
              "    [64 rows x 2 columns],\n",
              "    encoding: FacetedEncoding({\n",
              "      size: ValueDefWithOptionalConditionMarkPropFieldDefnumber({\n",
              "        value: 2\n",
              "      }),\n",
              "      x: X({\n",
              "        shorthand: 'FPR'\n",
              "      }),\n",
              "      y: Y({\n",
              "        shorthand: 'FPR'\n",
              "      })\n",
              "    }),\n",
              "    mark: MarkDef({\n",
              "      color: 'yellow',\n",
              "      type: 'line'\n",
              "    }),\n",
              "    title: 'ROC Curve of KNN Model',\n",
              "    width: 300\n",
              "  })]\n",
              "})"
            ],
            "text/html": [
              "<!DOCTYPE html>\n",
              "<html>\n",
              "<head>\n",
              "  <style>\n",
              "    .vega-actions a {\n",
              "        margin-right: 12px;\n",
              "        color: #757575;\n",
              "        font-weight: normal;\n",
              "        font-size: 13px;\n",
              "    }\n",
              "    .error {\n",
              "        color: red;\n",
              "    }\n",
              "  </style>\n",
              "  <script type=\"text/javascript\" src=\"https://cdn.jsdelivr.net/npm//vega@5\"></script>\n",
              "  <script type=\"text/javascript\" src=\"https://cdn.jsdelivr.net/npm//vega-lite@3.2.1\"></script>\n",
              "  <script type=\"text/javascript\" src=\"https://cdn.jsdelivr.net/npm//vega-embed@4\"></script>\n",
              "</head>\n",
              "<body>\n",
              "  <div id=\"altair-viz\"></div>\n",
              "  <script>\n",
              "      var spec = {\"config\": {\"view\": {\"width\": 400, \"height\": 300}, \"mark\": {\"tooltip\": null}}, \"layer\": [{\"data\": {\"name\": \"data-40587f2d62f940acf38fedc7a22f4b42\"}, \"mark\": {\"type\": \"line\", \"point\": true}, \"encoding\": {\"x\": {\"type\": \"quantitative\", \"field\": \"FPR\", \"sort\": null, \"title\": \"False Positive Rate(FPR)\"}, \"y\": {\"type\": \"quantitative\", \"field\": \"TPR\", \"title\": \"True Positive Rate(TPR)\"}}, \"selection\": {\"selector002\": {\"type\": \"interval\", \"bind\": \"scales\", \"encodings\": [\"x\", \"y\"]}}, \"title\": \"ROC Curve of KNN Model\", \"width\": 300}, {\"data\": {\"name\": \"data-40587f2d62f940acf38fedc7a22f4b42\"}, \"mark\": {\"type\": \"line\", \"color\": \"yellow\"}, \"encoding\": {\"size\": {\"value\": 2}, \"x\": {\"type\": \"quantitative\", \"field\": \"FPR\"}, \"y\": {\"type\": \"quantitative\", \"field\": \"FPR\"}}, \"title\": \"ROC Curve of KNN Model\", \"width\": 300}], \"$schema\": \"https://vega.github.io/schema/vega-lite/v3.2.1.json\", \"datasets\": {\"data-40587f2d62f940acf38fedc7a22f4b42\": [{\"FPR\": 0.0, \"TPR\": 0.0}, {\"FPR\": 0.0018726591760299626, \"TPR\": 0.005799293998991427}, {\"FPR\": 0.011235955056179775, \"TPR\": 0.03681290973272819}, {\"FPR\": 0.024344569288389514, \"TPR\": 0.08698940998487141}, {\"FPR\": 0.035580524344569285, \"TPR\": 0.13691376701966718}, {\"FPR\": 0.05056179775280899, \"TPR\": 0.19314170448814927}, {\"FPR\": 0.08801498127340825, \"TPR\": 0.2652546646495209}, {\"FPR\": 0.10299625468164794, \"TPR\": 0.3207261724659607}, {\"FPR\": 0.13670411985018727, \"TPR\": 0.3847705496722138}, {\"FPR\": 0.16853932584269662, \"TPR\": 0.46394351991931415}, {\"FPR\": 0.20599250936329588, \"TPR\": 0.527231467473525}, {\"FPR\": 0.23595505617977527, \"TPR\": 0.5879979828542612}, {\"FPR\": 0.27153558052434457, \"TPR\": 0.6318709026727181}, {\"FPR\": 0.32397003745318353, \"TPR\": 0.6916288451840645}, {\"FPR\": 0.36704119850187267, \"TPR\": 0.7395360564800807}, {\"FPR\": 0.40262172284644193, \"TPR\": 0.7831568330811901}, {\"FPR\": 0.45880149812734083, \"TPR\": 0.8199697428139183}, {\"FPR\": 0.49812734082397003, \"TPR\": 0.8466969238527483}, {\"FPR\": 0.5262172284644194, \"TPR\": 0.8681290973272819}, {\"FPR\": 0.5674157303370787, \"TPR\": 0.8905698436712053}, {\"FPR\": 0.5955056179775281, \"TPR\": 0.9051941502773575}, {\"FPR\": 0.6404494382022472, \"TPR\": 0.9253656076651539}, {\"FPR\": 0.6741573033707865, \"TPR\": 0.937720625315179}, {\"FPR\": 0.7303370786516854, \"TPR\": 0.9576399394856279}, {\"FPR\": 0.7640449438202247, \"TPR\": 0.9672213817448311}, {\"FPR\": 0.7696629213483146, \"TPR\": 0.9717599596570852}, {\"FPR\": 0.7808988764044944, \"TPR\": 0.9737771053958648}, {\"FPR\": 0.797752808988764, \"TPR\": 0.9762985375693394}, {\"FPR\": 0.8052434456928839, \"TPR\": 0.9793242561775088}, {\"FPR\": 0.8089887640449438, \"TPR\": 0.9823499747856783}, {\"FPR\": 0.8146067415730337, \"TPR\": 0.9843671205244579}, {\"FPR\": 0.8258426966292135, \"TPR\": 0.98613212304589}, {\"FPR\": 0.8408239700374532, \"TPR\": 0.9868885526979324}, {\"FPR\": 0.850187265917603, \"TPR\": 0.9881492687846697}, {\"FPR\": 0.8576779026217228, \"TPR\": 0.9884014120020171}, {\"FPR\": 0.8614232209737828, \"TPR\": 0.9901664145234493}, {\"FPR\": 0.8632958801498127, \"TPR\": 0.9901664145234493}, {\"FPR\": 0.8707865168539326, \"TPR\": 0.9909228441754917}, {\"FPR\": 0.8764044943820225, \"TPR\": 0.9911749873928392}, {\"FPR\": 0.8820224719101124, \"TPR\": 0.9919314170448815}, {\"FPR\": 0.8838951310861424, \"TPR\": 0.9924357034795764}, {\"FPR\": 0.8895131086142322, \"TPR\": 0.9931921331316188}, {\"FPR\": 0.8932584269662921, \"TPR\": 0.9934442763489663}, {\"FPR\": 0.8951310861423221, \"TPR\": 0.9939485627836612}, {\"FPR\": 0.900749063670412, \"TPR\": 0.9947049924357034}, {\"FPR\": 0.9026217228464419, \"TPR\": 0.9949571356530509}, {\"FPR\": 0.9101123595505618, \"TPR\": 0.9959657085224407}, {\"FPR\": 0.9119850187265918, \"TPR\": 0.9959657085224407}, {\"FPR\": 0.9194756554307116, \"TPR\": 0.9959657085224407}, {\"FPR\": 0.9250936329588015, \"TPR\": 0.9967221381744831}, {\"FPR\": 0.9382022471910112, \"TPR\": 0.997226424609178}, {\"FPR\": 0.9419475655430711, \"TPR\": 0.9974785678265254}, {\"FPR\": 0.951310861423221, \"TPR\": 0.9974785678265254}, {\"FPR\": 0.9531835205992509, \"TPR\": 0.9979828542612204}, {\"FPR\": 0.9550561797752809, \"TPR\": 0.9979828542612204}, {\"FPR\": 0.9625468164794008, \"TPR\": 0.9982349974785678}, {\"FPR\": 0.9737827715355806, \"TPR\": 0.9982349974785678}, {\"FPR\": 0.9794007490636704, \"TPR\": 0.9984871406959153}, {\"FPR\": 0.9831460674157303, \"TPR\": 0.9984871406959153}, {\"FPR\": 0.9962546816479401, \"TPR\": 0.9989914271306102}, {\"FPR\": 0.99812734082397, \"TPR\": 0.9994957135653051}, {\"FPR\": 0.99812734082397, \"TPR\": 0.9997478567826525}, {\"FPR\": 1.0, \"TPR\": 0.9997478567826525}, {\"FPR\": 1.0, \"TPR\": 1.0}]}};\n",
              "      var embedOpt = {\"mode\": \"vega-lite\"};\n",
              "\n",
              "      function showError(el, error){\n",
              "          el.innerHTML = ('<div class=\"error\" style=\"color:red;\">'\n",
              "                          + '<p>JavaScript Error: ' + error.message + '</p>'\n",
              "                          + \"<p>This usually means there's a typo in your chart specification. \"\n",
              "                          + \"See the javascript console for the full traceback.</p>\"\n",
              "                          + '</div>');\n",
              "          throw error;\n",
              "      }\n",
              "      const el = document.getElementById('altair-viz');\n",
              "      vegaEmbed(\"#altair-viz\", spec, embedOpt)\n",
              "        .catch(error => showError(el, error));\n",
              "\n",
              "  </script>\n",
              "</body>\n",
              "</html>"
            ]
          },
          "metadata": {
            "tags": []
          },
          "execution_count": 82
        }
      ]
    },
    {
      "cell_type": "markdown",
      "metadata": {
        "id": "BhWEAmOm-NRj",
        "colab_type": "text"
      },
      "source": [
        "ROC curve shows the plot of TPR against FPR for various cutpoints. The curve indicates that our optimized KNN  model has a good predictive performance.The model is considered better if the curve are more towards the top right corner in ROC curve. However, the closer the curve comes to the 45-degree diagonal of ROC, the less accurate the KNN model."
      ]
    },
    {
      "cell_type": "markdown",
      "metadata": {
        "id": "2kt9e6HVA6vl",
        "colab_type": "text"
      },
      "source": [
        "##2. DECISION TREE "
      ]
    },
    {
      "cell_type": "markdown",
      "metadata": {
        "id": "dY95whulDw2u",
        "colab_type": "text"
      },
      "source": [
        "We'll fit a decision tree classifier with  a set of *max_depth* values, *number of features*, *minimum sample split* , and  *criterion = 'gini'* to increase the Information Gain.\n",
        "\n",
        "We'll be using *Grid Search* over split criterion, maximum depth, and the paramters of minimum sample split."
      ]
    },
    {
      "cell_type": "markdown",
      "metadata": {
        "id": "NG45we5U1irJ",
        "colab_type": "text"
      },
      "source": [
        "Again, we'll use Random Forest Importance (RFI) with 100 estimators for the selection of features. Further, we defined *RFIFeatureSelector()* in the below code chunk which helps in fitting RFI selector in the pipline for further process. \n",
        "\n",
        "Chose *Area under ROC curve(AUC)* as our **main performance metrics** ."
      ]
    },
    {
      "cell_type": "code",
      "metadata": {
        "id": "E7rNB-EiGkvY",
        "colab_type": "code",
        "colab": {}
      },
      "source": [
        "from sklearn.tree import DecisionTreeClassifier\n",
        "\n",
        "pipeline_DT = Pipeline([('rfi_fs', RFIFeatureSelector()),\n",
        "                    ('dt', DecisionTreeClassifier(criterion='gini'))])\n",
        "\n",
        "param_pipeline_DT = {'rfi_fs__n_features_': [10,20,des_data.shape[1]],\n",
        "                  'dt__max_depth': [3,4,5,10,15],\n",
        "                  'dt__min_samples_split': [2,5,10,50,100,150]}\n",
        "\n",
        "gs_pipeline_DT = GridSearchCV(estimator=pipeline_DT, \n",
        "                          param_grid=param_pipeline_DT, \n",
        "                          cv=cv_meth,\n",
        "                          refit=True,\n",
        "                          n_jobs=-2,\n",
        "                          scoring='roc_auc',\n",
        "                          verbose=1) "
      ],
      "execution_count": 0,
      "outputs": []
    },
    {
      "cell_type": "code",
      "metadata": {
        "id": "wv9CYFP1JyFP",
        "colab_type": "code",
        "outputId": "7188ded1-3343-4d14-b3d8-5faae6f78887",
        "colab": {
          "base_uri": "https://localhost:8080/",
          "height": 68
        }
      },
      "source": [
        "gs_pipeline_DT.fit(des_data_train,target_data_train);"
      ],
      "execution_count": 0,
      "outputs": [
        {
          "output_type": "stream",
          "text": [
            "Fitting 5 folds for each of 90 candidates, totalling 450 fits\n"
          ],
          "name": "stdout"
        },
        {
          "output_type": "stream",
          "text": [
            "[Parallel(n_jobs=-2)]: Using backend SequentialBackend with 1 concurrent workers.\n",
            "[Parallel(n_jobs=-2)]: Done 450 out of 450 | elapsed:  5.9min finished\n"
          ],
          "name": "stderr"
        }
      ]
    },
    {
      "cell_type": "markdown",
      "metadata": {
        "id": "lwWq4pofaQjp",
        "colab_type": "text"
      },
      "source": [
        "###Performance Analysis Of Decision Tree"
      ]
    },
    {
      "cell_type": "code",
      "metadata": {
        "id": "ZKWcDaNsOZjA",
        "colab_type": "code",
        "outputId": "8933b922-b7c4-497e-e192-be2a884f874e",
        "colab": {
          "base_uri": "https://localhost:8080/",
          "height": 34
        }
      },
      "source": [
        "gs_pipeline_DT.best_params_"
      ],
      "execution_count": 0,
      "outputs": [
        {
          "output_type": "execute_result",
          "data": {
            "text/plain": [
              "{'dt__max_depth': 10, 'dt__min_samples_split': 150, 'rfi_fs__n_features_': 34}"
            ]
          },
          "metadata": {
            "tags": []
          },
          "execution_count": 75
        }
      ]
    },
    {
      "cell_type": "code",
      "metadata": {
        "id": "WthI82BvOiuM",
        "colab_type": "code",
        "outputId": "2d1e9c22-c464-4622-a758-2e3bd0ce5d60",
        "colab": {
          "base_uri": "https://localhost:8080/",
          "height": 34
        }
      },
      "source": [
        "gs_pipeline_DT.best_score_"
      ],
      "execution_count": 0,
      "outputs": [
        {
          "output_type": "execute_result",
          "data": {
            "text/plain": [
              "0.7212773297403553"
            ]
          },
          "metadata": {
            "tags": []
          },
          "execution_count": 77
        }
      ]
    },
    {
      "cell_type": "markdown",
      "metadata": {
        "id": "q3S39qTfXD9m",
        "colab_type": "text"
      },
      "source": [
        "**AUC score is coming out to be  0.7212** . This tells us the mean cross-validated score of our best estimator."
      ]
    },
    {
      "cell_type": "markdown",
      "metadata": {
        "id": "NeeeKNChXk6G",
        "colab_type": "text"
      },
      "source": [
        "Thus, by using AUC score as our main performance metrics,a total of all  **34 features**  were selected by a **Random Forest Importance** method with a **minimum sample split = 150** and  **max_depth = 10** which gives us our best performing Decision Tree model. "
      ]
    },
    {
      "cell_type": "markdown",
      "metadata": {
        "id": "8ihjM6uYaDCv",
        "colab_type": "text"
      },
      "source": [
        "###ROC Curve Vizualization"
      ]
    },
    {
      "cell_type": "markdown",
      "metadata": {
        "id": "HqylxQVAal0B",
        "colab_type": "text"
      },
      "source": [
        "We'll calculate prediction scores to visualize an ROC curve. For calculating prediction scores, we'll be using predict_proba function."
      ]
    },
    {
      "cell_type": "code",
      "metadata": {
        "id": "s4ZP54CnbAIe",
        "colab_type": "code",
        "outputId": "2b48bae9-03dd-43e8-b871-c8a5d34afc71",
        "colab": {
          "base_uri": "https://localhost:8080/",
          "height": 187
        }
      },
      "source": [
        "roc_prob1 = gs_pipeline_DT.predict_proba(des_data_test)\n",
        "roc_prob1[0:10]"
      ],
      "execution_count": 0,
      "outputs": [
        {
          "output_type": "execute_result",
          "data": {
            "text/plain": [
              "array([[0.15485564, 0.84514436],\n",
              "       [0.0651341 , 0.9348659 ],\n",
              "       [0.        , 1.        ],\n",
              "       [0.09331476, 0.90668524],\n",
              "       [0.17391304, 0.82608696],\n",
              "       [0.05638298, 0.94361702],\n",
              "       [0.09251969, 0.90748031],\n",
              "       [0.05638298, 0.94361702],\n",
              "       [0.02803738, 0.97196262],\n",
              "       [0.09251969, 0.90748031]])"
            ]
          },
          "metadata": {
            "tags": []
          },
          "execution_count": 78
        }
      ]
    },
    {
      "cell_type": "code",
      "metadata": {
        "id": "9v-Ykq02b56D",
        "colab_type": "code",
        "outputId": "87a52d26-1fd7-4104-f7b4-751d75c20276",
        "colab": {
          "base_uri": "https://localhost:8080/",
          "height": 34
        }
      },
      "source": [
        "from sklearn import metrics\n",
        "FPR1, TPR1, _ = metrics.roc_curve(target_data_test, roc_prob1[:, 1])\n",
        "ROC_AUC_viz1 = metrics.auc(FPR1, TPR1)\n",
        "ROC_AUC_viz1"
      ],
      "execution_count": 0,
      "outputs": [
        {
          "output_type": "execute_result",
          "data": {
            "text/plain": [
              "0.7229590564744146"
            ]
          },
          "metadata": {
            "tags": []
          },
          "execution_count": 79
        }
      ]
    },
    {
      "cell_type": "code",
      "metadata": {
        "id": "W-q2a9tEcSNL",
        "colab_type": "code",
        "outputId": "8d2dfe49-d0d7-4cff-8f04-376437ac406b",
        "colab": {
          "base_uri": "https://localhost:8080/",
          "height": 1878
        }
      },
      "source": [
        "FPRTPR_df1 = pd.DataFrame({'FPR': FPR1, 'TPR': TPR1})\n",
        "FPRTPR_df1"
      ],
      "execution_count": 0,
      "outputs": [
        {
          "output_type": "execute_result",
          "data": {
            "text/html": [
              "<div>\n",
              "<style scoped>\n",
              "    .dataframe tbody tr th:only-of-type {\n",
              "        vertical-align: middle;\n",
              "    }\n",
              "\n",
              "    .dataframe tbody tr th {\n",
              "        vertical-align: top;\n",
              "    }\n",
              "\n",
              "    .dataframe thead th {\n",
              "        text-align: right;\n",
              "    }\n",
              "</style>\n",
              "<table border=\"1\" class=\"dataframe\">\n",
              "  <thead>\n",
              "    <tr style=\"text-align: right;\">\n",
              "      <th></th>\n",
              "      <th>FPR</th>\n",
              "      <th>TPR</th>\n",
              "    </tr>\n",
              "  </thead>\n",
              "  <tbody>\n",
              "    <tr>\n",
              "      <th>0</th>\n",
              "      <td>0.000000</td>\n",
              "      <td>0.000000</td>\n",
              "    </tr>\n",
              "    <tr>\n",
              "      <th>1</th>\n",
              "      <td>0.018727</td>\n",
              "      <td>0.057489</td>\n",
              "    </tr>\n",
              "    <tr>\n",
              "      <th>2</th>\n",
              "      <td>0.020599</td>\n",
              "      <td>0.071609</td>\n",
              "    </tr>\n",
              "    <tr>\n",
              "      <th>3</th>\n",
              "      <td>0.031835</td>\n",
              "      <td>0.078921</td>\n",
              "    </tr>\n",
              "    <tr>\n",
              "      <th>4</th>\n",
              "      <td>0.035581</td>\n",
              "      <td>0.086737</td>\n",
              "    </tr>\n",
              "    <tr>\n",
              "      <th>5</th>\n",
              "      <td>0.048689</td>\n",
              "      <td>0.111699</td>\n",
              "    </tr>\n",
              "    <tr>\n",
              "      <th>6</th>\n",
              "      <td>0.059925</td>\n",
              "      <td>0.124307</td>\n",
              "    </tr>\n",
              "    <tr>\n",
              "      <th>7</th>\n",
              "      <td>0.069288</td>\n",
              "      <td>0.138931</td>\n",
              "    </tr>\n",
              "    <tr>\n",
              "      <th>8</th>\n",
              "      <td>0.074906</td>\n",
              "      <td>0.167423</td>\n",
              "    </tr>\n",
              "    <tr>\n",
              "      <th>9</th>\n",
              "      <td>0.080524</td>\n",
              "      <td>0.178013</td>\n",
              "    </tr>\n",
              "    <tr>\n",
              "      <th>10</th>\n",
              "      <td>0.086142</td>\n",
              "      <td>0.204236</td>\n",
              "    </tr>\n",
              "    <tr>\n",
              "      <th>11</th>\n",
              "      <td>0.095506</td>\n",
              "      <td>0.274332</td>\n",
              "    </tr>\n",
              "    <tr>\n",
              "      <th>12</th>\n",
              "      <td>0.104869</td>\n",
              "      <td>0.284670</td>\n",
              "    </tr>\n",
              "    <tr>\n",
              "      <th>13</th>\n",
              "      <td>0.106742</td>\n",
              "      <td>0.291982</td>\n",
              "    </tr>\n",
              "    <tr>\n",
              "      <th>14</th>\n",
              "      <td>0.136704</td>\n",
              "      <td>0.363338</td>\n",
              "    </tr>\n",
              "    <tr>\n",
              "      <th>15</th>\n",
              "      <td>0.136704</td>\n",
              "      <td>0.379476</td>\n",
              "    </tr>\n",
              "    <tr>\n",
              "      <th>16</th>\n",
              "      <td>0.194757</td>\n",
              "      <td>0.474029</td>\n",
              "    </tr>\n",
              "    <tr>\n",
              "      <th>17</th>\n",
              "      <td>0.205993</td>\n",
              "      <td>0.498487</td>\n",
              "    </tr>\n",
              "    <tr>\n",
              "      <th>18</th>\n",
              "      <td>0.228464</td>\n",
              "      <td>0.515885</td>\n",
              "    </tr>\n",
              "    <tr>\n",
              "      <th>19</th>\n",
              "      <td>0.234082</td>\n",
              "      <td>0.528744</td>\n",
              "    </tr>\n",
              "    <tr>\n",
              "      <th>20</th>\n",
              "      <td>0.264045</td>\n",
              "      <td>0.537821</td>\n",
              "    </tr>\n",
              "    <tr>\n",
              "      <th>21</th>\n",
              "      <td>0.271536</td>\n",
              "      <td>0.555472</td>\n",
              "    </tr>\n",
              "    <tr>\n",
              "      <th>22</th>\n",
              "      <td>0.299625</td>\n",
              "      <td>0.606152</td>\n",
              "    </tr>\n",
              "    <tr>\n",
              "      <th>23</th>\n",
              "      <td>0.368914</td>\n",
              "      <td>0.675492</td>\n",
              "    </tr>\n",
              "    <tr>\n",
              "      <th>24</th>\n",
              "      <td>0.368914</td>\n",
              "      <td>0.678770</td>\n",
              "    </tr>\n",
              "    <tr>\n",
              "      <th>25</th>\n",
              "      <td>0.368914</td>\n",
              "      <td>0.680030</td>\n",
              "    </tr>\n",
              "    <tr>\n",
              "      <th>26</th>\n",
              "      <td>0.374532</td>\n",
              "      <td>0.688351</td>\n",
              "    </tr>\n",
              "    <tr>\n",
              "      <th>27</th>\n",
              "      <td>0.374532</td>\n",
              "      <td>0.689360</td>\n",
              "    </tr>\n",
              "    <tr>\n",
              "      <th>28</th>\n",
              "      <td>0.391386</td>\n",
              "      <td>0.714070</td>\n",
              "    </tr>\n",
              "    <tr>\n",
              "      <th>29</th>\n",
              "      <td>0.391386</td>\n",
              "      <td>0.715078</td>\n",
              "    </tr>\n",
              "    <tr>\n",
              "      <th>30</th>\n",
              "      <td>0.443820</td>\n",
              "      <td>0.772315</td>\n",
              "    </tr>\n",
              "    <tr>\n",
              "      <th>31</th>\n",
              "      <td>0.443820</td>\n",
              "      <td>0.781392</td>\n",
              "    </tr>\n",
              "    <tr>\n",
              "      <th>32</th>\n",
              "      <td>0.449438</td>\n",
              "      <td>0.785174</td>\n",
              "    </tr>\n",
              "    <tr>\n",
              "      <th>33</th>\n",
              "      <td>0.529963</td>\n",
              "      <td>0.850731</td>\n",
              "    </tr>\n",
              "    <tr>\n",
              "      <th>34</th>\n",
              "      <td>0.539326</td>\n",
              "      <td>0.870146</td>\n",
              "    </tr>\n",
              "    <tr>\n",
              "      <th>35</th>\n",
              "      <td>0.541199</td>\n",
              "      <td>0.875189</td>\n",
              "    </tr>\n",
              "    <tr>\n",
              "      <th>36</th>\n",
              "      <td>0.544944</td>\n",
              "      <td>0.876702</td>\n",
              "    </tr>\n",
              "    <tr>\n",
              "      <th>37</th>\n",
              "      <td>0.546816</td>\n",
              "      <td>0.879476</td>\n",
              "    </tr>\n",
              "    <tr>\n",
              "      <th>38</th>\n",
              "      <td>0.556180</td>\n",
              "      <td>0.885527</td>\n",
              "    </tr>\n",
              "    <tr>\n",
              "      <th>39</th>\n",
              "      <td>0.559925</td>\n",
              "      <td>0.890066</td>\n",
              "    </tr>\n",
              "    <tr>\n",
              "      <th>40</th>\n",
              "      <td>0.582397</td>\n",
              "      <td>0.896117</td>\n",
              "    </tr>\n",
              "    <tr>\n",
              "      <th>41</th>\n",
              "      <td>0.593633</td>\n",
              "      <td>0.898134</td>\n",
              "    </tr>\n",
              "    <tr>\n",
              "      <th>42</th>\n",
              "      <td>0.593633</td>\n",
              "      <td>0.899899</td>\n",
              "    </tr>\n",
              "    <tr>\n",
              "      <th>43</th>\n",
              "      <td>0.715356</td>\n",
              "      <td>0.947554</td>\n",
              "    </tr>\n",
              "    <tr>\n",
              "      <th>44</th>\n",
              "      <td>0.715356</td>\n",
              "      <td>0.948563</td>\n",
              "    </tr>\n",
              "    <tr>\n",
              "      <th>45</th>\n",
              "      <td>0.715356</td>\n",
              "      <td>0.950832</td>\n",
              "    </tr>\n",
              "    <tr>\n",
              "      <th>46</th>\n",
              "      <td>0.719101</td>\n",
              "      <td>0.952093</td>\n",
              "    </tr>\n",
              "    <tr>\n",
              "      <th>47</th>\n",
              "      <td>0.741573</td>\n",
              "      <td>0.961674</td>\n",
              "    </tr>\n",
              "    <tr>\n",
              "      <th>48</th>\n",
              "      <td>0.743446</td>\n",
              "      <td>0.962683</td>\n",
              "    </tr>\n",
              "    <tr>\n",
              "      <th>49</th>\n",
              "      <td>0.747191</td>\n",
              "      <td>0.963187</td>\n",
              "    </tr>\n",
              "    <tr>\n",
              "      <th>50</th>\n",
              "      <td>0.780899</td>\n",
              "      <td>0.971508</td>\n",
              "    </tr>\n",
              "    <tr>\n",
              "      <th>51</th>\n",
              "      <td>0.825843</td>\n",
              "      <td>0.984367</td>\n",
              "    </tr>\n",
              "    <tr>\n",
              "      <th>52</th>\n",
              "      <td>0.838951</td>\n",
              "      <td>0.985376</td>\n",
              "    </tr>\n",
              "    <tr>\n",
              "      <th>53</th>\n",
              "      <td>0.878277</td>\n",
              "      <td>0.991427</td>\n",
              "    </tr>\n",
              "    <tr>\n",
              "      <th>54</th>\n",
              "      <td>0.878277</td>\n",
              "      <td>0.992436</td>\n",
              "    </tr>\n",
              "    <tr>\n",
              "      <th>55</th>\n",
              "      <td>0.953184</td>\n",
              "      <td>0.997226</td>\n",
              "    </tr>\n",
              "    <tr>\n",
              "      <th>56</th>\n",
              "      <td>0.955056</td>\n",
              "      <td>0.997731</td>\n",
              "    </tr>\n",
              "    <tr>\n",
              "      <th>57</th>\n",
              "      <td>1.000000</td>\n",
              "      <td>0.999496</td>\n",
              "    </tr>\n",
              "    <tr>\n",
              "      <th>58</th>\n",
              "      <td>1.000000</td>\n",
              "      <td>1.000000</td>\n",
              "    </tr>\n",
              "  </tbody>\n",
              "</table>\n",
              "</div>"
            ],
            "text/plain": [
              "         FPR       TPR\n",
              "0   0.000000  0.000000\n",
              "1   0.018727  0.057489\n",
              "2   0.020599  0.071609\n",
              "3   0.031835  0.078921\n",
              "4   0.035581  0.086737\n",
              "5   0.048689  0.111699\n",
              "6   0.059925  0.124307\n",
              "7   0.069288  0.138931\n",
              "8   0.074906  0.167423\n",
              "9   0.080524  0.178013\n",
              "10  0.086142  0.204236\n",
              "11  0.095506  0.274332\n",
              "12  0.104869  0.284670\n",
              "13  0.106742  0.291982\n",
              "14  0.136704  0.363338\n",
              "15  0.136704  0.379476\n",
              "16  0.194757  0.474029\n",
              "17  0.205993  0.498487\n",
              "18  0.228464  0.515885\n",
              "19  0.234082  0.528744\n",
              "20  0.264045  0.537821\n",
              "21  0.271536  0.555472\n",
              "22  0.299625  0.606152\n",
              "23  0.368914  0.675492\n",
              "24  0.368914  0.678770\n",
              "25  0.368914  0.680030\n",
              "26  0.374532  0.688351\n",
              "27  0.374532  0.689360\n",
              "28  0.391386  0.714070\n",
              "29  0.391386  0.715078\n",
              "30  0.443820  0.772315\n",
              "31  0.443820  0.781392\n",
              "32  0.449438  0.785174\n",
              "33  0.529963  0.850731\n",
              "34  0.539326  0.870146\n",
              "35  0.541199  0.875189\n",
              "36  0.544944  0.876702\n",
              "37  0.546816  0.879476\n",
              "38  0.556180  0.885527\n",
              "39  0.559925  0.890066\n",
              "40  0.582397  0.896117\n",
              "41  0.593633  0.898134\n",
              "42  0.593633  0.899899\n",
              "43  0.715356  0.947554\n",
              "44  0.715356  0.948563\n",
              "45  0.715356  0.950832\n",
              "46  0.719101  0.952093\n",
              "47  0.741573  0.961674\n",
              "48  0.743446  0.962683\n",
              "49  0.747191  0.963187\n",
              "50  0.780899  0.971508\n",
              "51  0.825843  0.984367\n",
              "52  0.838951  0.985376\n",
              "53  0.878277  0.991427\n",
              "54  0.878277  0.992436\n",
              "55  0.953184  0.997226\n",
              "56  0.955056  0.997731\n",
              "57  1.000000  0.999496\n",
              "58  1.000000  1.000000"
            ]
          },
          "metadata": {
            "tags": []
          },
          "execution_count": 80
        }
      ]
    },
    {
      "cell_type": "code",
      "metadata": {
        "id": "HHDuxv-tZ9SQ",
        "colab_type": "code",
        "outputId": "b3b18935-0c15-48d7-e625-8510799c74a3",
        "colab": {
          "base_uri": "https://localhost:8080/",
          "height": 402
        }
      },
      "source": [
        "[ ]\n",
        "import altair as alt\n",
        "\n",
        "base_df1 = alt.Chart(FPRTPR_df1,title='ROC Curve of Decision Tree Model').properties(width=300)\n",
        "\n",
        "roc_curv1 = base_df1.mark_line(point=True).encode(alt.X('FPR', title='False Positive Rate(FPR)',sort=None),alt.Y('TPR', title='True Positive Rate(TPR)'),)\n",
        "\n",
        "roc_rul1 = base_df1.mark_line(color='blue').encode(x='FPR',y='FPR',size=alt.value(2))\n",
        "\n",
        "(roc_curv1 + roc_rul1).interactive()"
      ],
      "execution_count": 98,
      "outputs": [
        {
          "output_type": "execute_result",
          "data": {
            "text/plain": [
              "[]"
            ]
          },
          "metadata": {
            "tags": []
          },
          "execution_count": 98
        },
        {
          "output_type": "execute_result",
          "data": {
            "text/plain": [
              "LayerChart({\n",
              "  layer: [Chart({\n",
              "    data:          FPR       TPR\n",
              "    0   0.000000  0.000000\n",
              "    1   0.018727  0.057489\n",
              "    2   0.020599  0.071609\n",
              "    3   0.031835  0.078921\n",
              "    4   0.035581  0.086737\n",
              "    5   0.048689  0.111699\n",
              "    6   0.059925  0.124307\n",
              "    7   0.069288  0.138931\n",
              "    8   0.074906  0.167423\n",
              "    9   0.080524  0.178013\n",
              "    10  0.086142  0.204236\n",
              "    11  0.095506  0.274332\n",
              "    12  0.104869  0.284670\n",
              "    13  0.106742  0.291982\n",
              "    14  0.136704  0.363338\n",
              "    15  0.136704  0.379476\n",
              "    16  0.194757  0.474029\n",
              "    17  0.205993  0.498487\n",
              "    18  0.228464  0.515885\n",
              "    19  0.234082  0.528744\n",
              "    20  0.264045  0.537821\n",
              "    21  0.271536  0.555472\n",
              "    22  0.299625  0.606152\n",
              "    23  0.368914  0.675492\n",
              "    24  0.368914  0.678770\n",
              "    25  0.368914  0.680030\n",
              "    26  0.374532  0.688351\n",
              "    27  0.374532  0.689360\n",
              "    28  0.391386  0.714070\n",
              "    29  0.391386  0.715078\n",
              "    30  0.443820  0.772315\n",
              "    31  0.443820  0.781392\n",
              "    32  0.449438  0.785174\n",
              "    33  0.529963  0.850731\n",
              "    34  0.539326  0.870146\n",
              "    35  0.541199  0.875189\n",
              "    36  0.544944  0.876702\n",
              "    37  0.546816  0.879476\n",
              "    38  0.556180  0.885527\n",
              "    39  0.559925  0.890066\n",
              "    40  0.582397  0.896117\n",
              "    41  0.593633  0.898134\n",
              "    42  0.593633  0.899899\n",
              "    43  0.715356  0.947554\n",
              "    44  0.715356  0.948563\n",
              "    45  0.715356  0.950832\n",
              "    46  0.719101  0.952093\n",
              "    47  0.741573  0.961674\n",
              "    48  0.743446  0.962683\n",
              "    49  0.747191  0.963187\n",
              "    50  0.780899  0.971508\n",
              "    51  0.825843  0.984367\n",
              "    52  0.838951  0.985376\n",
              "    53  0.878277  0.991427\n",
              "    54  0.878277  0.992436\n",
              "    55  0.953184  0.997226\n",
              "    56  0.955056  0.997731\n",
              "    57  1.000000  0.999496\n",
              "    58  1.000000  1.000000,\n",
              "    encoding: FacetedEncoding({\n",
              "      x: X({\n",
              "        shorthand: 'FPR',\n",
              "        sort: None,\n",
              "        title: 'False Positive Rate(FPR)'\n",
              "      }),\n",
              "      y: Y({\n",
              "        shorthand: 'TPR',\n",
              "        title: 'True Positive Rate(TPR)'\n",
              "      })\n",
              "    }),\n",
              "    mark: MarkDef({\n",
              "      point: True,\n",
              "      type: 'line'\n",
              "    }),\n",
              "    selection: {'selector009': SelectionDef({\n",
              "      bind: 'scales',\n",
              "      encodings: ['x', 'y'],\n",
              "      type: 'interval'\n",
              "    })},\n",
              "    title: 'ROC Curve of Decision Tree Model',\n",
              "    width: 300\n",
              "  }), Chart({\n",
              "    data:          FPR       TPR\n",
              "    0   0.000000  0.000000\n",
              "    1   0.018727  0.057489\n",
              "    2   0.020599  0.071609\n",
              "    3   0.031835  0.078921\n",
              "    4   0.035581  0.086737\n",
              "    5   0.048689  0.111699\n",
              "    6   0.059925  0.124307\n",
              "    7   0.069288  0.138931\n",
              "    8   0.074906  0.167423\n",
              "    9   0.080524  0.178013\n",
              "    10  0.086142  0.204236\n",
              "    11  0.095506  0.274332\n",
              "    12  0.104869  0.284670\n",
              "    13  0.106742  0.291982\n",
              "    14  0.136704  0.363338\n",
              "    15  0.136704  0.379476\n",
              "    16  0.194757  0.474029\n",
              "    17  0.205993  0.498487\n",
              "    18  0.228464  0.515885\n",
              "    19  0.234082  0.528744\n",
              "    20  0.264045  0.537821\n",
              "    21  0.271536  0.555472\n",
              "    22  0.299625  0.606152\n",
              "    23  0.368914  0.675492\n",
              "    24  0.368914  0.678770\n",
              "    25  0.368914  0.680030\n",
              "    26  0.374532  0.688351\n",
              "    27  0.374532  0.689360\n",
              "    28  0.391386  0.714070\n",
              "    29  0.391386  0.715078\n",
              "    30  0.443820  0.772315\n",
              "    31  0.443820  0.781392\n",
              "    32  0.449438  0.785174\n",
              "    33  0.529963  0.850731\n",
              "    34  0.539326  0.870146\n",
              "    35  0.541199  0.875189\n",
              "    36  0.544944  0.876702\n",
              "    37  0.546816  0.879476\n",
              "    38  0.556180  0.885527\n",
              "    39  0.559925  0.890066\n",
              "    40  0.582397  0.896117\n",
              "    41  0.593633  0.898134\n",
              "    42  0.593633  0.899899\n",
              "    43  0.715356  0.947554\n",
              "    44  0.715356  0.948563\n",
              "    45  0.715356  0.950832\n",
              "    46  0.719101  0.952093\n",
              "    47  0.741573  0.961674\n",
              "    48  0.743446  0.962683\n",
              "    49  0.747191  0.963187\n",
              "    50  0.780899  0.971508\n",
              "    51  0.825843  0.984367\n",
              "    52  0.838951  0.985376\n",
              "    53  0.878277  0.991427\n",
              "    54  0.878277  0.992436\n",
              "    55  0.953184  0.997226\n",
              "    56  0.955056  0.997731\n",
              "    57  1.000000  0.999496\n",
              "    58  1.000000  1.000000,\n",
              "    encoding: FacetedEncoding({\n",
              "      size: ValueDefWithOptionalConditionMarkPropFieldDefnumber({\n",
              "        value: 2\n",
              "      }),\n",
              "      x: X({\n",
              "        shorthand: 'FPR'\n",
              "      }),\n",
              "      y: Y({\n",
              "        shorthand: 'FPR'\n",
              "      })\n",
              "    }),\n",
              "    mark: MarkDef({\n",
              "      color: 'blue',\n",
              "      type: 'line'\n",
              "    }),\n",
              "    title: 'ROC Curve of Decision Tree Model',\n",
              "    width: 300\n",
              "  })]\n",
              "})"
            ],
            "text/html": [
              "<!DOCTYPE html>\n",
              "<html>\n",
              "<head>\n",
              "  <style>\n",
              "    .vega-actions a {\n",
              "        margin-right: 12px;\n",
              "        color: #757575;\n",
              "        font-weight: normal;\n",
              "        font-size: 13px;\n",
              "    }\n",
              "    .error {\n",
              "        color: red;\n",
              "    }\n",
              "  </style>\n",
              "  <script type=\"text/javascript\" src=\"https://cdn.jsdelivr.net/npm//vega@5\"></script>\n",
              "  <script type=\"text/javascript\" src=\"https://cdn.jsdelivr.net/npm//vega-lite@3.2.1\"></script>\n",
              "  <script type=\"text/javascript\" src=\"https://cdn.jsdelivr.net/npm//vega-embed@4\"></script>\n",
              "</head>\n",
              "<body>\n",
              "  <div id=\"altair-viz\"></div>\n",
              "  <script>\n",
              "      var spec = {\"config\": {\"view\": {\"width\": 400, \"height\": 300}, \"mark\": {\"tooltip\": null}}, \"layer\": [{\"data\": {\"name\": \"data-08d15999ac93f0111e6efc828a1f7bce\"}, \"mark\": {\"type\": \"line\", \"point\": true}, \"encoding\": {\"x\": {\"type\": \"quantitative\", \"field\": \"FPR\", \"sort\": null, \"title\": \"False Positive Rate(FPR)\"}, \"y\": {\"type\": \"quantitative\", \"field\": \"TPR\", \"title\": \"True Positive Rate(TPR)\"}}, \"selection\": {\"selector009\": {\"type\": \"interval\", \"bind\": \"scales\", \"encodings\": [\"x\", \"y\"]}}, \"title\": \"ROC Curve of Decision Tree Model\", \"width\": 300}, {\"data\": {\"name\": \"data-08d15999ac93f0111e6efc828a1f7bce\"}, \"mark\": {\"type\": \"line\", \"color\": \"blue\"}, \"encoding\": {\"size\": {\"value\": 2}, \"x\": {\"type\": \"quantitative\", \"field\": \"FPR\"}, \"y\": {\"type\": \"quantitative\", \"field\": \"FPR\"}}, \"title\": \"ROC Curve of Decision Tree Model\", \"width\": 300}], \"$schema\": \"https://vega.github.io/schema/vega-lite/v3.2.1.json\", \"datasets\": {\"data-08d15999ac93f0111e6efc828a1f7bce\": [{\"FPR\": 0.0, \"TPR\": 0.0}, {\"FPR\": 0.018726591760299626, \"TPR\": 0.057488653555219364}, {\"FPR\": 0.020599250936329586, \"TPR\": 0.07160867372667676}, {\"FPR\": 0.031835205992509365, \"TPR\": 0.0789208270297529}, {\"FPR\": 0.035580524344569285, \"TPR\": 0.08673726676752395}, {\"FPR\": 0.04868913857677903, \"TPR\": 0.11169944528492183}, {\"FPR\": 0.0599250936329588, \"TPR\": 0.1243066061522945}, {\"FPR\": 0.06928838951310862, \"TPR\": 0.1389309127584468}, {\"FPR\": 0.0749063670411985, \"TPR\": 0.16742309631870902}, {\"FPR\": 0.08052434456928839, \"TPR\": 0.17801311144730206}, {\"FPR\": 0.08614232209737828, \"TPR\": 0.2042360060514372}, {\"FPR\": 0.09550561797752809, \"TPR\": 0.27433182047402926}, {\"FPR\": 0.10486891385767791, \"TPR\": 0.28466969238527484}, {\"FPR\": 0.10674157303370786, \"TPR\": 0.291981845688351}, {\"FPR\": 0.13670411985018727, \"TPR\": 0.3633383761976803}, {\"FPR\": 0.13670411985018727, \"TPR\": 0.3794755421079173}, {\"FPR\": 0.1947565543071161, \"TPR\": 0.47402924861321233}, {\"FPR\": 0.20599250936329588, \"TPR\": 0.49848714069591527}, {\"FPR\": 0.22846441947565543, \"TPR\": 0.5158850226928896}, {\"FPR\": 0.2340823970037453, \"TPR\": 0.5287443267776096}, {\"FPR\": 0.2640449438202247, \"TPR\": 0.537821482602118}, {\"FPR\": 0.27153558052434457, \"TPR\": 0.5554715078164397}, {\"FPR\": 0.299625468164794, \"TPR\": 0.6061522945032779}, {\"FPR\": 0.36891385767790263, \"TPR\": 0.6754916792738276}, {\"FPR\": 0.36891385767790263, \"TPR\": 0.6787695410993444}, {\"FPR\": 0.36891385767790263, \"TPR\": 0.6800302571860817}, {\"FPR\": 0.37453183520599254, \"TPR\": 0.6883509833585476}, {\"FPR\": 0.37453183520599254, \"TPR\": 0.6893595562279374}, {\"FPR\": 0.3913857677902622, \"TPR\": 0.7140695915279879}, {\"FPR\": 0.3913857677902622, \"TPR\": 0.7150781643973777}, {\"FPR\": 0.4438202247191011, \"TPR\": 0.7723146747352496}, {\"FPR\": 0.4438202247191011, \"TPR\": 0.7813918305597579}, {\"FPR\": 0.449438202247191, \"TPR\": 0.7851739788199698}, {\"FPR\": 0.5299625468164794, \"TPR\": 0.8507312153303076}, {\"FPR\": 0.5393258426966292, \"TPR\": 0.8701462430660615}, {\"FPR\": 0.5411985018726592, \"TPR\": 0.8751891074130106}, {\"FPR\": 0.5449438202247191, \"TPR\": 0.8767019667170953}, {\"FPR\": 0.5468164794007491, \"TPR\": 0.8794755421079173}, {\"FPR\": 0.5561797752808989, \"TPR\": 0.8855269793242562}, {\"FPR\": 0.5599250936329588, \"TPR\": 0.8900655572365104}, {\"FPR\": 0.5823970037453183, \"TPR\": 0.8961169944528492}, {\"FPR\": 0.5936329588014981, \"TPR\": 0.8981341401916288}, {\"FPR\": 0.5936329588014981, \"TPR\": 0.899899142713061}, {\"FPR\": 0.7153558052434457, \"TPR\": 0.9475542107917297}, {\"FPR\": 0.7153558052434457, \"TPR\": 0.9485627836611196}, {\"FPR\": 0.7153558052434457, \"TPR\": 0.9508320726172466}, {\"FPR\": 0.7191011235955056, \"TPR\": 0.9520927887039838}, {\"FPR\": 0.7415730337078652, \"TPR\": 0.961674230963187}, {\"FPR\": 0.7434456928838952, \"TPR\": 0.9626828038325769}, {\"FPR\": 0.7471910112359551, \"TPR\": 0.9631870902672718}, {\"FPR\": 0.7808988764044944, \"TPR\": 0.9715078164397378}, {\"FPR\": 0.8258426966292135, \"TPR\": 0.9843671205244579}, {\"FPR\": 0.8389513108614233, \"TPR\": 0.9853756933938477}, {\"FPR\": 0.8782771535580525, \"TPR\": 0.9914271306101866}, {\"FPR\": 0.8782771535580525, \"TPR\": 0.9924357034795764}, {\"FPR\": 0.9531835205992509, \"TPR\": 0.997226424609178}, {\"FPR\": 0.9550561797752809, \"TPR\": 0.9977307110438729}, {\"FPR\": 1.0, \"TPR\": 0.9994957135653051}, {\"FPR\": 1.0, \"TPR\": 1.0}]}};\n",
              "      var embedOpt = {\"mode\": \"vega-lite\"};\n",
              "\n",
              "      function showError(el, error){\n",
              "          el.innerHTML = ('<div class=\"error\" style=\"color:red;\">'\n",
              "                          + '<p>JavaScript Error: ' + error.message + '</p>'\n",
              "                          + \"<p>This usually means there's a typo in your chart specification. \"\n",
              "                          + \"See the javascript console for the full traceback.</p>\"\n",
              "                          + '</div>');\n",
              "          throw error;\n",
              "      }\n",
              "      const el = document.getElementById('altair-viz');\n",
              "      vegaEmbed(\"#altair-viz\", spec, embedOpt)\n",
              "        .catch(error => showError(el, error));\n",
              "\n",
              "  </script>\n",
              "</body>\n",
              "</html>"
            ]
          },
          "metadata": {
            "tags": []
          },
          "execution_count": 98
        }
      ]
    },
    {
      "cell_type": "markdown",
      "metadata": {
        "id": "y9Yv7aPNcvMs",
        "colab_type": "text"
      },
      "source": [
        "ROC curve shows the plot of TPR against FPR for various cutpoints. The curve indicates that our optimized Decision Tree model has a good predictive performance.The model is considered better if the curve are more towards the top right corner in ROC curve, However, the closer the curve comes to the 45-degree diagonal of ROC, the less accurate the model."
      ]
    },
    {
      "cell_type": "markdown",
      "metadata": {
        "id": "9R-STy9OgJMr",
        "colab_type": "text"
      },
      "source": [
        "##3. GAUSSIAN NAIVE BAYES (NB)"
      ]
    },
    {
      "cell_type": "markdown",
      "metadata": {
        "id": "yvLluDhbn6BX",
        "colab_type": "text"
      },
      "source": [
        "The last model we fitted to our sampled dataset is the Gaussian Naive Bayes classifier with a default variance smoothing value of 10^-9. We'll  modify *var_smoothing* to achieve maximum efficiency from the sampled data. Applying grid search in logspace starting with 10 and ending with 10^-3 will produce large amount of values. So we'll be applying limited *RandomizedSearch* on 15 values (to make less computational work) . Before actually fitting the NB model, we initially do a power transformation on the input data as NB requires each descriptive features to pursue a 'Gaussian distribution'."
      ]
    },
    {
      "cell_type": "markdown",
      "metadata": {
        "id": "kg8IFcLW2Lvy",
        "colab_type": "text"
      },
      "source": [
        "We'll use the same Random Forest Importance (RFI) with 100 estimators for the **selection of features**.\n",
        "\n",
        " Chose *Area under ROC curve(AUC)* as our **main performance metrics** ."
      ]
    },
    {
      "cell_type": "markdown",
      "metadata": {
        "id": "TfPBBSBjoWE2",
        "colab_type": "text"
      },
      "source": [
        "Usually, Naive Bayes Classifiers are considered to be useful for very large data sets."
      ]
    },
    {
      "cell_type": "code",
      "metadata": {
        "id": "aiWLRWxFrW0O",
        "colab_type": "code",
        "colab": {}
      },
      "source": [
        "from sklearn.preprocessing import PowerTransformer\n",
        "des_data_train_transform = PowerTransformer().fit_transform(des_data_train)"
      ],
      "execution_count": 0,
      "outputs": []
    },
    {
      "cell_type": "code",
      "metadata": {
        "id": "G2wPYyYXrXqD",
        "colab_type": "code",
        "colab": {}
      },
      "source": [
        "from sklearn.naive_bayes import GaussianNB\n",
        "from sklearn.model_selection import RandomizedSearchCV\n",
        "\n",
        "pipeline_NB = Pipeline([('rfi_fs', RFIFeatureSelector()), \n",
        "                     ('nb', GaussianNB())])\n",
        "\n",
        "param_pipeline_NB = {'rfi_fs__n_features_': [10, 20, des_data.shape[1]],\n",
        "                  'nb__var_smoothing': np.logspace(1,-3, num=200)}\n",
        "\n",
        "iter_search = 15\n",
        "gs_pipeline_NB = RandomizedSearchCV(estimator=pipeline_NB, \n",
        "                          param_distributions=param_pipeline_NB, \n",
        "                          cv=cv_meth,\n",
        "                          refit=True,\n",
        "                          n_jobs=-2,\n",
        "                          scoring='roc_auc',\n",
        "                          n_iter=iter_search,\n",
        "                          verbose=1)"
      ],
      "execution_count": 0,
      "outputs": []
    },
    {
      "cell_type": "code",
      "metadata": {
        "id": "L_vZvtNXwi0t",
        "colab_type": "code",
        "outputId": "a19556c0-988c-4ac0-b692-87468b16c299",
        "colab": {
          "base_uri": "https://localhost:8080/",
          "height": 68
        }
      },
      "source": [
        "gs_pipeline_NB.fit(des_data_train_transform,target_data_train);"
      ],
      "execution_count": 0,
      "outputs": [
        {
          "output_type": "stream",
          "text": [
            "Fitting 5 folds for each of 15 candidates, totalling 75 fits\n"
          ],
          "name": "stdout"
        },
        {
          "output_type": "stream",
          "text": [
            "[Parallel(n_jobs=-2)]: Using backend SequentialBackend with 1 concurrent workers.\n",
            "[Parallel(n_jobs=-2)]: Done  75 out of  75 | elapsed:   57.5s finished\n"
          ],
          "name": "stderr"
        }
      ]
    },
    {
      "cell_type": "markdown",
      "metadata": {
        "id": "YnJHt10o2e1T",
        "colab_type": "text"
      },
      "source": [
        "###Performance Analysis of Naive Bayes Model"
      ]
    },
    {
      "cell_type": "code",
      "metadata": {
        "id": "oCYwLX9ZrbHL",
        "colab_type": "code",
        "outputId": "93819be2-8b5b-44da-b389-5a6e5fddb3cf",
        "colab": {
          "base_uri": "https://localhost:8080/",
          "height": 34
        }
      },
      "source": [
        "gs_pipeline_NB.best_params_"
      ],
      "execution_count": 0,
      "outputs": [
        {
          "output_type": "execute_result",
          "data": {
            "text/plain": [
              "{'nb__var_smoothing': 6.010276782070382, 'rfi_fs__n_features_': 20}"
            ]
          },
          "metadata": {
            "tags": []
          },
          "execution_count": 87
        }
      ]
    },
    {
      "cell_type": "code",
      "metadata": {
        "id": "Bb2EAKVurbrl",
        "colab_type": "code",
        "outputId": "9c8aea55-0484-418f-988e-a33ef6f8072e",
        "colab": {
          "base_uri": "https://localhost:8080/",
          "height": 34
        }
      },
      "source": [
        "gs_pipeline_NB.best_score_"
      ],
      "execution_count": 0,
      "outputs": [
        {
          "output_type": "execute_result",
          "data": {
            "text/plain": [
              "0.7204903894345616"
            ]
          },
          "metadata": {
            "tags": []
          },
          "execution_count": 88
        }
      ]
    },
    {
      "cell_type": "markdown",
      "metadata": {
        "id": "lyziPwqX4k3m",
        "colab_type": "text"
      },
      "source": [
        "**AUC score is coming out to be  0.7204** . This tells us the mean cross-validated score of our best estimator."
      ]
    },
    {
      "cell_type": "markdown",
      "metadata": {
        "id": "pcWyZ1Yv4s6J",
        "colab_type": "text"
      },
      "source": [
        "Thus, by using AUC score as our main performance metrics, a total of   **20 features**  were selected by a **Random Forest Importance** method with  **var_smoothing = 6.01** which gives us our best performing Naive Bayes model. "
      ]
    },
    {
      "cell_type": "markdown",
      "metadata": {
        "id": "za3WQmjY8P56",
        "colab_type": "text"
      },
      "source": [
        "###ROC Curve Vizualization"
      ]
    },
    {
      "cell_type": "markdown",
      "metadata": {
        "id": "UBY1EvoR8eQB",
        "colab_type": "text"
      },
      "source": [
        "We'll calculate prediction scores to visualize an ROC curve. For calculating prediction scores, we'll be using *predict_proba* function.\n"
      ]
    },
    {
      "cell_type": "code",
      "metadata": {
        "id": "pZh6MmvQ8knx",
        "colab_type": "code",
        "colab": {
          "base_uri": "https://localhost:8080/",
          "height": 187
        },
        "outputId": "85a26a7e-0b85-49b2-cba1-d432703ce18e"
      },
      "source": [
        "roc_prob2 = gs_pipeline_DT.predict_proba(des_data_test)\n",
        "roc_prob2[0:10]"
      ],
      "execution_count": 89,
      "outputs": [
        {
          "output_type": "execute_result",
          "data": {
            "text/plain": [
              "array([[0.15485564, 0.84514436],\n",
              "       [0.0651341 , 0.9348659 ],\n",
              "       [0.        , 1.        ],\n",
              "       [0.09331476, 0.90668524],\n",
              "       [0.17391304, 0.82608696],\n",
              "       [0.05638298, 0.94361702],\n",
              "       [0.09251969, 0.90748031],\n",
              "       [0.05638298, 0.94361702],\n",
              "       [0.02803738, 0.97196262],\n",
              "       [0.09251969, 0.90748031]])"
            ]
          },
          "metadata": {
            "tags": []
          },
          "execution_count": 89
        }
      ]
    },
    {
      "cell_type": "code",
      "metadata": {
        "id": "YtiTCxFc8s2o",
        "colab_type": "code",
        "colab": {
          "base_uri": "https://localhost:8080/",
          "height": 34
        },
        "outputId": "7fc14da2-7f8e-4b8e-8041-860cbc043c13"
      },
      "source": [
        "FPR2, TPR2, _ = metrics.roc_curve(target_data_test, roc_prob2[:, 1])\n",
        "ROC_AUC_viz2 = metrics.auc(FPR2, TPR2)\n",
        "ROC_AUC_viz2"
      ],
      "execution_count": 90,
      "outputs": [
        {
          "output_type": "execute_result",
          "data": {
            "text/plain": [
              "0.7229590564744146"
            ]
          },
          "metadata": {
            "tags": []
          },
          "execution_count": 90
        }
      ]
    },
    {
      "cell_type": "code",
      "metadata": {
        "id": "nCAFA8am83mm",
        "colab_type": "code",
        "colab": {
          "base_uri": "https://localhost:8080/",
          "height": 1878
        },
        "outputId": "38b17842-3454-4a3f-a1a6-eafd36c1abfa"
      },
      "source": [
        "FPRTPR_df2 = pd.DataFrame({'FPR': FPR2, 'TPR': TPR2})\n",
        "FPRTPR_df2"
      ],
      "execution_count": 91,
      "outputs": [
        {
          "output_type": "execute_result",
          "data": {
            "text/html": [
              "<div>\n",
              "<style scoped>\n",
              "    .dataframe tbody tr th:only-of-type {\n",
              "        vertical-align: middle;\n",
              "    }\n",
              "\n",
              "    .dataframe tbody tr th {\n",
              "        vertical-align: top;\n",
              "    }\n",
              "\n",
              "    .dataframe thead th {\n",
              "        text-align: right;\n",
              "    }\n",
              "</style>\n",
              "<table border=\"1\" class=\"dataframe\">\n",
              "  <thead>\n",
              "    <tr style=\"text-align: right;\">\n",
              "      <th></th>\n",
              "      <th>FPR</th>\n",
              "      <th>TPR</th>\n",
              "    </tr>\n",
              "  </thead>\n",
              "  <tbody>\n",
              "    <tr>\n",
              "      <th>0</th>\n",
              "      <td>0.000000</td>\n",
              "      <td>0.000000</td>\n",
              "    </tr>\n",
              "    <tr>\n",
              "      <th>1</th>\n",
              "      <td>0.018727</td>\n",
              "      <td>0.057489</td>\n",
              "    </tr>\n",
              "    <tr>\n",
              "      <th>2</th>\n",
              "      <td>0.020599</td>\n",
              "      <td>0.071609</td>\n",
              "    </tr>\n",
              "    <tr>\n",
              "      <th>3</th>\n",
              "      <td>0.031835</td>\n",
              "      <td>0.078921</td>\n",
              "    </tr>\n",
              "    <tr>\n",
              "      <th>4</th>\n",
              "      <td>0.035581</td>\n",
              "      <td>0.086737</td>\n",
              "    </tr>\n",
              "    <tr>\n",
              "      <th>5</th>\n",
              "      <td>0.048689</td>\n",
              "      <td>0.111699</td>\n",
              "    </tr>\n",
              "    <tr>\n",
              "      <th>6</th>\n",
              "      <td>0.059925</td>\n",
              "      <td>0.124307</td>\n",
              "    </tr>\n",
              "    <tr>\n",
              "      <th>7</th>\n",
              "      <td>0.069288</td>\n",
              "      <td>0.138931</td>\n",
              "    </tr>\n",
              "    <tr>\n",
              "      <th>8</th>\n",
              "      <td>0.074906</td>\n",
              "      <td>0.167423</td>\n",
              "    </tr>\n",
              "    <tr>\n",
              "      <th>9</th>\n",
              "      <td>0.080524</td>\n",
              "      <td>0.178013</td>\n",
              "    </tr>\n",
              "    <tr>\n",
              "      <th>10</th>\n",
              "      <td>0.086142</td>\n",
              "      <td>0.204236</td>\n",
              "    </tr>\n",
              "    <tr>\n",
              "      <th>11</th>\n",
              "      <td>0.095506</td>\n",
              "      <td>0.274332</td>\n",
              "    </tr>\n",
              "    <tr>\n",
              "      <th>12</th>\n",
              "      <td>0.104869</td>\n",
              "      <td>0.284670</td>\n",
              "    </tr>\n",
              "    <tr>\n",
              "      <th>13</th>\n",
              "      <td>0.106742</td>\n",
              "      <td>0.291982</td>\n",
              "    </tr>\n",
              "    <tr>\n",
              "      <th>14</th>\n",
              "      <td>0.136704</td>\n",
              "      <td>0.363338</td>\n",
              "    </tr>\n",
              "    <tr>\n",
              "      <th>15</th>\n",
              "      <td>0.136704</td>\n",
              "      <td>0.379476</td>\n",
              "    </tr>\n",
              "    <tr>\n",
              "      <th>16</th>\n",
              "      <td>0.194757</td>\n",
              "      <td>0.474029</td>\n",
              "    </tr>\n",
              "    <tr>\n",
              "      <th>17</th>\n",
              "      <td>0.205993</td>\n",
              "      <td>0.498487</td>\n",
              "    </tr>\n",
              "    <tr>\n",
              "      <th>18</th>\n",
              "      <td>0.228464</td>\n",
              "      <td>0.515885</td>\n",
              "    </tr>\n",
              "    <tr>\n",
              "      <th>19</th>\n",
              "      <td>0.234082</td>\n",
              "      <td>0.528744</td>\n",
              "    </tr>\n",
              "    <tr>\n",
              "      <th>20</th>\n",
              "      <td>0.264045</td>\n",
              "      <td>0.537821</td>\n",
              "    </tr>\n",
              "    <tr>\n",
              "      <th>21</th>\n",
              "      <td>0.271536</td>\n",
              "      <td>0.555472</td>\n",
              "    </tr>\n",
              "    <tr>\n",
              "      <th>22</th>\n",
              "      <td>0.299625</td>\n",
              "      <td>0.606152</td>\n",
              "    </tr>\n",
              "    <tr>\n",
              "      <th>23</th>\n",
              "      <td>0.368914</td>\n",
              "      <td>0.675492</td>\n",
              "    </tr>\n",
              "    <tr>\n",
              "      <th>24</th>\n",
              "      <td>0.368914</td>\n",
              "      <td>0.678770</td>\n",
              "    </tr>\n",
              "    <tr>\n",
              "      <th>25</th>\n",
              "      <td>0.368914</td>\n",
              "      <td>0.680030</td>\n",
              "    </tr>\n",
              "    <tr>\n",
              "      <th>26</th>\n",
              "      <td>0.374532</td>\n",
              "      <td>0.688351</td>\n",
              "    </tr>\n",
              "    <tr>\n",
              "      <th>27</th>\n",
              "      <td>0.374532</td>\n",
              "      <td>0.689360</td>\n",
              "    </tr>\n",
              "    <tr>\n",
              "      <th>28</th>\n",
              "      <td>0.391386</td>\n",
              "      <td>0.714070</td>\n",
              "    </tr>\n",
              "    <tr>\n",
              "      <th>29</th>\n",
              "      <td>0.391386</td>\n",
              "      <td>0.715078</td>\n",
              "    </tr>\n",
              "    <tr>\n",
              "      <th>30</th>\n",
              "      <td>0.443820</td>\n",
              "      <td>0.772315</td>\n",
              "    </tr>\n",
              "    <tr>\n",
              "      <th>31</th>\n",
              "      <td>0.443820</td>\n",
              "      <td>0.781392</td>\n",
              "    </tr>\n",
              "    <tr>\n",
              "      <th>32</th>\n",
              "      <td>0.449438</td>\n",
              "      <td>0.785174</td>\n",
              "    </tr>\n",
              "    <tr>\n",
              "      <th>33</th>\n",
              "      <td>0.529963</td>\n",
              "      <td>0.850731</td>\n",
              "    </tr>\n",
              "    <tr>\n",
              "      <th>34</th>\n",
              "      <td>0.539326</td>\n",
              "      <td>0.870146</td>\n",
              "    </tr>\n",
              "    <tr>\n",
              "      <th>35</th>\n",
              "      <td>0.541199</td>\n",
              "      <td>0.875189</td>\n",
              "    </tr>\n",
              "    <tr>\n",
              "      <th>36</th>\n",
              "      <td>0.544944</td>\n",
              "      <td>0.876702</td>\n",
              "    </tr>\n",
              "    <tr>\n",
              "      <th>37</th>\n",
              "      <td>0.546816</td>\n",
              "      <td>0.879476</td>\n",
              "    </tr>\n",
              "    <tr>\n",
              "      <th>38</th>\n",
              "      <td>0.556180</td>\n",
              "      <td>0.885527</td>\n",
              "    </tr>\n",
              "    <tr>\n",
              "      <th>39</th>\n",
              "      <td>0.559925</td>\n",
              "      <td>0.890066</td>\n",
              "    </tr>\n",
              "    <tr>\n",
              "      <th>40</th>\n",
              "      <td>0.582397</td>\n",
              "      <td>0.896117</td>\n",
              "    </tr>\n",
              "    <tr>\n",
              "      <th>41</th>\n",
              "      <td>0.593633</td>\n",
              "      <td>0.898134</td>\n",
              "    </tr>\n",
              "    <tr>\n",
              "      <th>42</th>\n",
              "      <td>0.593633</td>\n",
              "      <td>0.899899</td>\n",
              "    </tr>\n",
              "    <tr>\n",
              "      <th>43</th>\n",
              "      <td>0.715356</td>\n",
              "      <td>0.947554</td>\n",
              "    </tr>\n",
              "    <tr>\n",
              "      <th>44</th>\n",
              "      <td>0.715356</td>\n",
              "      <td>0.948563</td>\n",
              "    </tr>\n",
              "    <tr>\n",
              "      <th>45</th>\n",
              "      <td>0.715356</td>\n",
              "      <td>0.950832</td>\n",
              "    </tr>\n",
              "    <tr>\n",
              "      <th>46</th>\n",
              "      <td>0.719101</td>\n",
              "      <td>0.952093</td>\n",
              "    </tr>\n",
              "    <tr>\n",
              "      <th>47</th>\n",
              "      <td>0.741573</td>\n",
              "      <td>0.961674</td>\n",
              "    </tr>\n",
              "    <tr>\n",
              "      <th>48</th>\n",
              "      <td>0.743446</td>\n",
              "      <td>0.962683</td>\n",
              "    </tr>\n",
              "    <tr>\n",
              "      <th>49</th>\n",
              "      <td>0.747191</td>\n",
              "      <td>0.963187</td>\n",
              "    </tr>\n",
              "    <tr>\n",
              "      <th>50</th>\n",
              "      <td>0.780899</td>\n",
              "      <td>0.971508</td>\n",
              "    </tr>\n",
              "    <tr>\n",
              "      <th>51</th>\n",
              "      <td>0.825843</td>\n",
              "      <td>0.984367</td>\n",
              "    </tr>\n",
              "    <tr>\n",
              "      <th>52</th>\n",
              "      <td>0.838951</td>\n",
              "      <td>0.985376</td>\n",
              "    </tr>\n",
              "    <tr>\n",
              "      <th>53</th>\n",
              "      <td>0.878277</td>\n",
              "      <td>0.991427</td>\n",
              "    </tr>\n",
              "    <tr>\n",
              "      <th>54</th>\n",
              "      <td>0.878277</td>\n",
              "      <td>0.992436</td>\n",
              "    </tr>\n",
              "    <tr>\n",
              "      <th>55</th>\n",
              "      <td>0.953184</td>\n",
              "      <td>0.997226</td>\n",
              "    </tr>\n",
              "    <tr>\n",
              "      <th>56</th>\n",
              "      <td>0.955056</td>\n",
              "      <td>0.997731</td>\n",
              "    </tr>\n",
              "    <tr>\n",
              "      <th>57</th>\n",
              "      <td>1.000000</td>\n",
              "      <td>0.999496</td>\n",
              "    </tr>\n",
              "    <tr>\n",
              "      <th>58</th>\n",
              "      <td>1.000000</td>\n",
              "      <td>1.000000</td>\n",
              "    </tr>\n",
              "  </tbody>\n",
              "</table>\n",
              "</div>"
            ],
            "text/plain": [
              "         FPR       TPR\n",
              "0   0.000000  0.000000\n",
              "1   0.018727  0.057489\n",
              "2   0.020599  0.071609\n",
              "3   0.031835  0.078921\n",
              "4   0.035581  0.086737\n",
              "5   0.048689  0.111699\n",
              "6   0.059925  0.124307\n",
              "7   0.069288  0.138931\n",
              "8   0.074906  0.167423\n",
              "9   0.080524  0.178013\n",
              "10  0.086142  0.204236\n",
              "11  0.095506  0.274332\n",
              "12  0.104869  0.284670\n",
              "13  0.106742  0.291982\n",
              "14  0.136704  0.363338\n",
              "15  0.136704  0.379476\n",
              "16  0.194757  0.474029\n",
              "17  0.205993  0.498487\n",
              "18  0.228464  0.515885\n",
              "19  0.234082  0.528744\n",
              "20  0.264045  0.537821\n",
              "21  0.271536  0.555472\n",
              "22  0.299625  0.606152\n",
              "23  0.368914  0.675492\n",
              "24  0.368914  0.678770\n",
              "25  0.368914  0.680030\n",
              "26  0.374532  0.688351\n",
              "27  0.374532  0.689360\n",
              "28  0.391386  0.714070\n",
              "29  0.391386  0.715078\n",
              "30  0.443820  0.772315\n",
              "31  0.443820  0.781392\n",
              "32  0.449438  0.785174\n",
              "33  0.529963  0.850731\n",
              "34  0.539326  0.870146\n",
              "35  0.541199  0.875189\n",
              "36  0.544944  0.876702\n",
              "37  0.546816  0.879476\n",
              "38  0.556180  0.885527\n",
              "39  0.559925  0.890066\n",
              "40  0.582397  0.896117\n",
              "41  0.593633  0.898134\n",
              "42  0.593633  0.899899\n",
              "43  0.715356  0.947554\n",
              "44  0.715356  0.948563\n",
              "45  0.715356  0.950832\n",
              "46  0.719101  0.952093\n",
              "47  0.741573  0.961674\n",
              "48  0.743446  0.962683\n",
              "49  0.747191  0.963187\n",
              "50  0.780899  0.971508\n",
              "51  0.825843  0.984367\n",
              "52  0.838951  0.985376\n",
              "53  0.878277  0.991427\n",
              "54  0.878277  0.992436\n",
              "55  0.953184  0.997226\n",
              "56  0.955056  0.997731\n",
              "57  1.000000  0.999496\n",
              "58  1.000000  1.000000"
            ]
          },
          "metadata": {
            "tags": []
          },
          "execution_count": 91
        }
      ]
    },
    {
      "cell_type": "code",
      "metadata": {
        "id": "u_n6Zce68SVK",
        "colab_type": "code",
        "colab": {
          "base_uri": "https://localhost:8080/",
          "height": 385
        },
        "outputId": "60307b82-bc34-4d80-b252-46cfde7e0e1d"
      },
      "source": [
        "\n",
        "import altair as alt\n",
        "\n",
        "base_df2 = alt.Chart(FPRTPR_df2,title='ROC Curve of Naive Bayes Model').properties(width=300)\n",
        "\n",
        "roc_curv2 = base_df2.mark_line(point=True).encode(alt.X('FPR', title='False Positive Rate(FPR)',sort=None),alt.Y('TPR', title='True Positive Rate(TPR2)'),)\n",
        "\n",
        "roc_rul2 = base_df2.mark_line(color='green').encode(x='FPR',y='FPR',size=alt.value(2))\n",
        "\n",
        "(roc_curv2 + roc_rul2).interactive()\n",
        "\n"
      ],
      "execution_count": 97,
      "outputs": [
        {
          "output_type": "execute_result",
          "data": {
            "text/plain": [
              "LayerChart({\n",
              "  layer: [Chart({\n",
              "    data:          FPR       TPR\n",
              "    0   0.000000  0.000000\n",
              "    1   0.018727  0.057489\n",
              "    2   0.020599  0.071609\n",
              "    3   0.031835  0.078921\n",
              "    4   0.035581  0.086737\n",
              "    5   0.048689  0.111699\n",
              "    6   0.059925  0.124307\n",
              "    7   0.069288  0.138931\n",
              "    8   0.074906  0.167423\n",
              "    9   0.080524  0.178013\n",
              "    10  0.086142  0.204236\n",
              "    11  0.095506  0.274332\n",
              "    12  0.104869  0.284670\n",
              "    13  0.106742  0.291982\n",
              "    14  0.136704  0.363338\n",
              "    15  0.136704  0.379476\n",
              "    16  0.194757  0.474029\n",
              "    17  0.205993  0.498487\n",
              "    18  0.228464  0.515885\n",
              "    19  0.234082  0.528744\n",
              "    20  0.264045  0.537821\n",
              "    21  0.271536  0.555472\n",
              "    22  0.299625  0.606152\n",
              "    23  0.368914  0.675492\n",
              "    24  0.368914  0.678770\n",
              "    25  0.368914  0.680030\n",
              "    26  0.374532  0.688351\n",
              "    27  0.374532  0.689360\n",
              "    28  0.391386  0.714070\n",
              "    29  0.391386  0.715078\n",
              "    30  0.443820  0.772315\n",
              "    31  0.443820  0.781392\n",
              "    32  0.449438  0.785174\n",
              "    33  0.529963  0.850731\n",
              "    34  0.539326  0.870146\n",
              "    35  0.541199  0.875189\n",
              "    36  0.544944  0.876702\n",
              "    37  0.546816  0.879476\n",
              "    38  0.556180  0.885527\n",
              "    39  0.559925  0.890066\n",
              "    40  0.582397  0.896117\n",
              "    41  0.593633  0.898134\n",
              "    42  0.593633  0.899899\n",
              "    43  0.715356  0.947554\n",
              "    44  0.715356  0.948563\n",
              "    45  0.715356  0.950832\n",
              "    46  0.719101  0.952093\n",
              "    47  0.741573  0.961674\n",
              "    48  0.743446  0.962683\n",
              "    49  0.747191  0.963187\n",
              "    50  0.780899  0.971508\n",
              "    51  0.825843  0.984367\n",
              "    52  0.838951  0.985376\n",
              "    53  0.878277  0.991427\n",
              "    54  0.878277  0.992436\n",
              "    55  0.953184  0.997226\n",
              "    56  0.955056  0.997731\n",
              "    57  1.000000  0.999496\n",
              "    58  1.000000  1.000000,\n",
              "    encoding: FacetedEncoding({\n",
              "      x: X({\n",
              "        shorthand: 'FPR',\n",
              "        sort: None,\n",
              "        title: 'False Positive Rate(FPR)'\n",
              "      }),\n",
              "      y: Y({\n",
              "        shorthand: 'TPR',\n",
              "        title: 'True Positive Rate(TPR2)'\n",
              "      })\n",
              "    }),\n",
              "    mark: MarkDef({\n",
              "      point: True,\n",
              "      type: 'line'\n",
              "    }),\n",
              "    selection: {'selector008': SelectionDef({\n",
              "      bind: 'scales',\n",
              "      encodings: ['x', 'y'],\n",
              "      type: 'interval'\n",
              "    })},\n",
              "    title: 'ROC Curve of Naive Bayes Model',\n",
              "    width: 300\n",
              "  }), Chart({\n",
              "    data:          FPR       TPR\n",
              "    0   0.000000  0.000000\n",
              "    1   0.018727  0.057489\n",
              "    2   0.020599  0.071609\n",
              "    3   0.031835  0.078921\n",
              "    4   0.035581  0.086737\n",
              "    5   0.048689  0.111699\n",
              "    6   0.059925  0.124307\n",
              "    7   0.069288  0.138931\n",
              "    8   0.074906  0.167423\n",
              "    9   0.080524  0.178013\n",
              "    10  0.086142  0.204236\n",
              "    11  0.095506  0.274332\n",
              "    12  0.104869  0.284670\n",
              "    13  0.106742  0.291982\n",
              "    14  0.136704  0.363338\n",
              "    15  0.136704  0.379476\n",
              "    16  0.194757  0.474029\n",
              "    17  0.205993  0.498487\n",
              "    18  0.228464  0.515885\n",
              "    19  0.234082  0.528744\n",
              "    20  0.264045  0.537821\n",
              "    21  0.271536  0.555472\n",
              "    22  0.299625  0.606152\n",
              "    23  0.368914  0.675492\n",
              "    24  0.368914  0.678770\n",
              "    25  0.368914  0.680030\n",
              "    26  0.374532  0.688351\n",
              "    27  0.374532  0.689360\n",
              "    28  0.391386  0.714070\n",
              "    29  0.391386  0.715078\n",
              "    30  0.443820  0.772315\n",
              "    31  0.443820  0.781392\n",
              "    32  0.449438  0.785174\n",
              "    33  0.529963  0.850731\n",
              "    34  0.539326  0.870146\n",
              "    35  0.541199  0.875189\n",
              "    36  0.544944  0.876702\n",
              "    37  0.546816  0.879476\n",
              "    38  0.556180  0.885527\n",
              "    39  0.559925  0.890066\n",
              "    40  0.582397  0.896117\n",
              "    41  0.593633  0.898134\n",
              "    42  0.593633  0.899899\n",
              "    43  0.715356  0.947554\n",
              "    44  0.715356  0.948563\n",
              "    45  0.715356  0.950832\n",
              "    46  0.719101  0.952093\n",
              "    47  0.741573  0.961674\n",
              "    48  0.743446  0.962683\n",
              "    49  0.747191  0.963187\n",
              "    50  0.780899  0.971508\n",
              "    51  0.825843  0.984367\n",
              "    52  0.838951  0.985376\n",
              "    53  0.878277  0.991427\n",
              "    54  0.878277  0.992436\n",
              "    55  0.953184  0.997226\n",
              "    56  0.955056  0.997731\n",
              "    57  1.000000  0.999496\n",
              "    58  1.000000  1.000000,\n",
              "    encoding: FacetedEncoding({\n",
              "      size: ValueDefWithOptionalConditionMarkPropFieldDefnumber({\n",
              "        value: 2\n",
              "      }),\n",
              "      x: X({\n",
              "        shorthand: 'FPR'\n",
              "      }),\n",
              "      y: Y({\n",
              "        shorthand: 'FPR'\n",
              "      })\n",
              "    }),\n",
              "    mark: MarkDef({\n",
              "      color: 'green',\n",
              "      type: 'line'\n",
              "    }),\n",
              "    title: 'ROC Curve of Naive Bayes Model',\n",
              "    width: 300\n",
              "  })]\n",
              "})"
            ],
            "text/html": [
              "<!DOCTYPE html>\n",
              "<html>\n",
              "<head>\n",
              "  <style>\n",
              "    .vega-actions a {\n",
              "        margin-right: 12px;\n",
              "        color: #757575;\n",
              "        font-weight: normal;\n",
              "        font-size: 13px;\n",
              "    }\n",
              "    .error {\n",
              "        color: red;\n",
              "    }\n",
              "  </style>\n",
              "  <script type=\"text/javascript\" src=\"https://cdn.jsdelivr.net/npm//vega@5\"></script>\n",
              "  <script type=\"text/javascript\" src=\"https://cdn.jsdelivr.net/npm//vega-lite@3.2.1\"></script>\n",
              "  <script type=\"text/javascript\" src=\"https://cdn.jsdelivr.net/npm//vega-embed@4\"></script>\n",
              "</head>\n",
              "<body>\n",
              "  <div id=\"altair-viz\"></div>\n",
              "  <script>\n",
              "      var spec = {\"config\": {\"view\": {\"width\": 400, \"height\": 300}, \"mark\": {\"tooltip\": null}}, \"layer\": [{\"data\": {\"name\": \"data-08d15999ac93f0111e6efc828a1f7bce\"}, \"mark\": {\"type\": \"line\", \"point\": true}, \"encoding\": {\"x\": {\"type\": \"quantitative\", \"field\": \"FPR\", \"sort\": null, \"title\": \"False Positive Rate(FPR)\"}, \"y\": {\"type\": \"quantitative\", \"field\": \"TPR\", \"title\": \"True Positive Rate(TPR2)\"}}, \"selection\": {\"selector008\": {\"type\": \"interval\", \"bind\": \"scales\", \"encodings\": [\"x\", \"y\"]}}, \"title\": \"ROC Curve of Naive Bayes Model\", \"width\": 300}, {\"data\": {\"name\": \"data-08d15999ac93f0111e6efc828a1f7bce\"}, \"mark\": {\"type\": \"line\", \"color\": \"green\"}, \"encoding\": {\"size\": {\"value\": 2}, \"x\": {\"type\": \"quantitative\", \"field\": \"FPR\"}, \"y\": {\"type\": \"quantitative\", \"field\": \"FPR\"}}, \"title\": \"ROC Curve of Naive Bayes Model\", \"width\": 300}], \"$schema\": \"https://vega.github.io/schema/vega-lite/v3.2.1.json\", \"datasets\": {\"data-08d15999ac93f0111e6efc828a1f7bce\": [{\"FPR\": 0.0, \"TPR\": 0.0}, {\"FPR\": 0.018726591760299626, \"TPR\": 0.057488653555219364}, {\"FPR\": 0.020599250936329586, \"TPR\": 0.07160867372667676}, {\"FPR\": 0.031835205992509365, \"TPR\": 0.0789208270297529}, {\"FPR\": 0.035580524344569285, \"TPR\": 0.08673726676752395}, {\"FPR\": 0.04868913857677903, \"TPR\": 0.11169944528492183}, {\"FPR\": 0.0599250936329588, \"TPR\": 0.1243066061522945}, {\"FPR\": 0.06928838951310862, \"TPR\": 0.1389309127584468}, {\"FPR\": 0.0749063670411985, \"TPR\": 0.16742309631870902}, {\"FPR\": 0.08052434456928839, \"TPR\": 0.17801311144730206}, {\"FPR\": 0.08614232209737828, \"TPR\": 0.2042360060514372}, {\"FPR\": 0.09550561797752809, \"TPR\": 0.27433182047402926}, {\"FPR\": 0.10486891385767791, \"TPR\": 0.28466969238527484}, {\"FPR\": 0.10674157303370786, \"TPR\": 0.291981845688351}, {\"FPR\": 0.13670411985018727, \"TPR\": 0.3633383761976803}, {\"FPR\": 0.13670411985018727, \"TPR\": 0.3794755421079173}, {\"FPR\": 0.1947565543071161, \"TPR\": 0.47402924861321233}, {\"FPR\": 0.20599250936329588, \"TPR\": 0.49848714069591527}, {\"FPR\": 0.22846441947565543, \"TPR\": 0.5158850226928896}, {\"FPR\": 0.2340823970037453, \"TPR\": 0.5287443267776096}, {\"FPR\": 0.2640449438202247, \"TPR\": 0.537821482602118}, {\"FPR\": 0.27153558052434457, \"TPR\": 0.5554715078164397}, {\"FPR\": 0.299625468164794, \"TPR\": 0.6061522945032779}, {\"FPR\": 0.36891385767790263, \"TPR\": 0.6754916792738276}, {\"FPR\": 0.36891385767790263, \"TPR\": 0.6787695410993444}, {\"FPR\": 0.36891385767790263, \"TPR\": 0.6800302571860817}, {\"FPR\": 0.37453183520599254, \"TPR\": 0.6883509833585476}, {\"FPR\": 0.37453183520599254, \"TPR\": 0.6893595562279374}, {\"FPR\": 0.3913857677902622, \"TPR\": 0.7140695915279879}, {\"FPR\": 0.3913857677902622, \"TPR\": 0.7150781643973777}, {\"FPR\": 0.4438202247191011, \"TPR\": 0.7723146747352496}, {\"FPR\": 0.4438202247191011, \"TPR\": 0.7813918305597579}, {\"FPR\": 0.449438202247191, \"TPR\": 0.7851739788199698}, {\"FPR\": 0.5299625468164794, \"TPR\": 0.8507312153303076}, {\"FPR\": 0.5393258426966292, \"TPR\": 0.8701462430660615}, {\"FPR\": 0.5411985018726592, \"TPR\": 0.8751891074130106}, {\"FPR\": 0.5449438202247191, \"TPR\": 0.8767019667170953}, {\"FPR\": 0.5468164794007491, \"TPR\": 0.8794755421079173}, {\"FPR\": 0.5561797752808989, \"TPR\": 0.8855269793242562}, {\"FPR\": 0.5599250936329588, \"TPR\": 0.8900655572365104}, {\"FPR\": 0.5823970037453183, \"TPR\": 0.8961169944528492}, {\"FPR\": 0.5936329588014981, \"TPR\": 0.8981341401916288}, {\"FPR\": 0.5936329588014981, \"TPR\": 0.899899142713061}, {\"FPR\": 0.7153558052434457, \"TPR\": 0.9475542107917297}, {\"FPR\": 0.7153558052434457, \"TPR\": 0.9485627836611196}, {\"FPR\": 0.7153558052434457, \"TPR\": 0.9508320726172466}, {\"FPR\": 0.7191011235955056, \"TPR\": 0.9520927887039838}, {\"FPR\": 0.7415730337078652, \"TPR\": 0.961674230963187}, {\"FPR\": 0.7434456928838952, \"TPR\": 0.9626828038325769}, {\"FPR\": 0.7471910112359551, \"TPR\": 0.9631870902672718}, {\"FPR\": 0.7808988764044944, \"TPR\": 0.9715078164397378}, {\"FPR\": 0.8258426966292135, \"TPR\": 0.9843671205244579}, {\"FPR\": 0.8389513108614233, \"TPR\": 0.9853756933938477}, {\"FPR\": 0.8782771535580525, \"TPR\": 0.9914271306101866}, {\"FPR\": 0.8782771535580525, \"TPR\": 0.9924357034795764}, {\"FPR\": 0.9531835205992509, \"TPR\": 0.997226424609178}, {\"FPR\": 0.9550561797752809, \"TPR\": 0.9977307110438729}, {\"FPR\": 1.0, \"TPR\": 0.9994957135653051}, {\"FPR\": 1.0, \"TPR\": 1.0}]}};\n",
              "      var embedOpt = {\"mode\": \"vega-lite\"};\n",
              "\n",
              "      function showError(el, error){\n",
              "          el.innerHTML = ('<div class=\"error\" style=\"color:red;\">'\n",
              "                          + '<p>JavaScript Error: ' + error.message + '</p>'\n",
              "                          + \"<p>This usually means there's a typo in your chart specification. \"\n",
              "                          + \"See the javascript console for the full traceback.</p>\"\n",
              "                          + '</div>');\n",
              "          throw error;\n",
              "      }\n",
              "      const el = document.getElementById('altair-viz');\n",
              "      vegaEmbed(\"#altair-viz\", spec, embedOpt)\n",
              "        .catch(error => showError(el, error));\n",
              "\n",
              "  </script>\n",
              "</body>\n",
              "</html>"
            ]
          },
          "metadata": {
            "tags": []
          },
          "execution_count": 97
        }
      ]
    },
    {
      "cell_type": "markdown",
      "metadata": {
        "id": "unZr0iJV9Duj",
        "colab_type": "text"
      },
      "source": [
        "ROC curve shows the plot of TPR against FPR for various cutpoints. **The curve indicates that our optimized NB model is giving a good predictive performance**.The model is considered better if the curve are more towards the top right corner in ROC curve, However, the closer the curve comes to the 45-degree diagonal of ROC, the less accurate the NB model."
      ]
    },
    {
      "cell_type": "markdown",
      "metadata": {
        "id": "_Si116Kg_5bV",
        "colab_type": "text"
      },
      "source": [
        "#PERFORMANCE COMPARISON OF ALL CLASSIFIERS"
      ]
    },
    {
      "cell_type": "markdown",
      "metadata": {
        "id": "WYYeJGduAC44",
        "colab_type": "text"
      },
      "source": [
        "Previously, we found the best performing models for 3 classifiers using training data. Now, we'll try to fit the best performing models on test data."
      ]
    },
    {
      "cell_type": "markdown",
      "metadata": {
        "id": "2lpstxHwEOzH",
        "colab_type": "text"
      },
      "source": [
        "We'll use a fixed Cross validation method accross all the classifiers which will create random process. That's why we'll perform pairwise **t-test** . Using **t-test** , we'll find the difference between each optimized classifier, and the difference should be statistically significant (value should be less than 0.05)."
      ]
    },
    {
      "cell_type": "markdown",
      "metadata": {
        "id": "XjUPUP86I0bJ",
        "colab_type": "text"
      },
      "source": [
        " Firstly, without any *n_repeats* , we'll execute 10-folds CV process on each of the optimized models. Later, we apply t-test for AUC score to find if the difference between models are statistically significant or not."
      ]
    },
    {
      "cell_type": "code",
      "metadata": {
        "id": "bXJdoQ5OLIsk",
        "colab_type": "code",
        "colab": {
          "base_uri": "https://localhost:8080/",
          "height": 68
        },
        "outputId": "cf7648f8-2f89-47ae-db3d-f90d853b7389"
      },
      "source": [
        "from sklearn.model_selection import cross_val_score\n",
        "\n",
        "cv_meth_ttest = StratifiedKFold(n_splits=10, random_state=111)\n",
        "\n",
        "compare_KNN = cross_val_score(estimator=gs_pipeline_KNN.best_estimator_,\n",
        "                                 X=des_data_test,\n",
        "                                 y=target_data_test, \n",
        "                                 cv=cv_meth_ttest, \n",
        "                                 n_jobs=-2,\n",
        "                                 verbose=1,\n",
        "                                 scoring='roc_auc')\n",
        "compare_KNN.mean()"
      ],
      "execution_count": 109,
      "outputs": [
        {
          "output_type": "stream",
          "text": [
            "[Parallel(n_jobs=-2)]: Using backend SequentialBackend with 1 concurrent workers.\n",
            "[Parallel(n_jobs=-2)]: Done  10 out of  10 | elapsed:    4.7s finished\n"
          ],
          "name": "stderr"
        },
        {
          "output_type": "execute_result",
          "data": {
            "text/plain": [
              "0.719572805347008"
            ]
          },
          "metadata": {
            "tags": []
          },
          "execution_count": 109
        }
      ]
    },
    {
      "cell_type": "code",
      "metadata": {
        "id": "Vp9kGFo8LJYl",
        "colab_type": "code",
        "colab": {
          "base_uri": "https://localhost:8080/",
          "height": 34
        },
        "outputId": "b88cf175-24ff-4562-e006-3c72a1052921"
      },
      "source": [
        "compare_DT = cross_val_score(estimator=gs_pipeline_DT.best_estimator_,\n",
        "                                X=des_data_test,\n",
        "                                y=target_data_test, \n",
        "                                cv=cv_meth_ttest, \n",
        "                                n_jobs=-2,\n",
        "                                scoring='roc_auc')\n",
        "compare_DT.mean()"
      ],
      "execution_count": 108,
      "outputs": [
        {
          "output_type": "execute_result",
          "data": {
            "text/plain": [
              "0.7159187081754925"
            ]
          },
          "metadata": {
            "tags": []
          },
          "execution_count": 108
        }
      ]
    },
    {
      "cell_type": "code",
      "metadata": {
        "id": "YXtMKsWwLQhu",
        "colab_type": "code",
        "colab": {
          "base_uri": "https://localhost:8080/",
          "height": 34
        },
        "outputId": "1b74f345-fc15-4e74-ffc2-a4c8e1c6cc8a"
      },
      "source": [
        "des_data_test_transform = PowerTransformer().fit_transform(des_data_test)\n",
        "\n",
        "compare_NB = cross_val_score(estimator=gs_pipeline_NB.best_estimator_,\n",
        "                                X=des_data_test_transform,\n",
        "                                y=target_data_test, \n",
        "                                cv=cv_meth_ttest, \n",
        "                                n_jobs=-2,\n",
        "                                scoring='roc_auc')\n",
        "compare_NB.mean()"
      ],
      "execution_count": 110,
      "outputs": [
        {
          "output_type": "execute_result",
          "data": {
            "text/plain": [
              "0.7423963147467258"
            ]
          },
          "metadata": {
            "tags": []
          },
          "execution_count": 110
        }
      ]
    },
    {
      "cell_type": "markdown",
      "metadata": {
        "id": "HDghxcWcWsA-",
        "colab_type": "text"
      },
      "source": [
        "Naive Bayes Model is showing the highest mean score comparitively."
      ]
    },
    {
      "cell_type": "markdown",
      "metadata": {
        "id": "Ie73_ZQhScIn",
        "colab_type": "text"
      },
      "source": [
        "Since the *random_state* is fixed, data used in all the 3 classifiers are all the same."
      ]
    },
    {
      "cell_type": "markdown",
      "metadata": {
        "id": "TTbrjK_CTGK6",
        "colab_type": "text"
      },
      "source": [
        "Using *stats.ttest_rel* , we'll run t-tests on the test set and check p-value of each model pairs to check their statistically singificance."
      ]
    },
    {
      "cell_type": "code",
      "metadata": {
        "id": "2TL8Wc4NU8Lg",
        "colab_type": "code",
        "colab": {
          "base_uri": "https://localhost:8080/",
          "height": 68
        },
        "outputId": "8264fc0f-d32e-4f54-cf23-a56fe1bbde63"
      },
      "source": [
        "from scipy import stats\n",
        "\n",
        "print(stats.ttest_rel(compare_KNN, compare_NB))\n",
        "print(stats.ttest_rel(compare_DT, compare_KNN))\n",
        "print(stats.ttest_rel(compare_DT, compare_NB))"
      ],
      "execution_count": 111,
      "outputs": [
        {
          "output_type": "stream",
          "text": [
            "Ttest_relResult(statistic=-2.9209091825509903, pvalue=0.017006645126218013)\n",
            "Ttest_relResult(statistic=-0.2623857876897141, pvalue=0.7989311521288659)\n",
            "Ttest_relResult(statistic=-2.630980719100481, pvalue=0.027314697355697127)\n"
          ],
          "name": "stdout"
        }
      ]
    },
    {
      "cell_type": "markdown",
      "metadata": {
        "id": "Bhi2dCn9YTO6",
        "colab_type": "text"
      },
      "source": [
        "*  While testing KNN and NB models, we got p-value as 0.017 (which is less than 0.05), this shows  that performance difference is statistically significant.\n",
        "*  While testing DT and KNN models, we got p-value as 0.798 (which is more than 0.05),this shows that performance difference is not considered to be statistically significant. \n",
        "*  While testing DT and NB models, we got p-value as 0.027 (which is less than 0.05), this shows that performance difference is statistically significant.\n",
        "\n",
        "\n",
        "\n",
        "\n",
        "\n",
        "\n",
        "\n",
        "\n",
        "\n"
      ]
    },
    {
      "cell_type": "markdown",
      "metadata": {
        "id": "e2W0RyIXWFMw",
        "colab_type": "text"
      },
      "source": [
        "\n",
        " All NB models are coming out to be statistically significant when the difference was compared with other models.\n",
        "\n",
        "**Therefore, Naive Bayes model is statistically the best model (with AUC as our performance metrics) when compared on  test data.**"
      ]
    },
    {
      "cell_type": "markdown",
      "metadata": {
        "id": "S9QwmyOrbQ64",
        "colab_type": "text"
      },
      "source": [
        "\n",
        "\n",
        "We will perform other *performance metrics* like Accuracy , Precision , Recall , F1 score and Confusion Matrix"
      ]
    },
    {
      "cell_type": "code",
      "metadata": {
        "id": "O5yTcA-NcWIM",
        "colab_type": "code",
        "colab": {}
      },
      "source": [
        "predict_KNN = gs_pipeline_KNN.predict(des_data_test)"
      ],
      "execution_count": 0,
      "outputs": []
    },
    {
      "cell_type": "code",
      "metadata": {
        "id": "8GRUi0R6chR1",
        "colab_type": "code",
        "colab": {}
      },
      "source": [
        "des_data_test_transform = PowerTransformer().fit_transform(des_data_test)\n",
        "predict_NB = gs_pipeline_NB.predict(des_data_test_transform)"
      ],
      "execution_count": 0,
      "outputs": []
    },
    {
      "cell_type": "code",
      "metadata": {
        "id": "I6FPBzcbc8vk",
        "colab_type": "code",
        "colab": {}
      },
      "source": [
        "predict_DT = gs_pipeline_DT.predict(des_data_test)"
      ],
      "execution_count": 0,
      "outputs": []
    },
    {
      "cell_type": "code",
      "metadata": {
        "id": "k1Yn7oyddhFB",
        "colab_type": "code",
        "colab": {
          "base_uri": "https://localhost:8080/",
          "height": 578
        },
        "outputId": "e8cac930-8851-401a-b592-2417868008ce"
      },
      "source": [
        "from sklearn import metrics\n",
        "print(\"\\nClassification report of KNN\") \n",
        "print(metrics.classification_report(target_data_test, predict_KNN))\n",
        "print(\"\\nClassification report of NB\") \n",
        "print(metrics.classification_report(target_data_test, predict_NB))\n",
        "print(\"\\nClassification report of DT\") \n",
        "print(metrics.classification_report(target_data_test, predict_DT))"
      ],
      "execution_count": 115,
      "outputs": [
        {
          "output_type": "stream",
          "text": [
            "\n",
            "Classification report of KNN\n",
            "              precision    recall  f1-score   support\n",
            "\n",
            "           0       0.75      0.06      0.11       534\n",
            "           1       0.89      1.00      0.94      3966\n",
            "\n",
            "    accuracy                           0.89      4500\n",
            "   macro avg       0.82      0.53      0.53      4500\n",
            "weighted avg       0.87      0.89      0.84      4500\n",
            "\n",
            "\n",
            "Classification report of NB\n",
            "              precision    recall  f1-score   support\n",
            "\n",
            "           0       0.00      0.00      0.00       534\n",
            "           1       0.88      1.00      0.94      3966\n",
            "\n",
            "    accuracy                           0.88      4500\n",
            "   macro avg       0.44      0.50      0.47      4500\n",
            "weighted avg       0.78      0.88      0.83      4500\n",
            "\n",
            "\n",
            "Classification report of DT\n",
            "              precision    recall  f1-score   support\n",
            "\n",
            "           0       0.60      0.17      0.27       534\n",
            "           1       0.90      0.98      0.94      3966\n",
            "\n",
            "    accuracy                           0.89      4500\n",
            "   macro avg       0.75      0.58      0.60      4500\n",
            "weighted avg       0.86      0.89      0.86      4500\n",
            "\n"
          ],
          "name": "stdout"
        }
      ]
    },
    {
      "cell_type": "markdown",
      "metadata": {
        "id": "gBd6KElkg9-a",
        "colab_type": "text"
      },
      "source": [
        "* If we want to know only about the customers who subscribed for term deposit, we can consider Recall (TPR) as our performance metric.  DT model is showing the highest Recall value (0.98).\n",
        "* The weighted Average f1-score is the highest in DT model. \n",
        "* The weighted average of Precision score is coming out to be the highest in KNN model.\n",
        "* Accuracy is the same for KNN and DT model.\n",
        "\n"
      ]
    },
    {
      "cell_type": "markdown",
      "metadata": {
        "id": "89i7tgHGec3T",
        "colab_type": "text"
      },
      "source": [
        "Confusion Matrices are shown below"
      ]
    },
    {
      "cell_type": "code",
      "metadata": {
        "id": "jlbU3JMPecdU",
        "colab_type": "code",
        "colab": {
          "base_uri": "https://localhost:8080/",
          "height": 221
        },
        "outputId": "2ca05d5b-793c-4ff4-f48b-4fb97ea6e6f6"
      },
      "source": [
        "from sklearn import metrics\n",
        "print(\"\\nConfusion matrix for K-Nearest Neighbor\") \n",
        "print(metrics.confusion_matrix(target_data_test, predict_KNN))\n",
        "print(\"\\nConfusion matrix for Naive Bayes\") \n",
        "print(metrics.confusion_matrix(target_data_test, predict_NB))\n",
        "print(\"\\nConfusion matrix for Decision Tree\") \n",
        "print(metrics.confusion_matrix(target_data_test, predict_DT))"
      ],
      "execution_count": 116,
      "outputs": [
        {
          "output_type": "stream",
          "text": [
            "\n",
            "Confusion matrix for K-Nearest Neighbor\n",
            "[[  33  501]\n",
            " [  11 3955]]\n",
            "\n",
            "Confusion matrix for Naive Bayes\n",
            "[[   0  534]\n",
            " [   0 3966]]\n",
            "\n",
            "Confusion matrix for Decision Tree\n",
            "[[  93  441]\n",
            " [  62 3904]]\n"
          ],
          "name": "stdout"
        }
      ]
    },
    {
      "cell_type": "markdown",
      "metadata": {
        "id": "t8qFY6PJmF5s",
        "colab_type": "text"
      },
      "source": [
        "#RESULT DISCUSSION AND LIMITATIONS"
      ]
    },
    {
      "cell_type": "markdown",
      "metadata": {
        "id": "XymLL0cgmOUG",
        "colab_type": "text"
      },
      "source": [
        "* We have sampled the whole dataset for faster run times , due to which there can be some variations in results while estimating our models. \n",
        "We can fit the whole dataset to see any possible difference in the results (though this can slow down the performance of PC if huge computational work causes processors to freeze).\n",
        "* After analysing the performance of each model classifiers, we can have a look at the other combinations in detail to see if the difference is truly significant or not.\n",
        "* Although Naive Bayes is the best model (considering AUC as our performance metrics) ,we can add more tuning parameters and analyse the result to see any difference.\n",
        "* By looking at the Classification Report of each Model , we can see that different performance metrics are showing different best models. \n",
        "* Although , while computing individual AUC score in training data, DT model is coming out to be the highest . While in test data , NB is showing the highest mean AUC score. "
      ]
    },
    {
      "cell_type": "markdown",
      "metadata": {
        "id": "aq6mi-MF8k6w",
        "colab_type": "text"
      },
      "source": [
        "#CONCLUSION"
      ]
    },
    {
      "cell_type": "markdown",
      "metadata": {
        "id": "m0X7Gmgs_8h9",
        "colab_type": "text"
      },
      "source": [
        "* *Decision Tree* model is coming out to be the best performing model on training data (AUC score as our main performance metrics) with a total of all  **34 features**  were selected by a **Random Forest Importance** method , a **minimum sample split of 150** and  **max_depth = 10** . \n",
        "* *Naive Bayes* model is statistically the best model (with AUC as our performance metrics) when compared on  test data.\n",
        "* However, If we use classification report as our performance metric, *Decision Tree* gives us the best Recall score when predicting weather the customer will subscribe for term deposit."
      ]
    }
  ]
}